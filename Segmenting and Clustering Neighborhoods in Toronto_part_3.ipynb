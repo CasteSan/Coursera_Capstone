{
 "metadata": {
  "language_info": {
   "codemirror_mode": {
    "name": "ipython",
    "version": 3
   },
   "file_extension": ".py",
   "mimetype": "text/x-python",
   "name": "python",
   "nbconvert_exporter": "python",
   "pygments_lexer": "ipython3",
   "version": "3.7.4-final"
  },
  "orig_nbformat": 2,
  "kernelspec": {
   "name": "python3",
   "display_name": "Python 3",
   "language": "python"
  }
 },
 "nbformat": 4,
 "nbformat_minor": 2,
 "cells": [
  {
   "source": [
    "# Coursera Capstone: Segmenting and Clustering Neighborhoods in Toronto"
   ],
   "cell_type": "markdown",
   "metadata": {}
  },
  {
   "source": [
    "## Introduction:\n",
    "\n",
    "In this assigment we will donwload the information of the neighborhoods in Toronto from the Wikipedia and explore it."
   ],
   "cell_type": "markdown",
   "metadata": {}
  },
  {
   "source": [
    "# PART 1"
   ],
   "cell_type": "markdown",
   "metadata": {}
  },
  {
   "source": [
    "## Setting the librarires that we will need for this analysis"
   ],
   "cell_type": "markdown",
   "metadata": {}
  },
  {
   "cell_type": "code",
   "execution_count": 1,
   "metadata": {},
   "outputs": [
    {
     "output_type": "stream",
     "name": "stdout",
     "text": [
      "Libraries imported.\n"
     ]
    }
   ],
   "source": [
    "import numpy as np # library to handle data in a vectorized manner\n",
    "\n",
    "import pandas as pd # library for data analysis\n",
    "\n",
    "import json # library to handle JSON files\n",
    "\n",
    "# !conda install -c conda-forge geopy --yes\n",
    "from geopy.geocoders import Nominatim # convert an address into latitude and longitude values\n",
    "\n",
    "import requests # library to handle requests\n",
    "from pandas.io.json import json_normalize # tranform JSON file into a pandas dataframe\n",
    "\n",
    "# Matplotlib and associated plotting modules\n",
    "import matplotlib.cm as cm\n",
    "import matplotlib.colors as colors\n",
    "\n",
    "# import k-means from clustering stage\n",
    "from sklearn.cluster import KMeans\n",
    "\n",
    "# !conda install -c conda-forge folium=0.5.0 --yes\n",
    "import folium # map rendering library\n",
    "\n",
    "print('Libraries imported.')"
   ]
  },
  {
   "source": [
    "## **Getting data from web page**\n",
    "\n",
    "We will read the page and convert the table into a dataframe using the pandas read_html method."
   ],
   "cell_type": "markdown",
   "metadata": {}
  },
  {
   "cell_type": "code",
   "execution_count": 2,
   "metadata": {},
   "outputs": [
    {
     "output_type": "execute_result",
     "data": {
      "text/plain": [
       "  Postal Code           Borough                                Neighbourhood\n",
       "0         M1A      Not assigned                                 Not assigned\n",
       "1         M2A      Not assigned                                 Not assigned\n",
       "2         M3A        North York                                    Parkwoods\n",
       "3         M4A        North York                             Victoria Village\n",
       "4         M5A  Downtown Toronto                    Regent Park, Harbourfront\n",
       "5         M6A        North York             Lawrence Manor, Lawrence Heights\n",
       "6         M7A  Downtown Toronto  Queen's Park, Ontario Provincial Government\n",
       "7         M8A      Not assigned                                 Not assigned\n",
       "8         M9A         Etobicoke      Islington Avenue, Humber Valley Village\n",
       "9         M1B       Scarborough                               Malvern, Rouge"
      ],
      "text/html": "<div>\n<style scoped>\n    .dataframe tbody tr th:only-of-type {\n        vertical-align: middle;\n    }\n\n    .dataframe tbody tr th {\n        vertical-align: top;\n    }\n\n    .dataframe thead th {\n        text-align: right;\n    }\n</style>\n<table border=\"1\" class=\"dataframe\">\n  <thead>\n    <tr style=\"text-align: right;\">\n      <th></th>\n      <th>Postal Code</th>\n      <th>Borough</th>\n      <th>Neighbourhood</th>\n    </tr>\n  </thead>\n  <tbody>\n    <tr>\n      <td>0</td>\n      <td>M1A</td>\n      <td>Not assigned</td>\n      <td>Not assigned</td>\n    </tr>\n    <tr>\n      <td>1</td>\n      <td>M2A</td>\n      <td>Not assigned</td>\n      <td>Not assigned</td>\n    </tr>\n    <tr>\n      <td>2</td>\n      <td>M3A</td>\n      <td>North York</td>\n      <td>Parkwoods</td>\n    </tr>\n    <tr>\n      <td>3</td>\n      <td>M4A</td>\n      <td>North York</td>\n      <td>Victoria Village</td>\n    </tr>\n    <tr>\n      <td>4</td>\n      <td>M5A</td>\n      <td>Downtown Toronto</td>\n      <td>Regent Park, Harbourfront</td>\n    </tr>\n    <tr>\n      <td>5</td>\n      <td>M6A</td>\n      <td>North York</td>\n      <td>Lawrence Manor, Lawrence Heights</td>\n    </tr>\n    <tr>\n      <td>6</td>\n      <td>M7A</td>\n      <td>Downtown Toronto</td>\n      <td>Queen's Park, Ontario Provincial Government</td>\n    </tr>\n    <tr>\n      <td>7</td>\n      <td>M8A</td>\n      <td>Not assigned</td>\n      <td>Not assigned</td>\n    </tr>\n    <tr>\n      <td>8</td>\n      <td>M9A</td>\n      <td>Etobicoke</td>\n      <td>Islington Avenue, Humber Valley Village</td>\n    </tr>\n    <tr>\n      <td>9</td>\n      <td>M1B</td>\n      <td>Scarborough</td>\n      <td>Malvern, Rouge</td>\n    </tr>\n  </tbody>\n</table>\n</div>"
     },
     "metadata": {},
     "execution_count": 2
    }
   ],
   "source": [
    "#get Toronto neighborhoods from Wikipedia page\n",
    "url = 'https://en.wikipedia.org/wiki/List_of_postal_codes_of_Canada:_M'\n",
    "\n",
    "#read the Wikipedia page - returns list of dataframes\n",
    "dfs_wiki = pd.read_html(url, header=0)\n",
    "\n",
    "#take the first dataframe from the returned list (it should be the only dataframe in the list)\n",
    "df = dfs_wiki[0]\n",
    "df.head(10)"
   ]
  },
  {
   "source": [
    "#### Now we delete all rows that have \"Not Assigned\" in Borough values"
   ],
   "cell_type": "markdown",
   "metadata": {}
  },
  {
   "cell_type": "code",
   "execution_count": 3,
   "metadata": {},
   "outputs": [
    {
     "output_type": "execute_result",
     "data": {
      "text/plain": [
       "   Postal Code           Borough                                Neighbourhood\n",
       "2          M3A        North York                                    Parkwoods\n",
       "3          M4A        North York                             Victoria Village\n",
       "4          M5A  Downtown Toronto                    Regent Park, Harbourfront\n",
       "5          M6A        North York             Lawrence Manor, Lawrence Heights\n",
       "6          M7A  Downtown Toronto  Queen's Park, Ontario Provincial Government\n",
       "8          M9A         Etobicoke      Islington Avenue, Humber Valley Village\n",
       "9          M1B       Scarborough                               Malvern, Rouge\n",
       "11         M3B        North York                                    Don Mills\n",
       "12         M4B         East York              Parkview Hill, Woodbine Gardens\n",
       "13         M5B  Downtown Toronto                     Garden District, Ryerson"
      ],
      "text/html": "<div>\n<style scoped>\n    .dataframe tbody tr th:only-of-type {\n        vertical-align: middle;\n    }\n\n    .dataframe tbody tr th {\n        vertical-align: top;\n    }\n\n    .dataframe thead th {\n        text-align: right;\n    }\n</style>\n<table border=\"1\" class=\"dataframe\">\n  <thead>\n    <tr style=\"text-align: right;\">\n      <th></th>\n      <th>Postal Code</th>\n      <th>Borough</th>\n      <th>Neighbourhood</th>\n    </tr>\n  </thead>\n  <tbody>\n    <tr>\n      <td>2</td>\n      <td>M3A</td>\n      <td>North York</td>\n      <td>Parkwoods</td>\n    </tr>\n    <tr>\n      <td>3</td>\n      <td>M4A</td>\n      <td>North York</td>\n      <td>Victoria Village</td>\n    </tr>\n    <tr>\n      <td>4</td>\n      <td>M5A</td>\n      <td>Downtown Toronto</td>\n      <td>Regent Park, Harbourfront</td>\n    </tr>\n    <tr>\n      <td>5</td>\n      <td>M6A</td>\n      <td>North York</td>\n      <td>Lawrence Manor, Lawrence Heights</td>\n    </tr>\n    <tr>\n      <td>6</td>\n      <td>M7A</td>\n      <td>Downtown Toronto</td>\n      <td>Queen's Park, Ontario Provincial Government</td>\n    </tr>\n    <tr>\n      <td>8</td>\n      <td>M9A</td>\n      <td>Etobicoke</td>\n      <td>Islington Avenue, Humber Valley Village</td>\n    </tr>\n    <tr>\n      <td>9</td>\n      <td>M1B</td>\n      <td>Scarborough</td>\n      <td>Malvern, Rouge</td>\n    </tr>\n    <tr>\n      <td>11</td>\n      <td>M3B</td>\n      <td>North York</td>\n      <td>Don Mills</td>\n    </tr>\n    <tr>\n      <td>12</td>\n      <td>M4B</td>\n      <td>East York</td>\n      <td>Parkview Hill, Woodbine Gardens</td>\n    </tr>\n    <tr>\n      <td>13</td>\n      <td>M5B</td>\n      <td>Downtown Toronto</td>\n      <td>Garden District, Ryerson</td>\n    </tr>\n  </tbody>\n</table>\n</div>"
     },
     "metadata": {},
     "execution_count": 3
    }
   ],
   "source": [
    "#create new dataframe with records where Borough is not 'Not assigned'\n",
    "df_assigned = df[df['Borough'] != 'Not assigned']\n",
    "df_assigned.head(10)"
   ]
  },
  {
   "source": [
    "#### In rows where the value of Neighbourhood is 'Not assigned' we will replace it with the value of the Borough."
   ],
   "cell_type": "markdown",
   "metadata": {}
  },
  {
   "cell_type": "code",
   "execution_count": 4,
   "metadata": {},
   "outputs": [
    {
     "output_type": "execute_result",
     "data": {
      "text/plain": [
       "   Postal Code           Borough                                Neighbourhood\n",
       "2          M3A        North York                                    Parkwoods\n",
       "3          M4A        North York                             Victoria Village\n",
       "4          M5A  Downtown Toronto                    Regent Park, Harbourfront\n",
       "5          M6A        North York             Lawrence Manor, Lawrence Heights\n",
       "6          M7A  Downtown Toronto  Queen's Park, Ontario Provincial Government\n",
       "8          M9A         Etobicoke      Islington Avenue, Humber Valley Village\n",
       "9          M1B       Scarborough                               Malvern, Rouge\n",
       "11         M3B        North York                                    Don Mills\n",
       "12         M4B         East York              Parkview Hill, Woodbine Gardens\n",
       "13         M5B  Downtown Toronto                     Garden District, Ryerson"
      ],
      "text/html": "<div>\n<style scoped>\n    .dataframe tbody tr th:only-of-type {\n        vertical-align: middle;\n    }\n\n    .dataframe tbody tr th {\n        vertical-align: top;\n    }\n\n    .dataframe thead th {\n        text-align: right;\n    }\n</style>\n<table border=\"1\" class=\"dataframe\">\n  <thead>\n    <tr style=\"text-align: right;\">\n      <th></th>\n      <th>Postal Code</th>\n      <th>Borough</th>\n      <th>Neighbourhood</th>\n    </tr>\n  </thead>\n  <tbody>\n    <tr>\n      <td>2</td>\n      <td>M3A</td>\n      <td>North York</td>\n      <td>Parkwoods</td>\n    </tr>\n    <tr>\n      <td>3</td>\n      <td>M4A</td>\n      <td>North York</td>\n      <td>Victoria Village</td>\n    </tr>\n    <tr>\n      <td>4</td>\n      <td>M5A</td>\n      <td>Downtown Toronto</td>\n      <td>Regent Park, Harbourfront</td>\n    </tr>\n    <tr>\n      <td>5</td>\n      <td>M6A</td>\n      <td>North York</td>\n      <td>Lawrence Manor, Lawrence Heights</td>\n    </tr>\n    <tr>\n      <td>6</td>\n      <td>M7A</td>\n      <td>Downtown Toronto</td>\n      <td>Queen's Park, Ontario Provincial Government</td>\n    </tr>\n    <tr>\n      <td>8</td>\n      <td>M9A</td>\n      <td>Etobicoke</td>\n      <td>Islington Avenue, Humber Valley Village</td>\n    </tr>\n    <tr>\n      <td>9</td>\n      <td>M1B</td>\n      <td>Scarborough</td>\n      <td>Malvern, Rouge</td>\n    </tr>\n    <tr>\n      <td>11</td>\n      <td>M3B</td>\n      <td>North York</td>\n      <td>Don Mills</td>\n    </tr>\n    <tr>\n      <td>12</td>\n      <td>M4B</td>\n      <td>East York</td>\n      <td>Parkview Hill, Woodbine Gardens</td>\n    </tr>\n    <tr>\n      <td>13</td>\n      <td>M5B</td>\n      <td>Downtown Toronto</td>\n      <td>Garden District, Ryerson</td>\n    </tr>\n  </tbody>\n</table>\n</div>"
     },
     "metadata": {},
     "execution_count": 4
    }
   ],
   "source": [
    "#create a list of neighborhoods, replacing the borough where neighborhood is 'Not assigned'\n",
    "new_neigh = df_assigned['Neighbourhood'].where(df_assigned['Neighbourhood'] != 'Not assigned', other = df_assigned['Borough'], axis = 0)\n",
    "#construct new dataframe using postcode and borough from the previous dataframe and neighborhood from the above list\n",
    "df_replaced = pd.concat([df_assigned['Postal Code'], df_assigned['Borough'], new_neigh], axis = 1)\n",
    "df_replaced.head(10)"
   ]
  },
  {
   "source": [
    "Whenever we have more than one row per postcode, we will concatenate all neighborhoods into a comma separated list"
   ],
   "cell_type": "markdown",
   "metadata": {}
  },
  {
   "cell_type": "code",
   "execution_count": 5,
   "metadata": {},
   "outputs": [
    {
     "output_type": "execute_result",
     "data": {
      "text/plain": [
       "  Postal Code      Borough                                    Neighbourhood\n",
       "0         M1B  Scarborough                                   Malvern, Rouge\n",
       "1         M1C  Scarborough           Rouge Hill, Port Union, Highland Creek\n",
       "2         M1E  Scarborough                Guildwood, Morningside, West Hill\n",
       "3         M1G  Scarborough                                           Woburn\n",
       "4         M1H  Scarborough                                        Cedarbrae\n",
       "5         M1J  Scarborough                              Scarborough Village\n",
       "6         M1K  Scarborough      Kennedy Park, Ionview, East Birchmount Park\n",
       "7         M1L  Scarborough                  Golden Mile, Clairlea, Oakridge\n",
       "8         M1M  Scarborough  Cliffside, Cliffcrest, Scarborough Village West\n",
       "9         M1N  Scarborough                      Birch Cliff, Cliffside West"
      ],
      "text/html": "<div>\n<style scoped>\n    .dataframe tbody tr th:only-of-type {\n        vertical-align: middle;\n    }\n\n    .dataframe tbody tr th {\n        vertical-align: top;\n    }\n\n    .dataframe thead th {\n        text-align: right;\n    }\n</style>\n<table border=\"1\" class=\"dataframe\">\n  <thead>\n    <tr style=\"text-align: right;\">\n      <th></th>\n      <th>Postal Code</th>\n      <th>Borough</th>\n      <th>Neighbourhood</th>\n    </tr>\n  </thead>\n  <tbody>\n    <tr>\n      <td>0</td>\n      <td>M1B</td>\n      <td>Scarborough</td>\n      <td>Malvern, Rouge</td>\n    </tr>\n    <tr>\n      <td>1</td>\n      <td>M1C</td>\n      <td>Scarborough</td>\n      <td>Rouge Hill, Port Union, Highland Creek</td>\n    </tr>\n    <tr>\n      <td>2</td>\n      <td>M1E</td>\n      <td>Scarborough</td>\n      <td>Guildwood, Morningside, West Hill</td>\n    </tr>\n    <tr>\n      <td>3</td>\n      <td>M1G</td>\n      <td>Scarborough</td>\n      <td>Woburn</td>\n    </tr>\n    <tr>\n      <td>4</td>\n      <td>M1H</td>\n      <td>Scarborough</td>\n      <td>Cedarbrae</td>\n    </tr>\n    <tr>\n      <td>5</td>\n      <td>M1J</td>\n      <td>Scarborough</td>\n      <td>Scarborough Village</td>\n    </tr>\n    <tr>\n      <td>6</td>\n      <td>M1K</td>\n      <td>Scarborough</td>\n      <td>Kennedy Park, Ionview, East Birchmount Park</td>\n    </tr>\n    <tr>\n      <td>7</td>\n      <td>M1L</td>\n      <td>Scarborough</td>\n      <td>Golden Mile, Clairlea, Oakridge</td>\n    </tr>\n    <tr>\n      <td>8</td>\n      <td>M1M</td>\n      <td>Scarborough</td>\n      <td>Cliffside, Cliffcrest, Scarborough Village West</td>\n    </tr>\n    <tr>\n      <td>9</td>\n      <td>M1N</td>\n      <td>Scarborough</td>\n      <td>Birch Cliff, Cliffside West</td>\n    </tr>\n  </tbody>\n</table>\n</div>"
     },
     "metadata": {},
     "execution_count": 5
    }
   ],
   "source": [
    "#group the dataframe by Postcode and Borough and concatenate all neighborhoods into comma separated list\n",
    "toronto_neighborhoods = df_replaced.groupby(['Postal Code', 'Borough'])['Neighbourhood'].apply(list).apply(lambda x: ', '.join(x)).to_frame()\n",
    "toronto_neighborhoods.reset_index(inplace = True)\n",
    "toronto_neighborhoods.head(10)"
   ]
  },
  {
   "cell_type": "code",
   "execution_count": 6,
   "metadata": {},
   "outputs": [
    {
     "output_type": "execute_result",
     "data": {
      "text/plain": [
       "(103, 3)"
      ]
     },
     "metadata": {},
     "execution_count": 6
    }
   ],
   "source": [
    "#display the shape of the resulting dataframe\n",
    "toronto_neighborhoods.shape"
   ]
  },
  {
   "source": [
    "# PART 2"
   ],
   "cell_type": "markdown",
   "metadata": {}
  },
  {
   "source": [
    "### ** Geographical location of Neighborhoods **\n",
    "\n",
    "In this part we are getting the latitude and the longitude coordinates of each neighborhood and add that info to the dataframe we are working on "
   ],
   "cell_type": "markdown",
   "metadata": {}
  },
  {
   "source": [
    "First we get the info from the latitudes and longitudes from the csv files"
   ],
   "cell_type": "markdown",
   "metadata": {}
  },
  {
   "cell_type": "code",
   "execution_count": 7,
   "metadata": {},
   "outputs": [
    {
     "output_type": "execute_result",
     "data": {
      "text/plain": [
       "  Postal Code   Latitude  Longitude\n",
       "0         M1B  43.806686 -79.194353\n",
       "1         M1C  43.784535 -79.160497\n",
       "2         M1E  43.763573 -79.188711\n",
       "3         M1G  43.770992 -79.216917\n",
       "4         M1H  43.773136 -79.239476"
      ],
      "text/html": "<div>\n<style scoped>\n    .dataframe tbody tr th:only-of-type {\n        vertical-align: middle;\n    }\n\n    .dataframe tbody tr th {\n        vertical-align: top;\n    }\n\n    .dataframe thead th {\n        text-align: right;\n    }\n</style>\n<table border=\"1\" class=\"dataframe\">\n  <thead>\n    <tr style=\"text-align: right;\">\n      <th></th>\n      <th>Postal Code</th>\n      <th>Latitude</th>\n      <th>Longitude</th>\n    </tr>\n  </thead>\n  <tbody>\n    <tr>\n      <td>0</td>\n      <td>M1B</td>\n      <td>43.806686</td>\n      <td>-79.194353</td>\n    </tr>\n    <tr>\n      <td>1</td>\n      <td>M1C</td>\n      <td>43.784535</td>\n      <td>-79.160497</td>\n    </tr>\n    <tr>\n      <td>2</td>\n      <td>M1E</td>\n      <td>43.763573</td>\n      <td>-79.188711</td>\n    </tr>\n    <tr>\n      <td>3</td>\n      <td>M1G</td>\n      <td>43.770992</td>\n      <td>-79.216917</td>\n    </tr>\n    <tr>\n      <td>4</td>\n      <td>M1H</td>\n      <td>43.773136</td>\n      <td>-79.239476</td>\n    </tr>\n  </tbody>\n</table>\n</div>"
     },
     "metadata": {},
     "execution_count": 7
    }
   ],
   "source": [
    "#read provided dataset\n",
    "coords = pd.read_csv('http://cocl.us/Geospatial_data')\n",
    "coords.head()"
   ]
  },
  {
   "source": [
    "In this step we combine the previous info to the dataframe using merge function"
   ],
   "cell_type": "markdown",
   "metadata": {}
  },
  {
   "cell_type": "code",
   "execution_count": 8,
   "metadata": {},
   "outputs": [
    {
     "output_type": "execute_result",
     "data": {
      "text/plain": [
       "  Postal Code      Borough                                    Neighbourhood  \\\n",
       "0         M1B  Scarborough                                   Malvern, Rouge   \n",
       "1         M1C  Scarborough           Rouge Hill, Port Union, Highland Creek   \n",
       "2         M1E  Scarborough                Guildwood, Morningside, West Hill   \n",
       "3         M1G  Scarborough                                           Woburn   \n",
       "4         M1H  Scarborough                                        Cedarbrae   \n",
       "5         M1J  Scarborough                              Scarborough Village   \n",
       "6         M1K  Scarborough      Kennedy Park, Ionview, East Birchmount Park   \n",
       "7         M1L  Scarborough                  Golden Mile, Clairlea, Oakridge   \n",
       "8         M1M  Scarborough  Cliffside, Cliffcrest, Scarborough Village West   \n",
       "9         M1N  Scarborough                      Birch Cliff, Cliffside West   \n",
       "\n",
       "    Latitude  Longitude  \n",
       "0  43.806686 -79.194353  \n",
       "1  43.784535 -79.160497  \n",
       "2  43.763573 -79.188711  \n",
       "3  43.770992 -79.216917  \n",
       "4  43.773136 -79.239476  \n",
       "5  43.744734 -79.239476  \n",
       "6  43.727929 -79.262029  \n",
       "7  43.711112 -79.284577  \n",
       "8  43.716316 -79.239476  \n",
       "9  43.692657 -79.264848  "
      ],
      "text/html": "<div>\n<style scoped>\n    .dataframe tbody tr th:only-of-type {\n        vertical-align: middle;\n    }\n\n    .dataframe tbody tr th {\n        vertical-align: top;\n    }\n\n    .dataframe thead th {\n        text-align: right;\n    }\n</style>\n<table border=\"1\" class=\"dataframe\">\n  <thead>\n    <tr style=\"text-align: right;\">\n      <th></th>\n      <th>Postal Code</th>\n      <th>Borough</th>\n      <th>Neighbourhood</th>\n      <th>Latitude</th>\n      <th>Longitude</th>\n    </tr>\n  </thead>\n  <tbody>\n    <tr>\n      <td>0</td>\n      <td>M1B</td>\n      <td>Scarborough</td>\n      <td>Malvern, Rouge</td>\n      <td>43.806686</td>\n      <td>-79.194353</td>\n    </tr>\n    <tr>\n      <td>1</td>\n      <td>M1C</td>\n      <td>Scarborough</td>\n      <td>Rouge Hill, Port Union, Highland Creek</td>\n      <td>43.784535</td>\n      <td>-79.160497</td>\n    </tr>\n    <tr>\n      <td>2</td>\n      <td>M1E</td>\n      <td>Scarborough</td>\n      <td>Guildwood, Morningside, West Hill</td>\n      <td>43.763573</td>\n      <td>-79.188711</td>\n    </tr>\n    <tr>\n      <td>3</td>\n      <td>M1G</td>\n      <td>Scarborough</td>\n      <td>Woburn</td>\n      <td>43.770992</td>\n      <td>-79.216917</td>\n    </tr>\n    <tr>\n      <td>4</td>\n      <td>M1H</td>\n      <td>Scarborough</td>\n      <td>Cedarbrae</td>\n      <td>43.773136</td>\n      <td>-79.239476</td>\n    </tr>\n    <tr>\n      <td>5</td>\n      <td>M1J</td>\n      <td>Scarborough</td>\n      <td>Scarborough Village</td>\n      <td>43.744734</td>\n      <td>-79.239476</td>\n    </tr>\n    <tr>\n      <td>6</td>\n      <td>M1K</td>\n      <td>Scarborough</td>\n      <td>Kennedy Park, Ionview, East Birchmount Park</td>\n      <td>43.727929</td>\n      <td>-79.262029</td>\n    </tr>\n    <tr>\n      <td>7</td>\n      <td>M1L</td>\n      <td>Scarborough</td>\n      <td>Golden Mile, Clairlea, Oakridge</td>\n      <td>43.711112</td>\n      <td>-79.284577</td>\n    </tr>\n    <tr>\n      <td>8</td>\n      <td>M1M</td>\n      <td>Scarborough</td>\n      <td>Cliffside, Cliffcrest, Scarborough Village West</td>\n      <td>43.716316</td>\n      <td>-79.239476</td>\n    </tr>\n    <tr>\n      <td>9</td>\n      <td>M1N</td>\n      <td>Scarborough</td>\n      <td>Birch Cliff, Cliffside West</td>\n      <td>43.692657</td>\n      <td>-79.264848</td>\n    </tr>\n  </tbody>\n</table>\n</div>"
     },
     "metadata": {},
     "execution_count": 8
    }
   ],
   "source": [
    "toronto_neighborhoods = pd.merge(toronto_neighborhoods, coords, left_on = 'Postal Code', right_on = 'Postal Code')[['Postal Code', 'Borough', 'Neighbourhood', 'Latitude', 'Longitude']]\n",
    "toronto_neighborhoods.head(10)"
   ]
  },
  {
   "cell_type": "code",
   "execution_count": 9,
   "metadata": {},
   "outputs": [
    {
     "output_type": "execute_result",
     "data": {
      "text/plain": [
       "(103, 5)"
      ]
     },
     "metadata": {},
     "execution_count": 9
    }
   ],
   "source": [
    "toronto_neighborhoods.shape"
   ]
  },
  {
   "source": [
    "# PART 3 - Analysis of neighborhoods in Toronto\n",
    "\n",
    "Now I am goiny to use the Foursquare API to explore the neighborhoods of Toronto like in New York's task"
   ],
   "cell_type": "markdown",
   "metadata": {}
  },
  {
   "source": [
    "** First I define API credentials **"
   ],
   "cell_type": "markdown",
   "metadata": {}
  },
  {
   "cell_type": "code",
   "execution_count": 10,
   "metadata": {},
   "outputs": [],
   "source": [
    "## Code deleted "
   ]
  },
  {
   "source": [
    "** Explore the first neighborhood in the dataframe **"
   ],
   "cell_type": "markdown",
   "metadata": {}
  },
  {
   "cell_type": "code",
   "execution_count": 11,
   "metadata": {},
   "outputs": [
    {
     "output_type": "stream",
     "name": "stdout",
     "text": [
      "Latitude and longitude values of Malvern, Rouge are 43.806686299999996, -79.19435340000001.\n"
     ]
    }
   ],
   "source": [
    "neighborhood_name = toronto_neighborhoods.loc[0, 'Neighbourhood'] # neighborhood name\n",
    "neighborhood_latitude = toronto_neighborhoods.loc[0, 'Latitude'] # neighborhood latitude value\n",
    "neighborhood_longitude = toronto_neighborhoods.loc[0, 'Longitude'] # neighborhood longitude value\n",
    "\n",
    "print('Latitude and longitude values of {} are {}, {}.'.format(neighborhood_name, \n",
    "                                                               neighborhood_latitude, \n",
    "                                                               neighborhood_longitude))"
   ]
  },
  {
   "source": [
    "** Now we get the top 100 venues that are in the above neighborhood within a radious of 500 meters **"
   ],
   "cell_type": "markdown",
   "metadata": {}
  },
  {
   "cell_type": "code",
   "execution_count": null,
   "metadata": {},
   "outputs": [],
   "source": []
  },
  {
   "cell_type": "code",
   "execution_count": 18,
   "metadata": {},
   "outputs": [
    {
     "output_type": "stream",
     "name": "stdout",
     "text": [
      "Your credentails:\nCLIENT_ID: xx\nCLIENT_SECRET:xx\n"
     ]
    }
   ],
   "source": [
    "CLIENT_ID = 'xx' # your Foursquare ID\n",
    "CLIENT_SECRET = 'xx' # your Foursquare Secret\n",
    "VERSION = '20201010' # Foursquare API version\n",
    "LIMIT = 100 # A default Foursquare API limit value\n",
    "\n",
    "print('Your credentails:')\n",
    "print('CLIENT_ID: ' + CLIENT_ID)\n",
    "print('CLIENT_SECRET:' + CLIENT_SECRET)"
   ]
  },
  {
   "cell_type": "code",
   "execution_count": 13,
   "metadata": {},
   "outputs": [],
   "source": [
    "LIMIT = 100 # limit of number of venues returned by Foursquare API\n",
    "radius = 500 # define radius\n",
    "url = 'https://api.foursquare.com/v2/venues/explore?&client_id={}&client_secret={}&v={}&ll={},{}&radius={}&limit={}'.format(\n",
    "    CLIENT_ID, \n",
    "    CLIENT_SECRET, \n",
    "    VERSION, \n",
    "    neighborhood_latitude, \n",
    "    neighborhood_longitude, \n",
    "    radius, \n",
    "    LIMIT)"
   ]
  },
  {
   "cell_type": "code",
   "execution_count": 14,
   "metadata": {},
   "outputs": [],
   "source": [
    "results = requests.get(url).json()"
   ]
  },
  {
   "source": [
    "Before going on we will create the get_category_type function which extracts the category name from a JSON object"
   ],
   "cell_type": "markdown",
   "metadata": {}
  },
  {
   "cell_type": "code",
   "execution_count": 15,
   "metadata": {},
   "outputs": [],
   "source": [
    "\n",
    "# function that extracts the category of the venue\n",
    "def get_category_type(row):\n",
    "    try:\n",
    "        categories_list = row['categories']\n",
    "    except:\n",
    "        categories_list = row['venue.categories']\n",
    "        \n",
    "    if len(categories_list) == 0:\n",
    "        return None\n",
    "    else:\n",
    "        return categories_list[0]['name']"
   ]
  },
  {
   "cell_type": "code",
   "execution_count": 16,
   "metadata": {},
   "outputs": [
    {
     "output_type": "error",
     "ename": "KeyError",
     "evalue": "'groups'",
     "traceback": [
      "\u001b[1;31m---------------------------------------------------------------------------\u001b[0m",
      "\u001b[1;31mKeyError\u001b[0m                                  Traceback (most recent call last)",
      "\u001b[1;32m<ipython-input-16-c1914bcd66cb>\u001b[0m in \u001b[0;36m<module>\u001b[1;34m\u001b[0m\n\u001b[0;32m      1\u001b[0m \u001b[1;31m#extract the items key from the results\u001b[0m\u001b[1;33m\u001b[0m\u001b[1;33m\u001b[0m\u001b[1;33m\u001b[0m\u001b[0m\n\u001b[1;32m----> 2\u001b[1;33m \u001b[0mvenues\u001b[0m \u001b[1;33m=\u001b[0m \u001b[0mresults\u001b[0m\u001b[1;33m[\u001b[0m\u001b[1;34m'response'\u001b[0m\u001b[1;33m]\u001b[0m\u001b[1;33m[\u001b[0m\u001b[1;34m'groups'\u001b[0m\u001b[1;33m]\u001b[0m\u001b[1;33m[\u001b[0m\u001b[1;36m0\u001b[0m\u001b[1;33m]\u001b[0m\u001b[1;33m[\u001b[0m\u001b[1;34m'items'\u001b[0m\u001b[1;33m]\u001b[0m\u001b[1;33m\u001b[0m\u001b[1;33m\u001b[0m\u001b[0m\n\u001b[0m\u001b[0;32m      3\u001b[0m \u001b[1;31m#flatten JSON into a dataframe\u001b[0m\u001b[1;33m\u001b[0m\u001b[1;33m\u001b[0m\u001b[1;33m\u001b[0m\u001b[0m\n\u001b[0;32m      4\u001b[0m \u001b[0mnearby_venues\u001b[0m \u001b[1;33m=\u001b[0m \u001b[0mjson_normalize\u001b[0m\u001b[1;33m(\u001b[0m\u001b[0mvenues\u001b[0m\u001b[1;33m)\u001b[0m\u001b[1;33m\u001b[0m\u001b[1;33m\u001b[0m\u001b[0m\n\u001b[0;32m      5\u001b[0m \u001b[1;31m#filter columns that we need for further analysis\u001b[0m\u001b[1;33m\u001b[0m\u001b[1;33m\u001b[0m\u001b[1;33m\u001b[0m\u001b[0m\n",
      "\u001b[1;31mKeyError\u001b[0m: 'groups'"
     ]
    }
   ],
   "source": [
    "#extract the items key from the results\n",
    "venues = results['response']['groups'][0]['items']\n",
    "#flatten JSON into a dataframe\n",
    "nearby_venues = json_normalize(venues) \n",
    "#filter columns that we need for further analysis\n",
    "filtered_columns = ['venue.name', 'venue.categories', 'venue.location.lat', 'venue.location.lng']\n",
    "nearby_venues = nearby_venues.loc[:, filtered_columns]\n",
    "#extract the category for each row using the previously defined function\n",
    "nearby_venues['venue.categories'] = nearby_venues.apply(get_category_type, axis=1)\n",
    "# clean columns ?????????????????????????????????????????????\n",
    "#nearby_venues.columns = [col.split(\".\")[-1] for col in nearby_venues.columns]\n",
    "\n",
    "nearby_venues"
   ]
  },
  {
   "source": [
    "Create a function to repeat the same process as above to all the neighborhoods in Toronto¶"
   ],
   "cell_type": "markdown",
   "metadata": {}
  },
  {
   "cell_type": "code",
   "execution_count": 27,
   "metadata": {},
   "outputs": [],
   "source": [
    "def getNearbyVenues(names, latitudes, longitudes, radius=500):\n",
    "    \n",
    "    venues_list=[]\n",
    "    for name, lat, lng in zip(names, latitudes, longitudes):\n",
    "        print(name)\n",
    "            \n",
    "        # create the API request URL\n",
    "        url = 'https://api.foursquare.com/v2/venues/explore?&client_id={}&client_secret={}&v={}&ll={},{}&radius={}&limit={}'.format(\n",
    "            CLIENT_ID, \n",
    "            CLIENT_SECRET, \n",
    "            VERSION, \n",
    "            lat, \n",
    "            lng, \n",
    "            radius, \n",
    "            LIMIT)\n",
    "            \n",
    "        # make the GET request\n",
    "        results = requests.get(url).json()[\"response\"]['groups'][0]['items']\n",
    "        \n",
    "        # return only relevant information for each nearby venue\n",
    "        venues_list.append([(\n",
    "            name, \n",
    "            lat, \n",
    "            lng, \n",
    "            v['venue']['name'], \n",
    "            v['venue']['location']['lat'], \n",
    "            v['venue']['location']['lng'],  \n",
    "            v['venue']['categories'][0]['name']) for v in results])\n",
    "\n",
    "    nearby_venues = pd.DataFrame([item for venue_list in venues_list for item in venue_list])\n",
    "    nearby_venues.columns = ['Neighborhood', \n",
    "                  'Neighborhood Latitude', \n",
    "                  'Neighborhood Longitude', \n",
    "                  'Venue', \n",
    "                  'Venue Latitude', \n",
    "                  'Venue Longitude', \n",
    "                  'Venue Category']\n",
    "    \n",
    "    return(nearby_venues)"
   ]
  },
  {
   "source": [
    "The following code executes the above function on each neighborhood and creates a new dataframe called toronto_venues."
   ],
   "cell_type": "markdown",
   "metadata": {}
  },
  {
   "cell_type": "code",
   "execution_count": 28,
   "metadata": {},
   "outputs": [
    {
     "output_type": "stream",
     "name": "stdout",
     "text": [
      "Malvern, Rouge\n"
     ]
    },
    {
     "output_type": "error",
     "ename": "KeyError",
     "evalue": "'groups'",
     "traceback": [
      "\u001b[1;31m---------------------------------------------------------------------------\u001b[0m",
      "\u001b[1;31mKeyError\u001b[0m                                  Traceback (most recent call last)",
      "\u001b[1;32m<ipython-input-28-338d3b1aade0>\u001b[0m in \u001b[0;36m<module>\u001b[1;34m\u001b[0m\n\u001b[0;32m      1\u001b[0m toronto_venues = getNearbyVenues(names = toronto_neighborhoods['Neighbourhood'],\n\u001b[0;32m      2\u001b[0m                                    \u001b[0mlatitudes\u001b[0m \u001b[1;33m=\u001b[0m \u001b[0mtoronto_neighborhoods\u001b[0m\u001b[1;33m[\u001b[0m\u001b[1;34m'Latitude'\u001b[0m\u001b[1;33m]\u001b[0m\u001b[1;33m,\u001b[0m\u001b[1;33m\u001b[0m\u001b[1;33m\u001b[0m\u001b[0m\n\u001b[1;32m----> 3\u001b[1;33m                                    \u001b[0mlongitudes\u001b[0m \u001b[1;33m=\u001b[0m \u001b[0mtoronto_neighborhoods\u001b[0m\u001b[1;33m[\u001b[0m\u001b[1;34m'Longitude'\u001b[0m\u001b[1;33m]\u001b[0m\u001b[1;33m\u001b[0m\u001b[1;33m\u001b[0m\u001b[0m\n\u001b[0m\u001b[0;32m      4\u001b[0m                                   )\n",
      "\u001b[1;32m<ipython-input-27-8c9a08363335>\u001b[0m in \u001b[0;36mgetNearbyVenues\u001b[1;34m(names, latitudes, longitudes, radius)\u001b[0m\n\u001b[0;32m     16\u001b[0m \u001b[1;33m\u001b[0m\u001b[0m\n\u001b[0;32m     17\u001b[0m         \u001b[1;31m# make the GET request\u001b[0m\u001b[1;33m\u001b[0m\u001b[1;33m\u001b[0m\u001b[1;33m\u001b[0m\u001b[0m\n\u001b[1;32m---> 18\u001b[1;33m         \u001b[0mresults\u001b[0m \u001b[1;33m=\u001b[0m \u001b[0mrequests\u001b[0m\u001b[1;33m.\u001b[0m\u001b[0mget\u001b[0m\u001b[1;33m(\u001b[0m\u001b[0murl\u001b[0m\u001b[1;33m)\u001b[0m\u001b[1;33m.\u001b[0m\u001b[0mjson\u001b[0m\u001b[1;33m(\u001b[0m\u001b[1;33m)\u001b[0m\u001b[1;33m[\u001b[0m\u001b[1;34m\"response\"\u001b[0m\u001b[1;33m]\u001b[0m\u001b[1;33m[\u001b[0m\u001b[1;34m'groups'\u001b[0m\u001b[1;33m]\u001b[0m\u001b[1;33m[\u001b[0m\u001b[1;36m0\u001b[0m\u001b[1;33m]\u001b[0m\u001b[1;33m[\u001b[0m\u001b[1;34m'items'\u001b[0m\u001b[1;33m]\u001b[0m\u001b[1;33m\u001b[0m\u001b[1;33m\u001b[0m\u001b[0m\n\u001b[0m\u001b[0;32m     19\u001b[0m \u001b[1;33m\u001b[0m\u001b[0m\n\u001b[0;32m     20\u001b[0m         \u001b[1;31m# return only relevant information for each nearby venue\u001b[0m\u001b[1;33m\u001b[0m\u001b[1;33m\u001b[0m\u001b[1;33m\u001b[0m\u001b[0m\n",
      "\u001b[1;31mKeyError\u001b[0m: 'groups'"
     ]
    }
   ],
   "source": [
    "toronto_venues = getNearbyVenues(names = toronto_neighborhoods['Neighbourhood'],\n",
    "                                   latitudes = toronto_neighborhoods['Latitude'],\n",
    "                                   longitudes = toronto_neighborhoods['Longitude']\n",
    "                                  )"
   ]
  },
  {
   "cell_type": "code",
   "execution_count": 19,
   "metadata": {},
   "outputs": [
    {
     "output_type": "stream",
     "name": "stdout",
     "text": [
      "(2126, 7)\n"
     ]
    },
    {
     "output_type": "execute_result",
     "data": {
      "text/plain": [
       "                             Neighborhood  Neighborhood Latitude  \\\n",
       "0                          Malvern, Rouge              43.806686   \n",
       "1  Rouge Hill, Port Union, Highland Creek              43.784535   \n",
       "2  Rouge Hill, Port Union, Highland Creek              43.784535   \n",
       "3       Guildwood, Morningside, West Hill              43.763573   \n",
       "4       Guildwood, Morningside, West Hill              43.763573   \n",
       "\n",
       "   Neighborhood Longitude                  Venue  Venue Latitude  \\\n",
       "0              -79.194353                Wendy’s       43.807448   \n",
       "1              -79.160497      RIGHT WAY TO GOLF       43.785177   \n",
       "2              -79.160497  Royal Canadian Legion       43.782533   \n",
       "3              -79.188711         RBC Royal Bank       43.766790   \n",
       "4              -79.188711      G & G Electronics       43.765309   \n",
       "\n",
       "   Venue Longitude        Venue Category  \n",
       "0       -79.199056  Fast Food Restaurant  \n",
       "1       -79.161108           Golf Course  \n",
       "2       -79.163085                   Bar  \n",
       "3       -79.191151                  Bank  \n",
       "4       -79.191537     Electronics Store  "
      ],
      "text/html": "<div>\n<style scoped>\n    .dataframe tbody tr th:only-of-type {\n        vertical-align: middle;\n    }\n\n    .dataframe tbody tr th {\n        vertical-align: top;\n    }\n\n    .dataframe thead th {\n        text-align: right;\n    }\n</style>\n<table border=\"1\" class=\"dataframe\">\n  <thead>\n    <tr style=\"text-align: right;\">\n      <th></th>\n      <th>Neighborhood</th>\n      <th>Neighborhood Latitude</th>\n      <th>Neighborhood Longitude</th>\n      <th>Venue</th>\n      <th>Venue Latitude</th>\n      <th>Venue Longitude</th>\n      <th>Venue Category</th>\n    </tr>\n  </thead>\n  <tbody>\n    <tr>\n      <td>0</td>\n      <td>Malvern, Rouge</td>\n      <td>43.806686</td>\n      <td>-79.194353</td>\n      <td>Wendy’s</td>\n      <td>43.807448</td>\n      <td>-79.199056</td>\n      <td>Fast Food Restaurant</td>\n    </tr>\n    <tr>\n      <td>1</td>\n      <td>Rouge Hill, Port Union, Highland Creek</td>\n      <td>43.784535</td>\n      <td>-79.160497</td>\n      <td>RIGHT WAY TO GOLF</td>\n      <td>43.785177</td>\n      <td>-79.161108</td>\n      <td>Golf Course</td>\n    </tr>\n    <tr>\n      <td>2</td>\n      <td>Rouge Hill, Port Union, Highland Creek</td>\n      <td>43.784535</td>\n      <td>-79.160497</td>\n      <td>Royal Canadian Legion</td>\n      <td>43.782533</td>\n      <td>-79.163085</td>\n      <td>Bar</td>\n    </tr>\n    <tr>\n      <td>3</td>\n      <td>Guildwood, Morningside, West Hill</td>\n      <td>43.763573</td>\n      <td>-79.188711</td>\n      <td>RBC Royal Bank</td>\n      <td>43.766790</td>\n      <td>-79.191151</td>\n      <td>Bank</td>\n    </tr>\n    <tr>\n      <td>4</td>\n      <td>Guildwood, Morningside, West Hill</td>\n      <td>43.763573</td>\n      <td>-79.188711</td>\n      <td>G &amp; G Electronics</td>\n      <td>43.765309</td>\n      <td>-79.191537</td>\n      <td>Electronics Store</td>\n    </tr>\n  </tbody>\n</table>\n</div>"
     },
     "metadata": {},
     "execution_count": 19
    }
   ],
   "source": [
    "print(toronto_venues.shape)\n",
    "toronto_venues.head()"
   ]
  },
  {
   "source": [
    "Count number of venue categories by neighborhood"
   ],
   "cell_type": "markdown",
   "metadata": {}
  },
  {
   "cell_type": "code",
   "execution_count": 20,
   "metadata": {},
   "outputs": [
    {
     "output_type": "execute_result",
     "data": {
      "text/plain": [
       "                                                 Neighborhood Latitude  \\\n",
       "Neighborhood                                                             \n",
       "Agincourt                                                            4   \n",
       "Alderwood, Long Branch                                               7   \n",
       "Bathurst Manor, Wilson Heights, Downsview North                     19   \n",
       "Bayview Village                                                      4   \n",
       "Bedford Park, Lawrence Manor East                                   24   \n",
       "...                                                                ...   \n",
       "Willowdale, Willowdale West                                          5   \n",
       "Woburn                                                               4   \n",
       "Woodbine Heights                                                     6   \n",
       "York Mills West                                                      2   \n",
       "York Mills, Silver Hills                                             1   \n",
       "\n",
       "                                                 Neighborhood Longitude  \\\n",
       "Neighborhood                                                              \n",
       "Agincourt                                                             4   \n",
       "Alderwood, Long Branch                                                7   \n",
       "Bathurst Manor, Wilson Heights, Downsview North                      19   \n",
       "Bayview Village                                                       4   \n",
       "Bedford Park, Lawrence Manor East                                    24   \n",
       "...                                                                 ...   \n",
       "Willowdale, Willowdale West                                           5   \n",
       "Woburn                                                                4   \n",
       "Woodbine Heights                                                      6   \n",
       "York Mills West                                                       2   \n",
       "York Mills, Silver Hills                                              1   \n",
       "\n",
       "                                                 Venue  Venue Latitude  \\\n",
       "Neighborhood                                                             \n",
       "Agincourt                                            4               4   \n",
       "Alderwood, Long Branch                               7               7   \n",
       "Bathurst Manor, Wilson Heights, Downsview North     19              19   \n",
       "Bayview Village                                      4               4   \n",
       "Bedford Park, Lawrence Manor East                   24              24   \n",
       "...                                                ...             ...   \n",
       "Willowdale, Willowdale West                          5               5   \n",
       "Woburn                                               4               4   \n",
       "Woodbine Heights                                     6               6   \n",
       "York Mills West                                      2               2   \n",
       "York Mills, Silver Hills                             1               1   \n",
       "\n",
       "                                                 Venue Longitude  \\\n",
       "Neighborhood                                                       \n",
       "Agincourt                                                      4   \n",
       "Alderwood, Long Branch                                         7   \n",
       "Bathurst Manor, Wilson Heights, Downsview North               19   \n",
       "Bayview Village                                                4   \n",
       "Bedford Park, Lawrence Manor East                             24   \n",
       "...                                                          ...   \n",
       "Willowdale, Willowdale West                                    5   \n",
       "Woburn                                                         4   \n",
       "Woodbine Heights                                               6   \n",
       "York Mills West                                                2   \n",
       "York Mills, Silver Hills                                       1   \n",
       "\n",
       "                                                 Venue Category  \n",
       "Neighborhood                                                     \n",
       "Agincourt                                                     4  \n",
       "Alderwood, Long Branch                                        7  \n",
       "Bathurst Manor, Wilson Heights, Downsview North              19  \n",
       "Bayview Village                                               4  \n",
       "Bedford Park, Lawrence Manor East                            24  \n",
       "...                                                         ...  \n",
       "Willowdale, Willowdale West                                   5  \n",
       "Woburn                                                        4  \n",
       "Woodbine Heights                                              6  \n",
       "York Mills West                                               2  \n",
       "York Mills, Silver Hills                                      1  \n",
       "\n",
       "[96 rows x 6 columns]"
      ],
      "text/html": "<div>\n<style scoped>\n    .dataframe tbody tr th:only-of-type {\n        vertical-align: middle;\n    }\n\n    .dataframe tbody tr th {\n        vertical-align: top;\n    }\n\n    .dataframe thead th {\n        text-align: right;\n    }\n</style>\n<table border=\"1\" class=\"dataframe\">\n  <thead>\n    <tr style=\"text-align: right;\">\n      <th></th>\n      <th>Neighborhood Latitude</th>\n      <th>Neighborhood Longitude</th>\n      <th>Venue</th>\n      <th>Venue Latitude</th>\n      <th>Venue Longitude</th>\n      <th>Venue Category</th>\n    </tr>\n    <tr>\n      <th>Neighborhood</th>\n      <th></th>\n      <th></th>\n      <th></th>\n      <th></th>\n      <th></th>\n      <th></th>\n    </tr>\n  </thead>\n  <tbody>\n    <tr>\n      <td>Agincourt</td>\n      <td>4</td>\n      <td>4</td>\n      <td>4</td>\n      <td>4</td>\n      <td>4</td>\n      <td>4</td>\n    </tr>\n    <tr>\n      <td>Alderwood, Long Branch</td>\n      <td>7</td>\n      <td>7</td>\n      <td>7</td>\n      <td>7</td>\n      <td>7</td>\n      <td>7</td>\n    </tr>\n    <tr>\n      <td>Bathurst Manor, Wilson Heights, Downsview North</td>\n      <td>19</td>\n      <td>19</td>\n      <td>19</td>\n      <td>19</td>\n      <td>19</td>\n      <td>19</td>\n    </tr>\n    <tr>\n      <td>Bayview Village</td>\n      <td>4</td>\n      <td>4</td>\n      <td>4</td>\n      <td>4</td>\n      <td>4</td>\n      <td>4</td>\n    </tr>\n    <tr>\n      <td>Bedford Park, Lawrence Manor East</td>\n      <td>24</td>\n      <td>24</td>\n      <td>24</td>\n      <td>24</td>\n      <td>24</td>\n      <td>24</td>\n    </tr>\n    <tr>\n      <td>...</td>\n      <td>...</td>\n      <td>...</td>\n      <td>...</td>\n      <td>...</td>\n      <td>...</td>\n      <td>...</td>\n    </tr>\n    <tr>\n      <td>Willowdale, Willowdale West</td>\n      <td>5</td>\n      <td>5</td>\n      <td>5</td>\n      <td>5</td>\n      <td>5</td>\n      <td>5</td>\n    </tr>\n    <tr>\n      <td>Woburn</td>\n      <td>4</td>\n      <td>4</td>\n      <td>4</td>\n      <td>4</td>\n      <td>4</td>\n      <td>4</td>\n    </tr>\n    <tr>\n      <td>Woodbine Heights</td>\n      <td>6</td>\n      <td>6</td>\n      <td>6</td>\n      <td>6</td>\n      <td>6</td>\n      <td>6</td>\n    </tr>\n    <tr>\n      <td>York Mills West</td>\n      <td>2</td>\n      <td>2</td>\n      <td>2</td>\n      <td>2</td>\n      <td>2</td>\n      <td>2</td>\n    </tr>\n    <tr>\n      <td>York Mills, Silver Hills</td>\n      <td>1</td>\n      <td>1</td>\n      <td>1</td>\n      <td>1</td>\n      <td>1</td>\n      <td>1</td>\n    </tr>\n  </tbody>\n</table>\n<p>96 rows × 6 columns</p>\n</div>"
     },
     "metadata": {},
     "execution_count": 20
    }
   ],
   "source": [
    "toronto_venues.groupby('Neighborhood').count()"
   ]
  },
  {
   "cell_type": "code",
   "execution_count": 21,
   "metadata": {},
   "outputs": [
    {
     "output_type": "stream",
     "name": "stdout",
     "text": [
      "There are 272 unique categories.\n"
     ]
    }
   ],
   "source": [
    "print('There are {} unique categories.'.format(len(toronto_venues['Venue Category'].unique())))"
   ]
  },
  {
   "source": [
    "We see that many neighborhoods have fewer than 10 different venue categories. It doesn't make sense to include these in segmentation because there is not enough data to characterize them. Therefore we will exclude these from the dataset.\n",
    "\n",
    "But first, we have to check how many neighborhoods have fewer than 10 venue categories to ensure that we still have enough neighborhoods left for segmentation."
   ],
   "cell_type": "markdown",
   "metadata": {}
  },
  {
   "cell_type": "code",
   "execution_count": 22,
   "metadata": {},
   "outputs": [
    {
     "output_type": "stream",
     "name": "stdout",
     "text": [
      "There are 47 neighborhoods with fewer than 10 venue categories.\n"
     ]
    }
   ],
   "source": [
    "#store the results of the above counts into a dataframe\n",
    "toronto_venues_count = toronto_venues.groupby('Neighborhood').count()\n",
    "print('There are {} neighborhoods with fewer than 10 venue categories.'.format(toronto_venues_count[toronto_venues_count['Venue Category'] < 10].shape[0]))"
   ]
  },
  {
   "source": [
    "Therefore we will exclude the neighborhoods with fewer than 10 venue categories."
   ],
   "cell_type": "markdown",
   "metadata": {}
  },
  {
   "cell_type": "code",
   "execution_count": 23,
   "metadata": {},
   "outputs": [
    {
     "output_type": "execute_result",
     "data": {
      "text/plain": [
       "(49, 6)"
      ]
     },
     "metadata": {},
     "execution_count": 23
    }
   ],
   "source": [
    "\n",
    "#create list with neighborhoods to exclude\n",
    "neigh_to_exclude = toronto_venues_count[toronto_venues_count['Venue Category'] < 10].index.tolist()\n",
    "#create filtered dataframe by excluding neighborhoods in above list\n",
    "toronto_venues_filt = toronto_venues[~toronto_venues['Neighborhood'].isin(neigh_to_exclude)]\n",
    "#check size of resulting dataframe\n",
    "toronto_venues_filt.groupby('Neighborhood').count().shape"
   ]
  },
  {
   "source": [
    "The number of neighborhoods is sufficient for further analysis. We will rename the filtered dataset toronto_venues_filt back to the original dataset toronto_venues."
   ],
   "cell_type": "markdown",
   "metadata": {}
  },
  {
   "cell_type": "code",
   "execution_count": 24,
   "metadata": {},
   "outputs": [],
   "source": [
    "toronto_venues = toronto_venues_filt"
   ]
  },
  {
   "source": [
    "## Analysis of each Neighorhood"
   ],
   "cell_type": "markdown",
   "metadata": {}
  },
  {
   "source": [
    "We will do one hot encoding to pivot category values into columns of the dataframe.\n",
    "\n",
    "There is one observation that we have to be careful about: one of the category values is Neighborhood. After one hot encoding, this value will become a column name. We are already using the column Neighborhood to represent the neighborhood name. To avoid confusing these columns, we will rename the column that comes from one hot encoding as Neighborhood Category."
   ],
   "cell_type": "markdown",
   "metadata": {}
  },
  {
   "cell_type": "code",
   "execution_count": 25,
   "metadata": {},
   "outputs": [],
   "source": [
    "# one hot encoding\n",
    "toronto_onehot = pd.get_dummies(toronto_venues[['Venue Category']], prefix=\"\", prefix_sep=\"\")\n",
    "\n",
    "#rename the column 'Neighborhood' which represents a category name to 'Neighborhood Category' \n",
    "#this is to distinguish this column from the 'Neighborhood' column which we want to continue to use as the neighborhood name\n",
    "toronto_onehot.rename(columns={'Neighborhood':'Neighborhood Category'}, inplace=True)\n",
    "\n",
    "# add neighborhood column back to dataframe\n",
    "toronto_onehot['Neighborhood'] = toronto_venues['Neighborhood'] \n",
    "\n",
    "# move neighborhood column to the first column\n",
    "fixed_columns = [toronto_onehot.columns[-1]] + list(toronto_onehot.columns[:-1])\n",
    "toronto_onehot = toronto_onehot[fixed_columns]\n",
    "\n",
    "#toronto_onehot.head()"
   ]
  },
  {
   "cell_type": "code",
   "execution_count": 26,
   "metadata": {},
   "outputs": [
    {
     "output_type": "execute_result",
     "data": {
      "text/plain": [
       "(1934, 251)"
      ]
     },
     "metadata": {},
     "execution_count": 26
    }
   ],
   "source": [
    "toronto_onehot.shape"
   ]
  },
  {
   "source": [
    "** We will group rows by neighborhood and by taking the mean of the frequency of occurrence of each category **"
   ],
   "cell_type": "markdown",
   "metadata": {}
  },
  {
   "cell_type": "code",
   "execution_count": 27,
   "metadata": {},
   "outputs": [
    {
     "output_type": "execute_result",
     "data": {
      "text/plain": [
       "                                        Neighborhood  Accessories Store  \\\n",
       "0    Bathurst Manor, Wilson Heights, Downsview North                0.0   \n",
       "1                  Bedford Park, Lawrence Manor East                0.0   \n",
       "2                                        Berczy Park                0.0   \n",
       "3       Brockton, Parkdale Village, Exhibition Place                0.0   \n",
       "4  Business reply mail Processing Centre, South C...                0.0   \n",
       "5  CN Tower, King and Spadina, Railway Lands, Har...                0.0   \n",
       "6              Canada Post Gateway Processing Centre                0.0   \n",
       "7                                 Central Bay Street                0.0   \n",
       "8                                           Christie                0.0   \n",
       "9                               Church and Wellesley                0.0   \n",
       "\n",
       "   Airport  Airport Food Court  Airport Gate  Airport Lounge  Airport Service  \\\n",
       "0   0.0000              0.0000        0.0000           0.000           0.0000   \n",
       "1   0.0000              0.0000        0.0000           0.000           0.0000   \n",
       "2   0.0000              0.0000        0.0000           0.000           0.0000   \n",
       "3   0.0000              0.0000        0.0000           0.000           0.0000   \n",
       "4   0.0000              0.0000        0.0000           0.000           0.0000   \n",
       "5   0.0625              0.0625        0.0625           0.125           0.0625   \n",
       "6   0.0000              0.0000        0.0000           0.000           0.0000   \n",
       "7   0.0000              0.0000        0.0000           0.000           0.0000   \n",
       "8   0.0000              0.0000        0.0000           0.000           0.0000   \n",
       "9   0.0000              0.0000        0.0000           0.000           0.0000   \n",
       "\n",
       "   Airport Terminal  American Restaurant  Antique Shop  ...  Train Station  \\\n",
       "0             0.000             0.000000           0.0  ...            0.0   \n",
       "1             0.000             0.041667           0.0  ...            0.0   \n",
       "2             0.000             0.000000           0.0  ...            0.0   \n",
       "3             0.000             0.000000           0.0  ...            0.0   \n",
       "4             0.000             0.000000           0.0  ...            0.0   \n",
       "5             0.125             0.000000           0.0  ...            0.0   \n",
       "6             0.000             0.076923           0.0  ...            0.0   \n",
       "7             0.000             0.000000           0.0  ...            0.0   \n",
       "8             0.000             0.000000           0.0  ...            0.0   \n",
       "9             0.000             0.012821           0.0  ...            0.0   \n",
       "\n",
       "   Vegetarian / Vegan Restaurant  Video Game Store  Video Store  \\\n",
       "0                       0.000000               0.0          0.0   \n",
       "1                       0.000000               0.0          0.0   \n",
       "2                       0.017241               0.0          0.0   \n",
       "3                       0.000000               0.0          0.0   \n",
       "4                       0.000000               0.0          0.0   \n",
       "5                       0.000000               0.0          0.0   \n",
       "6                       0.000000               0.0          0.0   \n",
       "7                       0.016949               0.0          0.0   \n",
       "8                       0.000000               0.0          0.0   \n",
       "9                       0.000000               0.0          0.0   \n",
       "\n",
       "   Vietnamese Restaurant  Warehouse Store  Wine Bar  Wings Joint  \\\n",
       "0               0.000000              0.0  0.000000          0.0   \n",
       "1               0.000000              0.0  0.000000          0.0   \n",
       "2               0.000000              0.0  0.000000          0.0   \n",
       "3               0.000000              0.0  0.000000          0.0   \n",
       "4               0.000000              0.0  0.000000          0.0   \n",
       "5               0.000000              0.0  0.000000          0.0   \n",
       "6               0.000000              0.0  0.000000          0.0   \n",
       "7               0.000000              0.0  0.016949          0.0   \n",
       "8               0.000000              0.0  0.000000          0.0   \n",
       "9               0.012821              0.0  0.000000          0.0   \n",
       "\n",
       "   Women's Store  Yoga Studio  \n",
       "0            0.0     0.000000  \n",
       "1            0.0     0.000000  \n",
       "2            0.0     0.000000  \n",
       "3            0.0     0.000000  \n",
       "4            0.0     0.058824  \n",
       "5            0.0     0.000000  \n",
       "6            0.0     0.000000  \n",
       "7            0.0     0.016949  \n",
       "8            0.0     0.000000  \n",
       "9            0.0     0.025641  \n",
       "\n",
       "[10 rows x 251 columns]"
      ],
      "text/html": "<div>\n<style scoped>\n    .dataframe tbody tr th:only-of-type {\n        vertical-align: middle;\n    }\n\n    .dataframe tbody tr th {\n        vertical-align: top;\n    }\n\n    .dataframe thead th {\n        text-align: right;\n    }\n</style>\n<table border=\"1\" class=\"dataframe\">\n  <thead>\n    <tr style=\"text-align: right;\">\n      <th></th>\n      <th>Neighborhood</th>\n      <th>Accessories Store</th>\n      <th>Airport</th>\n      <th>Airport Food Court</th>\n      <th>Airport Gate</th>\n      <th>Airport Lounge</th>\n      <th>Airport Service</th>\n      <th>Airport Terminal</th>\n      <th>American Restaurant</th>\n      <th>Antique Shop</th>\n      <th>...</th>\n      <th>Train Station</th>\n      <th>Vegetarian / Vegan Restaurant</th>\n      <th>Video Game Store</th>\n      <th>Video Store</th>\n      <th>Vietnamese Restaurant</th>\n      <th>Warehouse Store</th>\n      <th>Wine Bar</th>\n      <th>Wings Joint</th>\n      <th>Women's Store</th>\n      <th>Yoga Studio</th>\n    </tr>\n  </thead>\n  <tbody>\n    <tr>\n      <td>0</td>\n      <td>Bathurst Manor, Wilson Heights, Downsview North</td>\n      <td>0.0</td>\n      <td>0.0000</td>\n      <td>0.0000</td>\n      <td>0.0000</td>\n      <td>0.000</td>\n      <td>0.0000</td>\n      <td>0.000</td>\n      <td>0.000000</td>\n      <td>0.0</td>\n      <td>...</td>\n      <td>0.0</td>\n      <td>0.000000</td>\n      <td>0.0</td>\n      <td>0.0</td>\n      <td>0.000000</td>\n      <td>0.0</td>\n      <td>0.000000</td>\n      <td>0.0</td>\n      <td>0.0</td>\n      <td>0.000000</td>\n    </tr>\n    <tr>\n      <td>1</td>\n      <td>Bedford Park, Lawrence Manor East</td>\n      <td>0.0</td>\n      <td>0.0000</td>\n      <td>0.0000</td>\n      <td>0.0000</td>\n      <td>0.000</td>\n      <td>0.0000</td>\n      <td>0.000</td>\n      <td>0.041667</td>\n      <td>0.0</td>\n      <td>...</td>\n      <td>0.0</td>\n      <td>0.000000</td>\n      <td>0.0</td>\n      <td>0.0</td>\n      <td>0.000000</td>\n      <td>0.0</td>\n      <td>0.000000</td>\n      <td>0.0</td>\n      <td>0.0</td>\n      <td>0.000000</td>\n    </tr>\n    <tr>\n      <td>2</td>\n      <td>Berczy Park</td>\n      <td>0.0</td>\n      <td>0.0000</td>\n      <td>0.0000</td>\n      <td>0.0000</td>\n      <td>0.000</td>\n      <td>0.0000</td>\n      <td>0.000</td>\n      <td>0.000000</td>\n      <td>0.0</td>\n      <td>...</td>\n      <td>0.0</td>\n      <td>0.017241</td>\n      <td>0.0</td>\n      <td>0.0</td>\n      <td>0.000000</td>\n      <td>0.0</td>\n      <td>0.000000</td>\n      <td>0.0</td>\n      <td>0.0</td>\n      <td>0.000000</td>\n    </tr>\n    <tr>\n      <td>3</td>\n      <td>Brockton, Parkdale Village, Exhibition Place</td>\n      <td>0.0</td>\n      <td>0.0000</td>\n      <td>0.0000</td>\n      <td>0.0000</td>\n      <td>0.000</td>\n      <td>0.0000</td>\n      <td>0.000</td>\n      <td>0.000000</td>\n      <td>0.0</td>\n      <td>...</td>\n      <td>0.0</td>\n      <td>0.000000</td>\n      <td>0.0</td>\n      <td>0.0</td>\n      <td>0.000000</td>\n      <td>0.0</td>\n      <td>0.000000</td>\n      <td>0.0</td>\n      <td>0.0</td>\n      <td>0.000000</td>\n    </tr>\n    <tr>\n      <td>4</td>\n      <td>Business reply mail Processing Centre, South C...</td>\n      <td>0.0</td>\n      <td>0.0000</td>\n      <td>0.0000</td>\n      <td>0.0000</td>\n      <td>0.000</td>\n      <td>0.0000</td>\n      <td>0.000</td>\n      <td>0.000000</td>\n      <td>0.0</td>\n      <td>...</td>\n      <td>0.0</td>\n      <td>0.000000</td>\n      <td>0.0</td>\n      <td>0.0</td>\n      <td>0.000000</td>\n      <td>0.0</td>\n      <td>0.000000</td>\n      <td>0.0</td>\n      <td>0.0</td>\n      <td>0.058824</td>\n    </tr>\n    <tr>\n      <td>5</td>\n      <td>CN Tower, King and Spadina, Railway Lands, Har...</td>\n      <td>0.0</td>\n      <td>0.0625</td>\n      <td>0.0625</td>\n      <td>0.0625</td>\n      <td>0.125</td>\n      <td>0.0625</td>\n      <td>0.125</td>\n      <td>0.000000</td>\n      <td>0.0</td>\n      <td>...</td>\n      <td>0.0</td>\n      <td>0.000000</td>\n      <td>0.0</td>\n      <td>0.0</td>\n      <td>0.000000</td>\n      <td>0.0</td>\n      <td>0.000000</td>\n      <td>0.0</td>\n      <td>0.0</td>\n      <td>0.000000</td>\n    </tr>\n    <tr>\n      <td>6</td>\n      <td>Canada Post Gateway Processing Centre</td>\n      <td>0.0</td>\n      <td>0.0000</td>\n      <td>0.0000</td>\n      <td>0.0000</td>\n      <td>0.000</td>\n      <td>0.0000</td>\n      <td>0.000</td>\n      <td>0.076923</td>\n      <td>0.0</td>\n      <td>...</td>\n      <td>0.0</td>\n      <td>0.000000</td>\n      <td>0.0</td>\n      <td>0.0</td>\n      <td>0.000000</td>\n      <td>0.0</td>\n      <td>0.000000</td>\n      <td>0.0</td>\n      <td>0.0</td>\n      <td>0.000000</td>\n    </tr>\n    <tr>\n      <td>7</td>\n      <td>Central Bay Street</td>\n      <td>0.0</td>\n      <td>0.0000</td>\n      <td>0.0000</td>\n      <td>0.0000</td>\n      <td>0.000</td>\n      <td>0.0000</td>\n      <td>0.000</td>\n      <td>0.000000</td>\n      <td>0.0</td>\n      <td>...</td>\n      <td>0.0</td>\n      <td>0.016949</td>\n      <td>0.0</td>\n      <td>0.0</td>\n      <td>0.000000</td>\n      <td>0.0</td>\n      <td>0.016949</td>\n      <td>0.0</td>\n      <td>0.0</td>\n      <td>0.016949</td>\n    </tr>\n    <tr>\n      <td>8</td>\n      <td>Christie</td>\n      <td>0.0</td>\n      <td>0.0000</td>\n      <td>0.0000</td>\n      <td>0.0000</td>\n      <td>0.000</td>\n      <td>0.0000</td>\n      <td>0.000</td>\n      <td>0.000000</td>\n      <td>0.0</td>\n      <td>...</td>\n      <td>0.0</td>\n      <td>0.000000</td>\n      <td>0.0</td>\n      <td>0.0</td>\n      <td>0.000000</td>\n      <td>0.0</td>\n      <td>0.000000</td>\n      <td>0.0</td>\n      <td>0.0</td>\n      <td>0.000000</td>\n    </tr>\n    <tr>\n      <td>9</td>\n      <td>Church and Wellesley</td>\n      <td>0.0</td>\n      <td>0.0000</td>\n      <td>0.0000</td>\n      <td>0.0000</td>\n      <td>0.000</td>\n      <td>0.0000</td>\n      <td>0.000</td>\n      <td>0.012821</td>\n      <td>0.0</td>\n      <td>...</td>\n      <td>0.0</td>\n      <td>0.000000</td>\n      <td>0.0</td>\n      <td>0.0</td>\n      <td>0.012821</td>\n      <td>0.0</td>\n      <td>0.000000</td>\n      <td>0.0</td>\n      <td>0.0</td>\n      <td>0.025641</td>\n    </tr>\n  </tbody>\n</table>\n<p>10 rows × 251 columns</p>\n</div>"
     },
     "metadata": {},
     "execution_count": 27
    }
   ],
   "source": [
    "toronto_grouped = toronto_onehot.groupby('Neighborhood').mean().reset_index()\n",
    "toronto_grouped.head(10)"
   ]
  },
  {
   "cell_type": "code",
   "execution_count": 28,
   "metadata": {},
   "outputs": [
    {
     "output_type": "execute_result",
     "data": {
      "text/plain": [
       "(49, 251)"
      ]
     },
     "metadata": {},
     "execution_count": 28
    }
   ],
   "source": [
    "toronto_grouped.shape"
   ]
  },
  {
   "source": [
    "** Store the above into a pandas dataframe **\n",
    "\n",
    "Write a function to sort the venues in descending order"
   ],
   "cell_type": "markdown",
   "metadata": {}
  },
  {
   "cell_type": "code",
   "execution_count": 29,
   "metadata": {},
   "outputs": [],
   "source": [
    "def return_most_common_venues(row, num_top_venues):\n",
    "    row_categories = row.iloc[1:]\n",
    "    row_categories_sorted = row_categories.sort_values(ascending=False)\n",
    "    \n",
    "    return row_categories_sorted.index.values[0:num_top_venues]"
   ]
  },
  {
   "source": [
    "Create the new dataframe and display the top 10 venues for each neighborhood"
   ],
   "cell_type": "markdown",
   "metadata": {}
  },
  {
   "cell_type": "code",
   "execution_count": 30,
   "metadata": {},
   "outputs": [
    {
     "output_type": "execute_result",
     "data": {
      "text/plain": [
       "                                        Neighborhood 1st Most Common Venue  \\\n",
       "0    Bathurst Manor, Wilson Heights, Downsview North           Coffee Shop   \n",
       "1                  Bedford Park, Lawrence Manor East        Sandwich Place   \n",
       "2                                        Berczy Park           Coffee Shop   \n",
       "3       Brockton, Parkdale Village, Exhibition Place                  Café   \n",
       "4  Business reply mail Processing Centre, South C...           Yoga Studio   \n",
       "\n",
       "  2nd Most Common Venue 3rd Most Common Venue    4th Most Common Venue  \\\n",
       "0                  Bank   Fried Chicken Joint                 Pharmacy   \n",
       "1           Coffee Shop    Italian Restaurant  Comfort Food Restaurant   \n",
       "2          Cocktail Bar    Seafood Restaurant                 Beer Bar   \n",
       "3           Coffee Shop        Breakfast Spot                   Bakery   \n",
       "4    Light Rail Station               Butcher            Burrito Place   \n",
       "\n",
       "  5th Most Common Venue      6th Most Common Venue 7th Most Common Venue  \\\n",
       "0           Pizza Place  Middle Eastern Restaurant         Deli / Bodega   \n",
       "1       Thai Restaurant                   Boutique             Juice Bar   \n",
       "2        Farmers Market                     Bakery           Cheese Shop   \n",
       "3             Pet Store                    Stadium         Burrito Place   \n",
       "4            Skate Park       Fast Food Restaurant         Auto Workshop   \n",
       "\n",
       "  8th Most Common Venue        9th Most Common Venue 10th Most Common Venue  \n",
       "0            Restaurant                        Diner         Sandwich Place  \n",
       "1            Restaurant                      Butcher                    Pub  \n",
       "2            Restaurant  Eastern European Restaurant                  Beach  \n",
       "3            Restaurant                 Climbing Gym  Performing Arts Venue  \n",
       "4        Farmers Market                Garden Center                 Garden  "
      ],
      "text/html": "<div>\n<style scoped>\n    .dataframe tbody tr th:only-of-type {\n        vertical-align: middle;\n    }\n\n    .dataframe tbody tr th {\n        vertical-align: top;\n    }\n\n    .dataframe thead th {\n        text-align: right;\n    }\n</style>\n<table border=\"1\" class=\"dataframe\">\n  <thead>\n    <tr style=\"text-align: right;\">\n      <th></th>\n      <th>Neighborhood</th>\n      <th>1st Most Common Venue</th>\n      <th>2nd Most Common Venue</th>\n      <th>3rd Most Common Venue</th>\n      <th>4th Most Common Venue</th>\n      <th>5th Most Common Venue</th>\n      <th>6th Most Common Venue</th>\n      <th>7th Most Common Venue</th>\n      <th>8th Most Common Venue</th>\n      <th>9th Most Common Venue</th>\n      <th>10th Most Common Venue</th>\n    </tr>\n  </thead>\n  <tbody>\n    <tr>\n      <td>0</td>\n      <td>Bathurst Manor, Wilson Heights, Downsview North</td>\n      <td>Coffee Shop</td>\n      <td>Bank</td>\n      <td>Fried Chicken Joint</td>\n      <td>Pharmacy</td>\n      <td>Pizza Place</td>\n      <td>Middle Eastern Restaurant</td>\n      <td>Deli / Bodega</td>\n      <td>Restaurant</td>\n      <td>Diner</td>\n      <td>Sandwich Place</td>\n    </tr>\n    <tr>\n      <td>1</td>\n      <td>Bedford Park, Lawrence Manor East</td>\n      <td>Sandwich Place</td>\n      <td>Coffee Shop</td>\n      <td>Italian Restaurant</td>\n      <td>Comfort Food Restaurant</td>\n      <td>Thai Restaurant</td>\n      <td>Boutique</td>\n      <td>Juice Bar</td>\n      <td>Restaurant</td>\n      <td>Butcher</td>\n      <td>Pub</td>\n    </tr>\n    <tr>\n      <td>2</td>\n      <td>Berczy Park</td>\n      <td>Coffee Shop</td>\n      <td>Cocktail Bar</td>\n      <td>Seafood Restaurant</td>\n      <td>Beer Bar</td>\n      <td>Farmers Market</td>\n      <td>Bakery</td>\n      <td>Cheese Shop</td>\n      <td>Restaurant</td>\n      <td>Eastern European Restaurant</td>\n      <td>Beach</td>\n    </tr>\n    <tr>\n      <td>3</td>\n      <td>Brockton, Parkdale Village, Exhibition Place</td>\n      <td>Café</td>\n      <td>Coffee Shop</td>\n      <td>Breakfast Spot</td>\n      <td>Bakery</td>\n      <td>Pet Store</td>\n      <td>Stadium</td>\n      <td>Burrito Place</td>\n      <td>Restaurant</td>\n      <td>Climbing Gym</td>\n      <td>Performing Arts Venue</td>\n    </tr>\n    <tr>\n      <td>4</td>\n      <td>Business reply mail Processing Centre, South C...</td>\n      <td>Yoga Studio</td>\n      <td>Light Rail Station</td>\n      <td>Butcher</td>\n      <td>Burrito Place</td>\n      <td>Skate Park</td>\n      <td>Fast Food Restaurant</td>\n      <td>Auto Workshop</td>\n      <td>Farmers Market</td>\n      <td>Garden Center</td>\n      <td>Garden</td>\n    </tr>\n  </tbody>\n</table>\n</div>"
     },
     "metadata": {},
     "execution_count": 30
    }
   ],
   "source": [
    "num_top_venues = 10\n",
    "\n",
    "indicators = ['st', 'nd', 'rd']\n",
    "\n",
    "# create columns according to number of top venues\n",
    "columns = ['Neighborhood']\n",
    "for ind in np.arange(num_top_venues):\n",
    "    try:\n",
    "        columns.append('{}{} Most Common Venue'.format(ind+1, indicators[ind]))\n",
    "    except:\n",
    "        columns.append('{}th Most Common Venue'.format(ind+1))\n",
    "\n",
    "# create a new dataframe\n",
    "neighborhoods_venues_sorted = pd.DataFrame(columns = columns)\n",
    "neighborhoods_venues_sorted['Neighborhood'] = toronto_grouped['Neighborhood']\n",
    "\n",
    "for ind in np.arange(toronto_grouped.shape[0]):\n",
    "    neighborhoods_venues_sorted.iloc[ind, 1:] = return_most_common_venues(toronto_grouped.iloc[ind, :], num_top_venues)\n",
    "\n",
    "neighborhoods_venues_sorted.head()"
   ]
  },
  {
   "cell_type": "code",
   "execution_count": 31,
   "metadata": {},
   "outputs": [
    {
     "output_type": "execute_result",
     "data": {
      "text/plain": [
       "1st Most Common Venue\n",
       "Airport Lounge           1\n",
       "Bakery                   1\n",
       "Bar                      1\n",
       "Breakfast Spot           1\n",
       "Café                     5\n",
       "Clothing Store           2\n",
       "Coffee Shop             20\n",
       "Fast Food Restaurant     2\n",
       "Greek Restaurant         1\n",
       "Grocery Store            4\n",
       "Gym                      2\n",
       "Indian Restaurant        1\n",
       "Mexican Restaurant       1\n",
       "Park                     1\n",
       "Pizza Place              1\n",
       "Ramen Restaurant         1\n",
       "Sandwich Place           2\n",
       "Sporting Goods Shop      1\n",
       "Yoga Studio              1\n",
       "dtype: int64"
      ]
     },
     "metadata": {},
     "execution_count": 31
    }
   ],
   "source": [
    "neighborhoods_venues_sorted.groupby(['1st Most Common Venue']).size()"
   ]
  },
  {
   "source": [
    "## Clustering the neighborhoods\n",
    "\n",
    "Run k-means to cluster the neighborhood into 5 clusters."
   ],
   "cell_type": "markdown",
   "metadata": {}
  },
  {
   "cell_type": "code",
   "execution_count": 32,
   "metadata": {},
   "outputs": [
    {
     "output_type": "execute_result",
     "data": {
      "text/plain": [
       "array([0, 2, 2, 2, 0, 2, 1, 1, 3, 2, 0, 2, 0, 0, 2, 3, 0, 2, 2, 2, 2, 2,\n",
       "       0, 2, 2, 2, 2, 0, 2, 2, 2, 0, 1, 1, 2, 2, 0, 2, 2, 0, 2, 2, 2, 1,\n",
       "       2, 0, 2, 2, 2])"
      ]
     },
     "metadata": {},
     "execution_count": 32
    }
   ],
   "source": [
    "\n",
    "# set number of clusters\n",
    "kclusters = 5\n",
    "\n",
    "toronto_grouped_clustering = toronto_grouped.drop('Neighborhood', 1)\n",
    "\n",
    "# run k-means clustering\n",
    "kmeans = KMeans(n_clusters=kclusters, random_state=3).fit(toronto_grouped_clustering)\n",
    "\n",
    "# check cluster labels generated for each row in the dataframe\n",
    "kmeans.labels_"
   ]
  },
  {
   "source": [
    "Create a new dataframe that includes the cluster as well as the top 10 venues for each neighborhood."
   ],
   "cell_type": "markdown",
   "metadata": {}
  },
  {
   "cell_type": "code",
   "execution_count": 33,
   "metadata": {},
   "outputs": [
    {
     "output_type": "execute_result",
     "data": {
      "text/plain": [
       "   Cluster Labels                                       Neighborhood  \\\n",
       "0               0    Bathurst Manor, Wilson Heights, Downsview North   \n",
       "1               2                  Bedford Park, Lawrence Manor East   \n",
       "2               2                                        Berczy Park   \n",
       "3               2       Brockton, Parkdale Village, Exhibition Place   \n",
       "4               0  Business reply mail Processing Centre, South C...   \n",
       "\n",
       "  1st Most Common Venue 2nd Most Common Venue 3rd Most Common Venue  \\\n",
       "0           Coffee Shop                  Bank   Fried Chicken Joint   \n",
       "1        Sandwich Place           Coffee Shop    Italian Restaurant   \n",
       "2           Coffee Shop          Cocktail Bar    Seafood Restaurant   \n",
       "3                  Café           Coffee Shop        Breakfast Spot   \n",
       "4           Yoga Studio    Light Rail Station               Butcher   \n",
       "\n",
       "     4th Most Common Venue 5th Most Common Venue      6th Most Common Venue  \\\n",
       "0                 Pharmacy           Pizza Place  Middle Eastern Restaurant   \n",
       "1  Comfort Food Restaurant       Thai Restaurant                   Boutique   \n",
       "2                 Beer Bar        Farmers Market                     Bakery   \n",
       "3                   Bakery             Pet Store                    Stadium   \n",
       "4            Burrito Place            Skate Park       Fast Food Restaurant   \n",
       "\n",
       "  7th Most Common Venue 8th Most Common Venue        9th Most Common Venue  \\\n",
       "0         Deli / Bodega            Restaurant                        Diner   \n",
       "1             Juice Bar            Restaurant                      Butcher   \n",
       "2           Cheese Shop            Restaurant  Eastern European Restaurant   \n",
       "3         Burrito Place            Restaurant                 Climbing Gym   \n",
       "4         Auto Workshop        Farmers Market                Garden Center   \n",
       "\n",
       "  10th Most Common Venue Postal Code           Borough   Latitude  Longitude  \n",
       "0         Sandwich Place         M3H        North York  43.754328 -79.442259  \n",
       "1                    Pub         M5M        North York  43.733283 -79.419750  \n",
       "2                  Beach         M5E  Downtown Toronto  43.644771 -79.373306  \n",
       "3  Performing Arts Venue         M6K      West Toronto  43.636847 -79.428191  \n",
       "4                 Garden         M7Y      East Toronto  43.662744 -79.321558  "
      ],
      "text/html": "<div>\n<style scoped>\n    .dataframe tbody tr th:only-of-type {\n        vertical-align: middle;\n    }\n\n    .dataframe tbody tr th {\n        vertical-align: top;\n    }\n\n    .dataframe thead th {\n        text-align: right;\n    }\n</style>\n<table border=\"1\" class=\"dataframe\">\n  <thead>\n    <tr style=\"text-align: right;\">\n      <th></th>\n      <th>Cluster Labels</th>\n      <th>Neighborhood</th>\n      <th>1st Most Common Venue</th>\n      <th>2nd Most Common Venue</th>\n      <th>3rd Most Common Venue</th>\n      <th>4th Most Common Venue</th>\n      <th>5th Most Common Venue</th>\n      <th>6th Most Common Venue</th>\n      <th>7th Most Common Venue</th>\n      <th>8th Most Common Venue</th>\n      <th>9th Most Common Venue</th>\n      <th>10th Most Common Venue</th>\n      <th>Postal Code</th>\n      <th>Borough</th>\n      <th>Latitude</th>\n      <th>Longitude</th>\n    </tr>\n  </thead>\n  <tbody>\n    <tr>\n      <td>0</td>\n      <td>0</td>\n      <td>Bathurst Manor, Wilson Heights, Downsview North</td>\n      <td>Coffee Shop</td>\n      <td>Bank</td>\n      <td>Fried Chicken Joint</td>\n      <td>Pharmacy</td>\n      <td>Pizza Place</td>\n      <td>Middle Eastern Restaurant</td>\n      <td>Deli / Bodega</td>\n      <td>Restaurant</td>\n      <td>Diner</td>\n      <td>Sandwich Place</td>\n      <td>M3H</td>\n      <td>North York</td>\n      <td>43.754328</td>\n      <td>-79.442259</td>\n    </tr>\n    <tr>\n      <td>1</td>\n      <td>2</td>\n      <td>Bedford Park, Lawrence Manor East</td>\n      <td>Sandwich Place</td>\n      <td>Coffee Shop</td>\n      <td>Italian Restaurant</td>\n      <td>Comfort Food Restaurant</td>\n      <td>Thai Restaurant</td>\n      <td>Boutique</td>\n      <td>Juice Bar</td>\n      <td>Restaurant</td>\n      <td>Butcher</td>\n      <td>Pub</td>\n      <td>M5M</td>\n      <td>North York</td>\n      <td>43.733283</td>\n      <td>-79.419750</td>\n    </tr>\n    <tr>\n      <td>2</td>\n      <td>2</td>\n      <td>Berczy Park</td>\n      <td>Coffee Shop</td>\n      <td>Cocktail Bar</td>\n      <td>Seafood Restaurant</td>\n      <td>Beer Bar</td>\n      <td>Farmers Market</td>\n      <td>Bakery</td>\n      <td>Cheese Shop</td>\n      <td>Restaurant</td>\n      <td>Eastern European Restaurant</td>\n      <td>Beach</td>\n      <td>M5E</td>\n      <td>Downtown Toronto</td>\n      <td>43.644771</td>\n      <td>-79.373306</td>\n    </tr>\n    <tr>\n      <td>3</td>\n      <td>2</td>\n      <td>Brockton, Parkdale Village, Exhibition Place</td>\n      <td>Café</td>\n      <td>Coffee Shop</td>\n      <td>Breakfast Spot</td>\n      <td>Bakery</td>\n      <td>Pet Store</td>\n      <td>Stadium</td>\n      <td>Burrito Place</td>\n      <td>Restaurant</td>\n      <td>Climbing Gym</td>\n      <td>Performing Arts Venue</td>\n      <td>M6K</td>\n      <td>West Toronto</td>\n      <td>43.636847</td>\n      <td>-79.428191</td>\n    </tr>\n    <tr>\n      <td>4</td>\n      <td>0</td>\n      <td>Business reply mail Processing Centre, South C...</td>\n      <td>Yoga Studio</td>\n      <td>Light Rail Station</td>\n      <td>Butcher</td>\n      <td>Burrito Place</td>\n      <td>Skate Park</td>\n      <td>Fast Food Restaurant</td>\n      <td>Auto Workshop</td>\n      <td>Farmers Market</td>\n      <td>Garden Center</td>\n      <td>Garden</td>\n      <td>M7Y</td>\n      <td>East Toronto</td>\n      <td>43.662744</td>\n      <td>-79.321558</td>\n    </tr>\n  </tbody>\n</table>\n</div>"
     },
     "metadata": {},
     "execution_count": 33
    }
   ],
   "source": [
    "# add clustering labels\n",
    "neighborhoods_venues_sorted.insert(0, 'Cluster Labels', kmeans.labels_)\n",
    "\n",
    "toronto_merged = neighborhoods_venues_sorted\n",
    "\n",
    "# merge toronto_grouped with toronto_data to add latitude/longitude for each neighborhood\n",
    "toronto_merged = toronto_merged.join(toronto_neighborhoods.set_index('Neighbourhood'), on='Neighborhood')\n",
    "\n",
    "toronto_merged.head() # check the last columns!"
   ]
  },
  {
   "cell_type": "code",
   "execution_count": 34,
   "metadata": {},
   "outputs": [],
   "source": [
    "address = 'Toronto'\n",
    "geolocator = Nominatim(user_agent=\"toronto_explorer\")\n",
    "location = geolocator.geocode(address)\n",
    "latitude = location.latitude\n",
    "longitude = location.longitude"
   ]
  },
  {
   "cell_type": "code",
   "execution_count": 35,
   "metadata": {},
   "outputs": [
    {
     "output_type": "execute_result",
     "data": {
      "text/plain": [
       "<folium.folium.Map at 0x1bc12561248>"
      ],
      "text/html": "<div style=\"width:100%;\"><div style=\"position:relative;width:100%;height:0;padding-bottom:60%;\"><span style=\"color:#565656\">Make this Notebook Trusted to load map: File -> Trust Notebook</span><iframe src=\"about:blank\" style=\"position:absolute;width:100%;height:100%;left:0;top:0;border:none !important;\" data-html=%3C%21DOCTYPE%20html%3E%0A%3Chead%3E%20%20%20%20%0A%20%20%20%20%3Cmeta%20http-equiv%3D%22content-type%22%20content%3D%22text/html%3B%20charset%3DUTF-8%22%20/%3E%0A%20%20%20%20%3Cscript%3EL_PREFER_CANVAS%20%3D%20false%3B%20L_NO_TOUCH%20%3D%20false%3B%20L_DISABLE_3D%20%3D%20false%3B%3C/script%3E%0A%20%20%20%20%3Cscript%20src%3D%22https%3A//cdn.jsdelivr.net/npm/leaflet%401.2.0/dist/leaflet.js%22%3E%3C/script%3E%0A%20%20%20%20%3Cscript%20src%3D%22https%3A//ajax.googleapis.com/ajax/libs/jquery/1.11.1/jquery.min.js%22%3E%3C/script%3E%0A%20%20%20%20%3Cscript%20src%3D%22https%3A//maxcdn.bootstrapcdn.com/bootstrap/3.2.0/js/bootstrap.min.js%22%3E%3C/script%3E%0A%20%20%20%20%3Cscript%20src%3D%22https%3A//cdnjs.cloudflare.com/ajax/libs/Leaflet.awesome-markers/2.0.2/leaflet.awesome-markers.js%22%3E%3C/script%3E%0A%20%20%20%20%3Clink%20rel%3D%22stylesheet%22%20href%3D%22https%3A//cdn.jsdelivr.net/npm/leaflet%401.2.0/dist/leaflet.css%22/%3E%0A%20%20%20%20%3Clink%20rel%3D%22stylesheet%22%20href%3D%22https%3A//maxcdn.bootstrapcdn.com/bootstrap/3.2.0/css/bootstrap.min.css%22/%3E%0A%20%20%20%20%3Clink%20rel%3D%22stylesheet%22%20href%3D%22https%3A//maxcdn.bootstrapcdn.com/bootstrap/3.2.0/css/bootstrap-theme.min.css%22/%3E%0A%20%20%20%20%3Clink%20rel%3D%22stylesheet%22%20href%3D%22https%3A//maxcdn.bootstrapcdn.com/font-awesome/4.6.3/css/font-awesome.min.css%22/%3E%0A%20%20%20%20%3Clink%20rel%3D%22stylesheet%22%20href%3D%22https%3A//cdnjs.cloudflare.com/ajax/libs/Leaflet.awesome-markers/2.0.2/leaflet.awesome-markers.css%22/%3E%0A%20%20%20%20%3Clink%20rel%3D%22stylesheet%22%20href%3D%22https%3A//rawgit.com/python-visualization/folium/master/folium/templates/leaflet.awesome.rotate.css%22/%3E%0A%20%20%20%20%3Cstyle%3Ehtml%2C%20body%20%7Bwidth%3A%20100%25%3Bheight%3A%20100%25%3Bmargin%3A%200%3Bpadding%3A%200%3B%7D%3C/style%3E%0A%20%20%20%20%3Cstyle%3E%23map%20%7Bposition%3Aabsolute%3Btop%3A0%3Bbottom%3A0%3Bright%3A0%3Bleft%3A0%3B%7D%3C/style%3E%0A%20%20%20%20%0A%20%20%20%20%20%20%20%20%20%20%20%20%3Cstyle%3E%20%23map_4f603cba923241f7812ae571f404129c%20%7B%0A%20%20%20%20%20%20%20%20%20%20%20%20%20%20%20%20position%20%3A%20relative%3B%0A%20%20%20%20%20%20%20%20%20%20%20%20%20%20%20%20width%20%3A%20100.0%25%3B%0A%20%20%20%20%20%20%20%20%20%20%20%20%20%20%20%20height%3A%20100.0%25%3B%0A%20%20%20%20%20%20%20%20%20%20%20%20%20%20%20%20left%3A%200.0%25%3B%0A%20%20%20%20%20%20%20%20%20%20%20%20%20%20%20%20top%3A%200.0%25%3B%0A%20%20%20%20%20%20%20%20%20%20%20%20%20%20%20%20%7D%0A%20%20%20%20%20%20%20%20%20%20%20%20%3C/style%3E%0A%20%20%20%20%20%20%20%20%0A%3C/head%3E%0A%3Cbody%3E%20%20%20%20%0A%20%20%20%20%0A%20%20%20%20%20%20%20%20%20%20%20%20%3Cdiv%20class%3D%22folium-map%22%20id%3D%22map_4f603cba923241f7812ae571f404129c%22%20%3E%3C/div%3E%0A%20%20%20%20%20%20%20%20%0A%3C/body%3E%0A%3Cscript%3E%20%20%20%20%0A%20%20%20%20%0A%0A%20%20%20%20%20%20%20%20%20%20%20%20%0A%20%20%20%20%20%20%20%20%20%20%20%20%20%20%20%20var%20bounds%20%3D%20null%3B%0A%20%20%20%20%20%20%20%20%20%20%20%20%0A%0A%20%20%20%20%20%20%20%20%20%20%20%20var%20map_4f603cba923241f7812ae571f404129c%20%3D%20L.map%28%0A%20%20%20%20%20%20%20%20%20%20%20%20%20%20%20%20%20%20%20%20%20%20%20%20%20%20%20%20%20%20%20%20%20%20%27map_4f603cba923241f7812ae571f404129c%27%2C%0A%20%20%20%20%20%20%20%20%20%20%20%20%20%20%20%20%20%20%20%20%20%20%20%20%20%20%20%20%20%20%20%20%20%20%7Bcenter%3A%20%5B43.6534817%2C-79.3839347%5D%2C%0A%20%20%20%20%20%20%20%20%20%20%20%20%20%20%20%20%20%20%20%20%20%20%20%20%20%20%20%20%20%20%20%20%20%20zoom%3A%2011%2C%0A%20%20%20%20%20%20%20%20%20%20%20%20%20%20%20%20%20%20%20%20%20%20%20%20%20%20%20%20%20%20%20%20%20%20maxBounds%3A%20bounds%2C%0A%20%20%20%20%20%20%20%20%20%20%20%20%20%20%20%20%20%20%20%20%20%20%20%20%20%20%20%20%20%20%20%20%20%20layers%3A%20%5B%5D%2C%0A%20%20%20%20%20%20%20%20%20%20%20%20%20%20%20%20%20%20%20%20%20%20%20%20%20%20%20%20%20%20%20%20%20%20worldCopyJump%3A%20false%2C%0A%20%20%20%20%20%20%20%20%20%20%20%20%20%20%20%20%20%20%20%20%20%20%20%20%20%20%20%20%20%20%20%20%20%20crs%3A%20L.CRS.EPSG3857%0A%20%20%20%20%20%20%20%20%20%20%20%20%20%20%20%20%20%20%20%20%20%20%20%20%20%20%20%20%20%20%20%20%20%7D%29%3B%0A%20%20%20%20%20%20%20%20%20%20%20%20%0A%20%20%20%20%20%20%20%20%0A%20%20%20%20%0A%20%20%20%20%20%20%20%20%20%20%20%20var%20tile_layer_a2f35eaeae7e4fd2b540fb4bb9d604ec%20%3D%20L.tileLayer%28%0A%20%20%20%20%20%20%20%20%20%20%20%20%20%20%20%20%27https%3A//%7Bs%7D.tile.openstreetmap.org/%7Bz%7D/%7Bx%7D/%7By%7D.png%27%2C%0A%20%20%20%20%20%20%20%20%20%20%20%20%20%20%20%20%7B%0A%20%20%22attribution%22%3A%20null%2C%0A%20%20%22detectRetina%22%3A%20false%2C%0A%20%20%22maxZoom%22%3A%2018%2C%0A%20%20%22minZoom%22%3A%201%2C%0A%20%20%22noWrap%22%3A%20false%2C%0A%20%20%22subdomains%22%3A%20%22abc%22%0A%7D%0A%20%20%20%20%20%20%20%20%20%20%20%20%20%20%20%20%29.addTo%28map_4f603cba923241f7812ae571f404129c%29%3B%0A%20%20%20%20%20%20%20%20%0A%20%20%20%20%0A%20%20%20%20%20%20%20%20%20%20%20%20var%20circle_marker_6cb7fa5f4b5444aab61ccb4be62c0111%20%3D%20L.circleMarker%28%0A%20%20%20%20%20%20%20%20%20%20%20%20%20%20%20%20%5B43.7543283%2C-79.4422593%5D%2C%0A%20%20%20%20%20%20%20%20%20%20%20%20%20%20%20%20%7B%0A%20%20%22bubblingMouseEvents%22%3A%20true%2C%0A%20%20%22color%22%3A%20%22%23ff0000%22%2C%0A%20%20%22dashArray%22%3A%20null%2C%0A%20%20%22dashOffset%22%3A%20null%2C%0A%20%20%22fill%22%3A%20true%2C%0A%20%20%22fillColor%22%3A%20%22%23ff0000%22%2C%0A%20%20%22fillOpacity%22%3A%200.7%2C%0A%20%20%22fillRule%22%3A%20%22evenodd%22%2C%0A%20%20%22lineCap%22%3A%20%22round%22%2C%0A%20%20%22lineJoin%22%3A%20%22round%22%2C%0A%20%20%22opacity%22%3A%201.0%2C%0A%20%20%22radius%22%3A%205%2C%0A%20%20%22stroke%22%3A%20true%2C%0A%20%20%22weight%22%3A%203%0A%7D%0A%20%20%20%20%20%20%20%20%20%20%20%20%20%20%20%20%29.addTo%28map_4f603cba923241f7812ae571f404129c%29%3B%0A%20%20%20%20%20%20%20%20%20%20%20%20%0A%20%20%20%20%0A%20%20%20%20%20%20%20%20%20%20%20%20var%20popup_ecf25831a96e40359ef4359f809e560d%20%3D%20L.popup%28%7BmaxWidth%3A%20%27300%27%7D%29%3B%0A%0A%20%20%20%20%20%20%20%20%20%20%20%20%0A%20%20%20%20%20%20%20%20%20%20%20%20%20%20%20%20var%20html_5deed6795fc5462b8b3e699a1f56a688%20%3D%20%24%28%27%3Cdiv%20id%3D%22html_5deed6795fc5462b8b3e699a1f56a688%22%20style%3D%22width%3A%20100.0%25%3B%20height%3A%20100.0%25%3B%22%3EBathurst%20Manor%2C%20Wilson%20Heights%2C%20Downsview%20North%20Cluster%200%3C/div%3E%27%29%5B0%5D%3B%0A%20%20%20%20%20%20%20%20%20%20%20%20%20%20%20%20popup_ecf25831a96e40359ef4359f809e560d.setContent%28html_5deed6795fc5462b8b3e699a1f56a688%29%3B%0A%20%20%20%20%20%20%20%20%20%20%20%20%0A%0A%20%20%20%20%20%20%20%20%20%20%20%20circle_marker_6cb7fa5f4b5444aab61ccb4be62c0111.bindPopup%28popup_ecf25831a96e40359ef4359f809e560d%29%3B%0A%0A%20%20%20%20%20%20%20%20%20%20%20%20%0A%20%20%20%20%20%20%20%20%0A%20%20%20%20%0A%20%20%20%20%20%20%20%20%20%20%20%20var%20circle_marker_e9153e58e3a64e5b826a83ab83868894%20%3D%20L.circleMarker%28%0A%20%20%20%20%20%20%20%20%20%20%20%20%20%20%20%20%5B43.7332825%2C-79.4197497%5D%2C%0A%20%20%20%20%20%20%20%20%20%20%20%20%20%20%20%20%7B%0A%20%20%22bubblingMouseEvents%22%3A%20true%2C%0A%20%20%22color%22%3A%20%22%232adddd%22%2C%0A%20%20%22dashArray%22%3A%20null%2C%0A%20%20%22dashOffset%22%3A%20null%2C%0A%20%20%22fill%22%3A%20true%2C%0A%20%20%22fillColor%22%3A%20%22%232adddd%22%2C%0A%20%20%22fillOpacity%22%3A%200.7%2C%0A%20%20%22fillRule%22%3A%20%22evenodd%22%2C%0A%20%20%22lineCap%22%3A%20%22round%22%2C%0A%20%20%22lineJoin%22%3A%20%22round%22%2C%0A%20%20%22opacity%22%3A%201.0%2C%0A%20%20%22radius%22%3A%205%2C%0A%20%20%22stroke%22%3A%20true%2C%0A%20%20%22weight%22%3A%203%0A%7D%0A%20%20%20%20%20%20%20%20%20%20%20%20%20%20%20%20%29.addTo%28map_4f603cba923241f7812ae571f404129c%29%3B%0A%20%20%20%20%20%20%20%20%20%20%20%20%0A%20%20%20%20%0A%20%20%20%20%20%20%20%20%20%20%20%20var%20popup_1f55de5d02d74787ab53ab72fa4033a4%20%3D%20L.popup%28%7BmaxWidth%3A%20%27300%27%7D%29%3B%0A%0A%20%20%20%20%20%20%20%20%20%20%20%20%0A%20%20%20%20%20%20%20%20%20%20%20%20%20%20%20%20var%20html_a4b940daf67a4d2a97d7c67b8e239f08%20%3D%20%24%28%27%3Cdiv%20id%3D%22html_a4b940daf67a4d2a97d7c67b8e239f08%22%20style%3D%22width%3A%20100.0%25%3B%20height%3A%20100.0%25%3B%22%3EBedford%20Park%2C%20Lawrence%20Manor%20East%20Cluster%202%3C/div%3E%27%29%5B0%5D%3B%0A%20%20%20%20%20%20%20%20%20%20%20%20%20%20%20%20popup_1f55de5d02d74787ab53ab72fa4033a4.setContent%28html_a4b940daf67a4d2a97d7c67b8e239f08%29%3B%0A%20%20%20%20%20%20%20%20%20%20%20%20%0A%0A%20%20%20%20%20%20%20%20%20%20%20%20circle_marker_e9153e58e3a64e5b826a83ab83868894.bindPopup%28popup_1f55de5d02d74787ab53ab72fa4033a4%29%3B%0A%0A%20%20%20%20%20%20%20%20%20%20%20%20%0A%20%20%20%20%20%20%20%20%0A%20%20%20%20%0A%20%20%20%20%20%20%20%20%20%20%20%20var%20circle_marker_913517528ba348e5a3a5d9dc83e56378%20%3D%20L.circleMarker%28%0A%20%20%20%20%20%20%20%20%20%20%20%20%20%20%20%20%5B43.644770799999996%2C-79.3733064%5D%2C%0A%20%20%20%20%20%20%20%20%20%20%20%20%20%20%20%20%7B%0A%20%20%22bubblingMouseEvents%22%3A%20true%2C%0A%20%20%22color%22%3A%20%22%232adddd%22%2C%0A%20%20%22dashArray%22%3A%20null%2C%0A%20%20%22dashOffset%22%3A%20null%2C%0A%20%20%22fill%22%3A%20true%2C%0A%20%20%22fillColor%22%3A%20%22%232adddd%22%2C%0A%20%20%22fillOpacity%22%3A%200.7%2C%0A%20%20%22fillRule%22%3A%20%22evenodd%22%2C%0A%20%20%22lineCap%22%3A%20%22round%22%2C%0A%20%20%22lineJoin%22%3A%20%22round%22%2C%0A%20%20%22opacity%22%3A%201.0%2C%0A%20%20%22radius%22%3A%205%2C%0A%20%20%22stroke%22%3A%20true%2C%0A%20%20%22weight%22%3A%203%0A%7D%0A%20%20%20%20%20%20%20%20%20%20%20%20%20%20%20%20%29.addTo%28map_4f603cba923241f7812ae571f404129c%29%3B%0A%20%20%20%20%20%20%20%20%20%20%20%20%0A%20%20%20%20%0A%20%20%20%20%20%20%20%20%20%20%20%20var%20popup_364cf7c5b15143d9ae067310987ae8fe%20%3D%20L.popup%28%7BmaxWidth%3A%20%27300%27%7D%29%3B%0A%0A%20%20%20%20%20%20%20%20%20%20%20%20%0A%20%20%20%20%20%20%20%20%20%20%20%20%20%20%20%20var%20html_113517d150a141d79af4b02bfc781f08%20%3D%20%24%28%27%3Cdiv%20id%3D%22html_113517d150a141d79af4b02bfc781f08%22%20style%3D%22width%3A%20100.0%25%3B%20height%3A%20100.0%25%3B%22%3EBerczy%20Park%20Cluster%202%3C/div%3E%27%29%5B0%5D%3B%0A%20%20%20%20%20%20%20%20%20%20%20%20%20%20%20%20popup_364cf7c5b15143d9ae067310987ae8fe.setContent%28html_113517d150a141d79af4b02bfc781f08%29%3B%0A%20%20%20%20%20%20%20%20%20%20%20%20%0A%0A%20%20%20%20%20%20%20%20%20%20%20%20circle_marker_913517528ba348e5a3a5d9dc83e56378.bindPopup%28popup_364cf7c5b15143d9ae067310987ae8fe%29%3B%0A%0A%20%20%20%20%20%20%20%20%20%20%20%20%0A%20%20%20%20%20%20%20%20%0A%20%20%20%20%0A%20%20%20%20%20%20%20%20%20%20%20%20var%20circle_marker_d8d442a3baf54b5388d91bde46ed6071%20%3D%20L.circleMarker%28%0A%20%20%20%20%20%20%20%20%20%20%20%20%20%20%20%20%5B43.6368472%2C-79.42819140000002%5D%2C%0A%20%20%20%20%20%20%20%20%20%20%20%20%20%20%20%20%7B%0A%20%20%22bubblingMouseEvents%22%3A%20true%2C%0A%20%20%22color%22%3A%20%22%232adddd%22%2C%0A%20%20%22dashArray%22%3A%20null%2C%0A%20%20%22dashOffset%22%3A%20null%2C%0A%20%20%22fill%22%3A%20true%2C%0A%20%20%22fillColor%22%3A%20%22%232adddd%22%2C%0A%20%20%22fillOpacity%22%3A%200.7%2C%0A%20%20%22fillRule%22%3A%20%22evenodd%22%2C%0A%20%20%22lineCap%22%3A%20%22round%22%2C%0A%20%20%22lineJoin%22%3A%20%22round%22%2C%0A%20%20%22opacity%22%3A%201.0%2C%0A%20%20%22radius%22%3A%205%2C%0A%20%20%22stroke%22%3A%20true%2C%0A%20%20%22weight%22%3A%203%0A%7D%0A%20%20%20%20%20%20%20%20%20%20%20%20%20%20%20%20%29.addTo%28map_4f603cba923241f7812ae571f404129c%29%3B%0A%20%20%20%20%20%20%20%20%20%20%20%20%0A%20%20%20%20%0A%20%20%20%20%20%20%20%20%20%20%20%20var%20popup_47e982eb12084434b912b6b1a202cc74%20%3D%20L.popup%28%7BmaxWidth%3A%20%27300%27%7D%29%3B%0A%0A%20%20%20%20%20%20%20%20%20%20%20%20%0A%20%20%20%20%20%20%20%20%20%20%20%20%20%20%20%20var%20html_6336fddade794eb095c68c3566fb7571%20%3D%20%24%28%27%3Cdiv%20id%3D%22html_6336fddade794eb095c68c3566fb7571%22%20style%3D%22width%3A%20100.0%25%3B%20height%3A%20100.0%25%3B%22%3EBrockton%2C%20Parkdale%20Village%2C%20Exhibition%20Place%20Cluster%202%3C/div%3E%27%29%5B0%5D%3B%0A%20%20%20%20%20%20%20%20%20%20%20%20%20%20%20%20popup_47e982eb12084434b912b6b1a202cc74.setContent%28html_6336fddade794eb095c68c3566fb7571%29%3B%0A%20%20%20%20%20%20%20%20%20%20%20%20%0A%0A%20%20%20%20%20%20%20%20%20%20%20%20circle_marker_d8d442a3baf54b5388d91bde46ed6071.bindPopup%28popup_47e982eb12084434b912b6b1a202cc74%29%3B%0A%0A%20%20%20%20%20%20%20%20%20%20%20%20%0A%20%20%20%20%20%20%20%20%0A%20%20%20%20%0A%20%20%20%20%20%20%20%20%20%20%20%20var%20circle_marker_d79dc89357f043ac981cf74ce45e9e35%20%3D%20L.circleMarker%28%0A%20%20%20%20%20%20%20%20%20%20%20%20%20%20%20%20%5B43.6627439%2C-79.321558%5D%2C%0A%20%20%20%20%20%20%20%20%20%20%20%20%20%20%20%20%7B%0A%20%20%22bubblingMouseEvents%22%3A%20true%2C%0A%20%20%22color%22%3A%20%22%23ff0000%22%2C%0A%20%20%22dashArray%22%3A%20null%2C%0A%20%20%22dashOffset%22%3A%20null%2C%0A%20%20%22fill%22%3A%20true%2C%0A%20%20%22fillColor%22%3A%20%22%23ff0000%22%2C%0A%20%20%22fillOpacity%22%3A%200.7%2C%0A%20%20%22fillRule%22%3A%20%22evenodd%22%2C%0A%20%20%22lineCap%22%3A%20%22round%22%2C%0A%20%20%22lineJoin%22%3A%20%22round%22%2C%0A%20%20%22opacity%22%3A%201.0%2C%0A%20%20%22radius%22%3A%205%2C%0A%20%20%22stroke%22%3A%20true%2C%0A%20%20%22weight%22%3A%203%0A%7D%0A%20%20%20%20%20%20%20%20%20%20%20%20%20%20%20%20%29.addTo%28map_4f603cba923241f7812ae571f404129c%29%3B%0A%20%20%20%20%20%20%20%20%20%20%20%20%0A%20%20%20%20%0A%20%20%20%20%20%20%20%20%20%20%20%20var%20popup_59d5b2559647454388006cd878c07110%20%3D%20L.popup%28%7BmaxWidth%3A%20%27300%27%7D%29%3B%0A%0A%20%20%20%20%20%20%20%20%20%20%20%20%0A%20%20%20%20%20%20%20%20%20%20%20%20%20%20%20%20var%20html_c6343acf03f04a708c9bedece9e7edbe%20%3D%20%24%28%27%3Cdiv%20id%3D%22html_c6343acf03f04a708c9bedece9e7edbe%22%20style%3D%22width%3A%20100.0%25%3B%20height%3A%20100.0%25%3B%22%3EBusiness%20reply%20mail%20Processing%20Centre%2C%20South%20Central%20Letter%20Processing%20Plant%20Toronto%20Cluster%200%3C/div%3E%27%29%5B0%5D%3B%0A%20%20%20%20%20%20%20%20%20%20%20%20%20%20%20%20popup_59d5b2559647454388006cd878c07110.setContent%28html_c6343acf03f04a708c9bedece9e7edbe%29%3B%0A%20%20%20%20%20%20%20%20%20%20%20%20%0A%0A%20%20%20%20%20%20%20%20%20%20%20%20circle_marker_d79dc89357f043ac981cf74ce45e9e35.bindPopup%28popup_59d5b2559647454388006cd878c07110%29%3B%0A%0A%20%20%20%20%20%20%20%20%20%20%20%20%0A%20%20%20%20%20%20%20%20%0A%20%20%20%20%0A%20%20%20%20%20%20%20%20%20%20%20%20var%20circle_marker_4cd90782b4194a4d8b749962e9fb8ce0%20%3D%20L.circleMarker%28%0A%20%20%20%20%20%20%20%20%20%20%20%20%20%20%20%20%5B43.6289467%2C-79.3944199%5D%2C%0A%20%20%20%20%20%20%20%20%20%20%20%20%20%20%20%20%7B%0A%20%20%22bubblingMouseEvents%22%3A%20true%2C%0A%20%20%22color%22%3A%20%22%232adddd%22%2C%0A%20%20%22dashArray%22%3A%20null%2C%0A%20%20%22dashOffset%22%3A%20null%2C%0A%20%20%22fill%22%3A%20true%2C%0A%20%20%22fillColor%22%3A%20%22%232adddd%22%2C%0A%20%20%22fillOpacity%22%3A%200.7%2C%0A%20%20%22fillRule%22%3A%20%22evenodd%22%2C%0A%20%20%22lineCap%22%3A%20%22round%22%2C%0A%20%20%22lineJoin%22%3A%20%22round%22%2C%0A%20%20%22opacity%22%3A%201.0%2C%0A%20%20%22radius%22%3A%205%2C%0A%20%20%22stroke%22%3A%20true%2C%0A%20%20%22weight%22%3A%203%0A%7D%0A%20%20%20%20%20%20%20%20%20%20%20%20%20%20%20%20%29.addTo%28map_4f603cba923241f7812ae571f404129c%29%3B%0A%20%20%20%20%20%20%20%20%20%20%20%20%0A%20%20%20%20%0A%20%20%20%20%20%20%20%20%20%20%20%20var%20popup_bbdaff0ce4f644fa869765a7c245972b%20%3D%20L.popup%28%7BmaxWidth%3A%20%27300%27%7D%29%3B%0A%0A%20%20%20%20%20%20%20%20%20%20%20%20%0A%20%20%20%20%20%20%20%20%20%20%20%20%20%20%20%20var%20html_916e67e941154646a674b10ca1f91dfc%20%3D%20%24%28%27%3Cdiv%20id%3D%22html_916e67e941154646a674b10ca1f91dfc%22%20style%3D%22width%3A%20100.0%25%3B%20height%3A%20100.0%25%3B%22%3ECN%20Tower%2C%20King%20and%20Spadina%2C%20Railway%20Lands%2C%20Harbourfront%20West%2C%20Bathurst%20Quay%2C%20South%20Niagara%2C%20Island%20airport%20Cluster%202%3C/div%3E%27%29%5B0%5D%3B%0A%20%20%20%20%20%20%20%20%20%20%20%20%20%20%20%20popup_bbdaff0ce4f644fa869765a7c245972b.setContent%28html_916e67e941154646a674b10ca1f91dfc%29%3B%0A%20%20%20%20%20%20%20%20%20%20%20%20%0A%0A%20%20%20%20%20%20%20%20%20%20%20%20circle_marker_4cd90782b4194a4d8b749962e9fb8ce0.bindPopup%28popup_bbdaff0ce4f644fa869765a7c245972b%29%3B%0A%0A%20%20%20%20%20%20%20%20%20%20%20%20%0A%20%20%20%20%20%20%20%20%0A%20%20%20%20%0A%20%20%20%20%20%20%20%20%20%20%20%20var%20circle_marker_961b8465bcb44d9a9c35ffd337ec7ca0%20%3D%20L.circleMarker%28%0A%20%20%20%20%20%20%20%20%20%20%20%20%20%20%20%20%5B43.6369656%2C-79.61581899999999%5D%2C%0A%20%20%20%20%20%20%20%20%20%20%20%20%20%20%20%20%7B%0A%20%20%22bubblingMouseEvents%22%3A%20true%2C%0A%20%20%22color%22%3A%20%22%238000ff%22%2C%0A%20%20%22dashArray%22%3A%20null%2C%0A%20%20%22dashOffset%22%3A%20null%2C%0A%20%20%22fill%22%3A%20true%2C%0A%20%20%22fillColor%22%3A%20%22%238000ff%22%2C%0A%20%20%22fillOpacity%22%3A%200.7%2C%0A%20%20%22fillRule%22%3A%20%22evenodd%22%2C%0A%20%20%22lineCap%22%3A%20%22round%22%2C%0A%20%20%22lineJoin%22%3A%20%22round%22%2C%0A%20%20%22opacity%22%3A%201.0%2C%0A%20%20%22radius%22%3A%205%2C%0A%20%20%22stroke%22%3A%20true%2C%0A%20%20%22weight%22%3A%203%0A%7D%0A%20%20%20%20%20%20%20%20%20%20%20%20%20%20%20%20%29.addTo%28map_4f603cba923241f7812ae571f404129c%29%3B%0A%20%20%20%20%20%20%20%20%20%20%20%20%0A%20%20%20%20%0A%20%20%20%20%20%20%20%20%20%20%20%20var%20popup_13d3bb7be16a42bb8d627ab802a9f6a1%20%3D%20L.popup%28%7BmaxWidth%3A%20%27300%27%7D%29%3B%0A%0A%20%20%20%20%20%20%20%20%20%20%20%20%0A%20%20%20%20%20%20%20%20%20%20%20%20%20%20%20%20var%20html_bcbe1a49ceb144ec87aee3d14da7c2d1%20%3D%20%24%28%27%3Cdiv%20id%3D%22html_bcbe1a49ceb144ec87aee3d14da7c2d1%22%20style%3D%22width%3A%20100.0%25%3B%20height%3A%20100.0%25%3B%22%3ECanada%20Post%20Gateway%20Processing%20Centre%20Cluster%201%3C/div%3E%27%29%5B0%5D%3B%0A%20%20%20%20%20%20%20%20%20%20%20%20%20%20%20%20popup_13d3bb7be16a42bb8d627ab802a9f6a1.setContent%28html_bcbe1a49ceb144ec87aee3d14da7c2d1%29%3B%0A%20%20%20%20%20%20%20%20%20%20%20%20%0A%0A%20%20%20%20%20%20%20%20%20%20%20%20circle_marker_961b8465bcb44d9a9c35ffd337ec7ca0.bindPopup%28popup_13d3bb7be16a42bb8d627ab802a9f6a1%29%3B%0A%0A%20%20%20%20%20%20%20%20%20%20%20%20%0A%20%20%20%20%20%20%20%20%0A%20%20%20%20%0A%20%20%20%20%20%20%20%20%20%20%20%20var%20circle_marker_d7b7ea3521194ca7b0e2b20ee5809001%20%3D%20L.circleMarker%28%0A%20%20%20%20%20%20%20%20%20%20%20%20%20%20%20%20%5B43.6579524%2C-79.3873826%5D%2C%0A%20%20%20%20%20%20%20%20%20%20%20%20%20%20%20%20%7B%0A%20%20%22bubblingMouseEvents%22%3A%20true%2C%0A%20%20%22color%22%3A%20%22%238000ff%22%2C%0A%20%20%22dashArray%22%3A%20null%2C%0A%20%20%22dashOffset%22%3A%20null%2C%0A%20%20%22fill%22%3A%20true%2C%0A%20%20%22fillColor%22%3A%20%22%238000ff%22%2C%0A%20%20%22fillOpacity%22%3A%200.7%2C%0A%20%20%22fillRule%22%3A%20%22evenodd%22%2C%0A%20%20%22lineCap%22%3A%20%22round%22%2C%0A%20%20%22lineJoin%22%3A%20%22round%22%2C%0A%20%20%22opacity%22%3A%201.0%2C%0A%20%20%22radius%22%3A%205%2C%0A%20%20%22stroke%22%3A%20true%2C%0A%20%20%22weight%22%3A%203%0A%7D%0A%20%20%20%20%20%20%20%20%20%20%20%20%20%20%20%20%29.addTo%28map_4f603cba923241f7812ae571f404129c%29%3B%0A%20%20%20%20%20%20%20%20%20%20%20%20%0A%20%20%20%20%0A%20%20%20%20%20%20%20%20%20%20%20%20var%20popup_28ddc5c574cb41a4a481ba4e61203622%20%3D%20L.popup%28%7BmaxWidth%3A%20%27300%27%7D%29%3B%0A%0A%20%20%20%20%20%20%20%20%20%20%20%20%0A%20%20%20%20%20%20%20%20%20%20%20%20%20%20%20%20var%20html_9f2d79d4d3584451bd457a93a81caa26%20%3D%20%24%28%27%3Cdiv%20id%3D%22html_9f2d79d4d3584451bd457a93a81caa26%22%20style%3D%22width%3A%20100.0%25%3B%20height%3A%20100.0%25%3B%22%3ECentral%20Bay%20Street%20Cluster%201%3C/div%3E%27%29%5B0%5D%3B%0A%20%20%20%20%20%20%20%20%20%20%20%20%20%20%20%20popup_28ddc5c574cb41a4a481ba4e61203622.setContent%28html_9f2d79d4d3584451bd457a93a81caa26%29%3B%0A%20%20%20%20%20%20%20%20%20%20%20%20%0A%0A%20%20%20%20%20%20%20%20%20%20%20%20circle_marker_d7b7ea3521194ca7b0e2b20ee5809001.bindPopup%28popup_28ddc5c574cb41a4a481ba4e61203622%29%3B%0A%0A%20%20%20%20%20%20%20%20%20%20%20%20%0A%20%20%20%20%20%20%20%20%0A%20%20%20%20%0A%20%20%20%20%20%20%20%20%20%20%20%20var%20circle_marker_0de30fd0ce23444ca658270a87cbaf4d%20%3D%20L.circleMarker%28%0A%20%20%20%20%20%20%20%20%20%20%20%20%20%20%20%20%5B43.669542%2C-79.4225637%5D%2C%0A%20%20%20%20%20%20%20%20%20%20%20%20%20%20%20%20%7B%0A%20%20%22bubblingMouseEvents%22%3A%20true%2C%0A%20%20%22color%22%3A%20%22%23d4dd80%22%2C%0A%20%20%22dashArray%22%3A%20null%2C%0A%20%20%22dashOffset%22%3A%20null%2C%0A%20%20%22fill%22%3A%20true%2C%0A%20%20%22fillColor%22%3A%20%22%23d4dd80%22%2C%0A%20%20%22fillOpacity%22%3A%200.7%2C%0A%20%20%22fillRule%22%3A%20%22evenodd%22%2C%0A%20%20%22lineCap%22%3A%20%22round%22%2C%0A%20%20%22lineJoin%22%3A%20%22round%22%2C%0A%20%20%22opacity%22%3A%201.0%2C%0A%20%20%22radius%22%3A%205%2C%0A%20%20%22stroke%22%3A%20true%2C%0A%20%20%22weight%22%3A%203%0A%7D%0A%20%20%20%20%20%20%20%20%20%20%20%20%20%20%20%20%29.addTo%28map_4f603cba923241f7812ae571f404129c%29%3B%0A%20%20%20%20%20%20%20%20%20%20%20%20%0A%20%20%20%20%0A%20%20%20%20%20%20%20%20%20%20%20%20var%20popup_0e5572b1bf854787868a0d08713f6e40%20%3D%20L.popup%28%7BmaxWidth%3A%20%27300%27%7D%29%3B%0A%0A%20%20%20%20%20%20%20%20%20%20%20%20%0A%20%20%20%20%20%20%20%20%20%20%20%20%20%20%20%20var%20html_685e93921d82416faf8916f35c9bd4bf%20%3D%20%24%28%27%3Cdiv%20id%3D%22html_685e93921d82416faf8916f35c9bd4bf%22%20style%3D%22width%3A%20100.0%25%3B%20height%3A%20100.0%25%3B%22%3EChristie%20Cluster%203%3C/div%3E%27%29%5B0%5D%3B%0A%20%20%20%20%20%20%20%20%20%20%20%20%20%20%20%20popup_0e5572b1bf854787868a0d08713f6e40.setContent%28html_685e93921d82416faf8916f35c9bd4bf%29%3B%0A%20%20%20%20%20%20%20%20%20%20%20%20%0A%0A%20%20%20%20%20%20%20%20%20%20%20%20circle_marker_0de30fd0ce23444ca658270a87cbaf4d.bindPopup%28popup_0e5572b1bf854787868a0d08713f6e40%29%3B%0A%0A%20%20%20%20%20%20%20%20%20%20%20%20%0A%20%20%20%20%20%20%20%20%0A%20%20%20%20%0A%20%20%20%20%20%20%20%20%20%20%20%20var%20circle_marker_2cfd020b875045cdb18025060a10a144%20%3D%20L.circleMarker%28%0A%20%20%20%20%20%20%20%20%20%20%20%20%20%20%20%20%5B43.6658599%2C-79.38315990000001%5D%2C%0A%20%20%20%20%20%20%20%20%20%20%20%20%20%20%20%20%7B%0A%20%20%22bubblingMouseEvents%22%3A%20true%2C%0A%20%20%22color%22%3A%20%22%232adddd%22%2C%0A%20%20%22dashArray%22%3A%20null%2C%0A%20%20%22dashOffset%22%3A%20null%2C%0A%20%20%22fill%22%3A%20true%2C%0A%20%20%22fillColor%22%3A%20%22%232adddd%22%2C%0A%20%20%22fillOpacity%22%3A%200.7%2C%0A%20%20%22fillRule%22%3A%20%22evenodd%22%2C%0A%20%20%22lineCap%22%3A%20%22round%22%2C%0A%20%20%22lineJoin%22%3A%20%22round%22%2C%0A%20%20%22opacity%22%3A%201.0%2C%0A%20%20%22radius%22%3A%205%2C%0A%20%20%22stroke%22%3A%20true%2C%0A%20%20%22weight%22%3A%203%0A%7D%0A%20%20%20%20%20%20%20%20%20%20%20%20%20%20%20%20%29.addTo%28map_4f603cba923241f7812ae571f404129c%29%3B%0A%20%20%20%20%20%20%20%20%20%20%20%20%0A%20%20%20%20%0A%20%20%20%20%20%20%20%20%20%20%20%20var%20popup_ca02345f029c413cb2ea79844ba7839f%20%3D%20L.popup%28%7BmaxWidth%3A%20%27300%27%7D%29%3B%0A%0A%20%20%20%20%20%20%20%20%20%20%20%20%0A%20%20%20%20%20%20%20%20%20%20%20%20%20%20%20%20var%20html_bbe33f7020c84190b6821183f8caaea4%20%3D%20%24%28%27%3Cdiv%20id%3D%22html_bbe33f7020c84190b6821183f8caaea4%22%20style%3D%22width%3A%20100.0%25%3B%20height%3A%20100.0%25%3B%22%3EChurch%20and%20Wellesley%20Cluster%202%3C/div%3E%27%29%5B0%5D%3B%0A%20%20%20%20%20%20%20%20%20%20%20%20%20%20%20%20popup_ca02345f029c413cb2ea79844ba7839f.setContent%28html_bbe33f7020c84190b6821183f8caaea4%29%3B%0A%20%20%20%20%20%20%20%20%20%20%20%20%0A%0A%20%20%20%20%20%20%20%20%20%20%20%20circle_marker_2cfd020b875045cdb18025060a10a144.bindPopup%28popup_ca02345f029c413cb2ea79844ba7839f%29%3B%0A%0A%20%20%20%20%20%20%20%20%20%20%20%20%0A%20%20%20%20%20%20%20%20%0A%20%20%20%20%0A%20%20%20%20%20%20%20%20%20%20%20%20var%20circle_marker_11747f1a638340d3a98ccde0825fa49c%20%3D%20L.circleMarker%28%0A%20%20%20%20%20%20%20%20%20%20%20%20%20%20%20%20%5B43.7816375%2C-79.3043021%5D%2C%0A%20%20%20%20%20%20%20%20%20%20%20%20%20%20%20%20%7B%0A%20%20%22bubblingMouseEvents%22%3A%20true%2C%0A%20%20%22color%22%3A%20%22%23ff0000%22%2C%0A%20%20%22dashArray%22%3A%20null%2C%0A%20%20%22dashOffset%22%3A%20null%2C%0A%20%20%22fill%22%3A%20true%2C%0A%20%20%22fillColor%22%3A%20%22%23ff0000%22%2C%0A%20%20%22fillOpacity%22%3A%200.7%2C%0A%20%20%22fillRule%22%3A%20%22evenodd%22%2C%0A%20%20%22lineCap%22%3A%20%22round%22%2C%0A%20%20%22lineJoin%22%3A%20%22round%22%2C%0A%20%20%22opacity%22%3A%201.0%2C%0A%20%20%22radius%22%3A%205%2C%0A%20%20%22stroke%22%3A%20true%2C%0A%20%20%22weight%22%3A%203%0A%7D%0A%20%20%20%20%20%20%20%20%20%20%20%20%20%20%20%20%29.addTo%28map_4f603cba923241f7812ae571f404129c%29%3B%0A%20%20%20%20%20%20%20%20%20%20%20%20%0A%20%20%20%20%0A%20%20%20%20%20%20%20%20%20%20%20%20var%20popup_508a9d46f80849f3b762a1ea69a73b7d%20%3D%20L.popup%28%7BmaxWidth%3A%20%27300%27%7D%29%3B%0A%0A%20%20%20%20%20%20%20%20%20%20%20%20%0A%20%20%20%20%20%20%20%20%20%20%20%20%20%20%20%20var%20html_b783c8e1d22b41a994fd2e6e9dfaf373%20%3D%20%24%28%27%3Cdiv%20id%3D%22html_b783c8e1d22b41a994fd2e6e9dfaf373%22%20style%3D%22width%3A%20100.0%25%3B%20height%3A%20100.0%25%3B%22%3EClarks%20Corners%2C%20Tam%20O%26%2339%3BShanter%2C%20Sullivan%20Cluster%200%3C/div%3E%27%29%5B0%5D%3B%0A%20%20%20%20%20%20%20%20%20%20%20%20%20%20%20%20popup_508a9d46f80849f3b762a1ea69a73b7d.setContent%28html_b783c8e1d22b41a994fd2e6e9dfaf373%29%3B%0A%20%20%20%20%20%20%20%20%20%20%20%20%0A%0A%20%20%20%20%20%20%20%20%20%20%20%20circle_marker_11747f1a638340d3a98ccde0825fa49c.bindPopup%28popup_508a9d46f80849f3b762a1ea69a73b7d%29%3B%0A%0A%20%20%20%20%20%20%20%20%20%20%20%20%0A%20%20%20%20%20%20%20%20%0A%20%20%20%20%0A%20%20%20%20%20%20%20%20%20%20%20%20var%20circle_marker_5cc647bad99a4780b5d77f5d2456f159%20%3D%20L.circleMarker%28%0A%20%20%20%20%20%20%20%20%20%20%20%20%20%20%20%20%5B43.6481985%2C-79.37981690000001%5D%2C%0A%20%20%20%20%20%20%20%20%20%20%20%20%20%20%20%20%7B%0A%20%20%22bubblingMouseEvents%22%3A%20true%2C%0A%20%20%22color%22%3A%20%22%232adddd%22%2C%0A%20%20%22dashArray%22%3A%20null%2C%0A%20%20%22dashOffset%22%3A%20null%2C%0A%20%20%22fill%22%3A%20true%2C%0A%20%20%22fillColor%22%3A%20%22%232adddd%22%2C%0A%20%20%22fillOpacity%22%3A%200.7%2C%0A%20%20%22fillRule%22%3A%20%22evenodd%22%2C%0A%20%20%22lineCap%22%3A%20%22round%22%2C%0A%20%20%22lineJoin%22%3A%20%22round%22%2C%0A%20%20%22opacity%22%3A%201.0%2C%0A%20%20%22radius%22%3A%205%2C%0A%20%20%22stroke%22%3A%20true%2C%0A%20%20%22weight%22%3A%203%0A%7D%0A%20%20%20%20%20%20%20%20%20%20%20%20%20%20%20%20%29.addTo%28map_4f603cba923241f7812ae571f404129c%29%3B%0A%20%20%20%20%20%20%20%20%20%20%20%20%0A%20%20%20%20%0A%20%20%20%20%20%20%20%20%20%20%20%20var%20popup_4b296e59e78b4ba6a600594a50000c31%20%3D%20L.popup%28%7BmaxWidth%3A%20%27300%27%7D%29%3B%0A%0A%20%20%20%20%20%20%20%20%20%20%20%20%0A%20%20%20%20%20%20%20%20%20%20%20%20%20%20%20%20var%20html_e98655f0fb574731afe9f2abac3dea74%20%3D%20%24%28%27%3Cdiv%20id%3D%22html_e98655f0fb574731afe9f2abac3dea74%22%20style%3D%22width%3A%20100.0%25%3B%20height%3A%20100.0%25%3B%22%3ECommerce%20Court%2C%20Victoria%20Hotel%20Cluster%202%3C/div%3E%27%29%5B0%5D%3B%0A%20%20%20%20%20%20%20%20%20%20%20%20%20%20%20%20popup_4b296e59e78b4ba6a600594a50000c31.setContent%28html_e98655f0fb574731afe9f2abac3dea74%29%3B%0A%20%20%20%20%20%20%20%20%20%20%20%20%0A%0A%20%20%20%20%20%20%20%20%20%20%20%20circle_marker_5cc647bad99a4780b5d77f5d2456f159.bindPopup%28popup_4b296e59e78b4ba6a600594a50000c31%29%3B%0A%0A%20%20%20%20%20%20%20%20%20%20%20%20%0A%20%20%20%20%20%20%20%20%0A%20%20%20%20%0A%20%20%20%20%20%20%20%20%20%20%20%20var%20circle_marker_8536282b31cf419693a60d538d91b18b%20%3D%20L.circleMarker%28%0A%20%20%20%20%20%20%20%20%20%20%20%20%20%20%20%20%5B43.7043244%2C-79.3887901%5D%2C%0A%20%20%20%20%20%20%20%20%20%20%20%20%20%20%20%20%7B%0A%20%20%22bubblingMouseEvents%22%3A%20true%2C%0A%20%20%22color%22%3A%20%22%23ff0000%22%2C%0A%20%20%22dashArray%22%3A%20null%2C%0A%20%20%22dashOffset%22%3A%20null%2C%0A%20%20%22fill%22%3A%20true%2C%0A%20%20%22fillColor%22%3A%20%22%23ff0000%22%2C%0A%20%20%22fillOpacity%22%3A%200.7%2C%0A%20%20%22fillRule%22%3A%20%22evenodd%22%2C%0A%20%20%22lineCap%22%3A%20%22round%22%2C%0A%20%20%22lineJoin%22%3A%20%22round%22%2C%0A%20%20%22opacity%22%3A%201.0%2C%0A%20%20%22radius%22%3A%205%2C%0A%20%20%22stroke%22%3A%20true%2C%0A%20%20%22weight%22%3A%203%0A%7D%0A%20%20%20%20%20%20%20%20%20%20%20%20%20%20%20%20%29.addTo%28map_4f603cba923241f7812ae571f404129c%29%3B%0A%20%20%20%20%20%20%20%20%20%20%20%20%0A%20%20%20%20%0A%20%20%20%20%20%20%20%20%20%20%20%20var%20popup_febe91ed0418431cb0bd1ac80f6537d1%20%3D%20L.popup%28%7BmaxWidth%3A%20%27300%27%7D%29%3B%0A%0A%20%20%20%20%20%20%20%20%20%20%20%20%0A%20%20%20%20%20%20%20%20%20%20%20%20%20%20%20%20var%20html_79a1354a20814e09bad41b5bb3cf9213%20%3D%20%24%28%27%3Cdiv%20id%3D%22html_79a1354a20814e09bad41b5bb3cf9213%22%20style%3D%22width%3A%20100.0%25%3B%20height%3A%20100.0%25%3B%22%3EDavisville%20Cluster%200%3C/div%3E%27%29%5B0%5D%3B%0A%20%20%20%20%20%20%20%20%20%20%20%20%20%20%20%20popup_febe91ed0418431cb0bd1ac80f6537d1.setContent%28html_79a1354a20814e09bad41b5bb3cf9213%29%3B%0A%20%20%20%20%20%20%20%20%20%20%20%20%0A%0A%20%20%20%20%20%20%20%20%20%20%20%20circle_marker_8536282b31cf419693a60d538d91b18b.bindPopup%28popup_febe91ed0418431cb0bd1ac80f6537d1%29%3B%0A%0A%20%20%20%20%20%20%20%20%20%20%20%20%0A%20%20%20%20%20%20%20%20%0A%20%20%20%20%0A%20%20%20%20%20%20%20%20%20%20%20%20var%20circle_marker_af2a1c952de44a0893499ada5d980a06%20%3D%20L.circleMarker%28%0A%20%20%20%20%20%20%20%20%20%20%20%20%20%20%20%20%5B43.7127511%2C-79.3901975%5D%2C%0A%20%20%20%20%20%20%20%20%20%20%20%20%20%20%20%20%7B%0A%20%20%22bubblingMouseEvents%22%3A%20true%2C%0A%20%20%22color%22%3A%20%22%23ff0000%22%2C%0A%20%20%22dashArray%22%3A%20null%2C%0A%20%20%22dashOffset%22%3A%20null%2C%0A%20%20%22fill%22%3A%20true%2C%0A%20%20%22fillColor%22%3A%20%22%23ff0000%22%2C%0A%20%20%22fillOpacity%22%3A%200.7%2C%0A%20%20%22fillRule%22%3A%20%22evenodd%22%2C%0A%20%20%22lineCap%22%3A%20%22round%22%2C%0A%20%20%22lineJoin%22%3A%20%22round%22%2C%0A%20%20%22opacity%22%3A%201.0%2C%0A%20%20%22radius%22%3A%205%2C%0A%20%20%22stroke%22%3A%20true%2C%0A%20%20%22weight%22%3A%203%0A%7D%0A%20%20%20%20%20%20%20%20%20%20%20%20%20%20%20%20%29.addTo%28map_4f603cba923241f7812ae571f404129c%29%3B%0A%20%20%20%20%20%20%20%20%20%20%20%20%0A%20%20%20%20%0A%20%20%20%20%20%20%20%20%20%20%20%20var%20popup_523ac71505d344f1bc8d9add98cbd345%20%3D%20L.popup%28%7BmaxWidth%3A%20%27300%27%7D%29%3B%0A%0A%20%20%20%20%20%20%20%20%20%20%20%20%0A%20%20%20%20%20%20%20%20%20%20%20%20%20%20%20%20var%20html_58babe551c2a4deda4fad15d5e6e0041%20%3D%20%24%28%27%3Cdiv%20id%3D%22html_58babe551c2a4deda4fad15d5e6e0041%22%20style%3D%22width%3A%20100.0%25%3B%20height%3A%20100.0%25%3B%22%3EDavisville%20North%20Cluster%200%3C/div%3E%27%29%5B0%5D%3B%0A%20%20%20%20%20%20%20%20%20%20%20%20%20%20%20%20popup_523ac71505d344f1bc8d9add98cbd345.setContent%28html_58babe551c2a4deda4fad15d5e6e0041%29%3B%0A%20%20%20%20%20%20%20%20%20%20%20%20%0A%0A%20%20%20%20%20%20%20%20%20%20%20%20circle_marker_af2a1c952de44a0893499ada5d980a06.bindPopup%28popup_523ac71505d344f1bc8d9add98cbd345%29%3B%0A%0A%20%20%20%20%20%20%20%20%20%20%20%20%0A%20%20%20%20%20%20%20%20%0A%20%20%20%20%0A%20%20%20%20%20%20%20%20%20%20%20%20var%20circle_marker_14a85e93bd154d67bfc1dc391bdf8aa9%20%3D%20L.circleMarker%28%0A%20%20%20%20%20%20%20%20%20%20%20%20%20%20%20%20%5B43.745905799999996%2C-79.352188%5D%2C%0A%20%20%20%20%20%20%20%20%20%20%20%20%20%20%20%20%7B%0A%20%20%22bubblingMouseEvents%22%3A%20true%2C%0A%20%20%22color%22%3A%20%22%232adddd%22%2C%0A%20%20%22dashArray%22%3A%20null%2C%0A%20%20%22dashOffset%22%3A%20null%2C%0A%20%20%22fill%22%3A%20true%2C%0A%20%20%22fillColor%22%3A%20%22%232adddd%22%2C%0A%20%20%22fillOpacity%22%3A%200.7%2C%0A%20%20%22fillRule%22%3A%20%22evenodd%22%2C%0A%20%20%22lineCap%22%3A%20%22round%22%2C%0A%20%20%22lineJoin%22%3A%20%22round%22%2C%0A%20%20%22opacity%22%3A%201.0%2C%0A%20%20%22radius%22%3A%205%2C%0A%20%20%22stroke%22%3A%20true%2C%0A%20%20%22weight%22%3A%203%0A%7D%0A%20%20%20%20%20%20%20%20%20%20%20%20%20%20%20%20%29.addTo%28map_4f603cba923241f7812ae571f404129c%29%3B%0A%20%20%20%20%20%20%20%20%20%20%20%20%0A%20%20%20%20%0A%20%20%20%20%20%20%20%20%20%20%20%20var%20popup_cfe828b7bb5c4c51a80c68e55428d1c6%20%3D%20L.popup%28%7BmaxWidth%3A%20%27300%27%7D%29%3B%0A%0A%20%20%20%20%20%20%20%20%20%20%20%20%0A%20%20%20%20%20%20%20%20%20%20%20%20%20%20%20%20var%20html_0bb69256bdc44a1e86a8f6cc14c518b2%20%3D%20%24%28%27%3Cdiv%20id%3D%22html_0bb69256bdc44a1e86a8f6cc14c518b2%22%20style%3D%22width%3A%20100.0%25%3B%20height%3A%20100.0%25%3B%22%3EDon%20Mills%20Cluster%202%3C/div%3E%27%29%5B0%5D%3B%0A%20%20%20%20%20%20%20%20%20%20%20%20%20%20%20%20popup_cfe828b7bb5c4c51a80c68e55428d1c6.setContent%28html_0bb69256bdc44a1e86a8f6cc14c518b2%29%3B%0A%20%20%20%20%20%20%20%20%20%20%20%20%0A%0A%20%20%20%20%20%20%20%20%20%20%20%20circle_marker_14a85e93bd154d67bfc1dc391bdf8aa9.bindPopup%28popup_cfe828b7bb5c4c51a80c68e55428d1c6%29%3B%0A%0A%20%20%20%20%20%20%20%20%20%20%20%20%0A%20%20%20%20%20%20%20%20%0A%20%20%20%20%0A%20%20%20%20%20%20%20%20%20%20%20%20var%20circle_marker_5781032ca64141cc8866c516875eebce%20%3D%20L.circleMarker%28%0A%20%20%20%20%20%20%20%20%20%20%20%20%20%20%20%20%5B43.72589970000001%2C-79.340923%5D%2C%0A%20%20%20%20%20%20%20%20%20%20%20%20%20%20%20%20%7B%0A%20%20%22bubblingMouseEvents%22%3A%20true%2C%0A%20%20%22color%22%3A%20%22%232adddd%22%2C%0A%20%20%22dashArray%22%3A%20null%2C%0A%20%20%22dashOffset%22%3A%20null%2C%0A%20%20%22fill%22%3A%20true%2C%0A%20%20%22fillColor%22%3A%20%22%232adddd%22%2C%0A%20%20%22fillOpacity%22%3A%200.7%2C%0A%20%20%22fillRule%22%3A%20%22evenodd%22%2C%0A%20%20%22lineCap%22%3A%20%22round%22%2C%0A%20%20%22lineJoin%22%3A%20%22round%22%2C%0A%20%20%22opacity%22%3A%201.0%2C%0A%20%20%22radius%22%3A%205%2C%0A%20%20%22stroke%22%3A%20true%2C%0A%20%20%22weight%22%3A%203%0A%7D%0A%20%20%20%20%20%20%20%20%20%20%20%20%20%20%20%20%29.addTo%28map_4f603cba923241f7812ae571f404129c%29%3B%0A%20%20%20%20%20%20%20%20%20%20%20%20%0A%20%20%20%20%0A%20%20%20%20%20%20%20%20%20%20%20%20var%20popup_ab0ef626c5f648cfa9f93a2d865a6f74%20%3D%20L.popup%28%7BmaxWidth%3A%20%27300%27%7D%29%3B%0A%0A%20%20%20%20%20%20%20%20%20%20%20%20%0A%20%20%20%20%20%20%20%20%20%20%20%20%20%20%20%20var%20html_6e27c1f0c7464925b25636407f9a2a98%20%3D%20%24%28%27%3Cdiv%20id%3D%22html_6e27c1f0c7464925b25636407f9a2a98%22%20style%3D%22width%3A%20100.0%25%3B%20height%3A%20100.0%25%3B%22%3EDon%20Mills%20Cluster%202%3C/div%3E%27%29%5B0%5D%3B%0A%20%20%20%20%20%20%20%20%20%20%20%20%20%20%20%20popup_ab0ef626c5f648cfa9f93a2d865a6f74.setContent%28html_6e27c1f0c7464925b25636407f9a2a98%29%3B%0A%20%20%20%20%20%20%20%20%20%20%20%20%0A%0A%20%20%20%20%20%20%20%20%20%20%20%20circle_marker_5781032ca64141cc8866c516875eebce.bindPopup%28popup_ab0ef626c5f648cfa9f93a2d865a6f74%29%3B%0A%0A%20%20%20%20%20%20%20%20%20%20%20%20%0A%20%20%20%20%20%20%20%20%0A%20%20%20%20%0A%20%20%20%20%20%20%20%20%20%20%20%20var%20circle_marker_3419c07302e14b6fa61937f94d1c6ee0%20%3D%20L.circleMarker%28%0A%20%20%20%20%20%20%20%20%20%20%20%20%20%20%20%20%5B43.737473200000004%2C-79.46476329999999%5D%2C%0A%20%20%20%20%20%20%20%20%20%20%20%20%20%20%20%20%7B%0A%20%20%22bubblingMouseEvents%22%3A%20true%2C%0A%20%20%22color%22%3A%20%22%23d4dd80%22%2C%0A%20%20%22dashArray%22%3A%20null%2C%0A%20%20%22dashOffset%22%3A%20null%2C%0A%20%20%22fill%22%3A%20true%2C%0A%20%20%22fillColor%22%3A%20%22%23d4dd80%22%2C%0A%20%20%22fillOpacity%22%3A%200.7%2C%0A%20%20%22fillRule%22%3A%20%22evenodd%22%2C%0A%20%20%22lineCap%22%3A%20%22round%22%2C%0A%20%20%22lineJoin%22%3A%20%22round%22%2C%0A%20%20%22opacity%22%3A%201.0%2C%0A%20%20%22radius%22%3A%205%2C%0A%20%20%22stroke%22%3A%20true%2C%0A%20%20%22weight%22%3A%203%0A%7D%0A%20%20%20%20%20%20%20%20%20%20%20%20%20%20%20%20%29.addTo%28map_4f603cba923241f7812ae571f404129c%29%3B%0A%20%20%20%20%20%20%20%20%20%20%20%20%0A%20%20%20%20%0A%20%20%20%20%20%20%20%20%20%20%20%20var%20popup_4bea83c08b1e4cf0adebb88595e60e17%20%3D%20L.popup%28%7BmaxWidth%3A%20%27300%27%7D%29%3B%0A%0A%20%20%20%20%20%20%20%20%20%20%20%20%0A%20%20%20%20%20%20%20%20%20%20%20%20%20%20%20%20var%20html_323a725c20b44f158e369dfd95af68f3%20%3D%20%24%28%27%3Cdiv%20id%3D%22html_323a725c20b44f158e369dfd95af68f3%22%20style%3D%22width%3A%20100.0%25%3B%20height%3A%20100.0%25%3B%22%3EDownsview%20Cluster%203%3C/div%3E%27%29%5B0%5D%3B%0A%20%20%20%20%20%20%20%20%20%20%20%20%20%20%20%20popup_4bea83c08b1e4cf0adebb88595e60e17.setContent%28html_323a725c20b44f158e369dfd95af68f3%29%3B%0A%20%20%20%20%20%20%20%20%20%20%20%20%0A%0A%20%20%20%20%20%20%20%20%20%20%20%20circle_marker_3419c07302e14b6fa61937f94d1c6ee0.bindPopup%28popup_4bea83c08b1e4cf0adebb88595e60e17%29%3B%0A%0A%20%20%20%20%20%20%20%20%20%20%20%20%0A%20%20%20%20%20%20%20%20%0A%20%20%20%20%0A%20%20%20%20%20%20%20%20%20%20%20%20var%20circle_marker_e36085056a014e859d6859ec514adbe2%20%3D%20L.circleMarker%28%0A%20%20%20%20%20%20%20%20%20%20%20%20%20%20%20%20%5B43.7390146%2C-79.5069436%5D%2C%0A%20%20%20%20%20%20%20%20%20%20%20%20%20%20%20%20%7B%0A%20%20%22bubblingMouseEvents%22%3A%20true%2C%0A%20%20%22color%22%3A%20%22%23d4dd80%22%2C%0A%20%20%22dashArray%22%3A%20null%2C%0A%20%20%22dashOffset%22%3A%20null%2C%0A%20%20%22fill%22%3A%20true%2C%0A%20%20%22fillColor%22%3A%20%22%23d4dd80%22%2C%0A%20%20%22fillOpacity%22%3A%200.7%2C%0A%20%20%22fillRule%22%3A%20%22evenodd%22%2C%0A%20%20%22lineCap%22%3A%20%22round%22%2C%0A%20%20%22lineJoin%22%3A%20%22round%22%2C%0A%20%20%22opacity%22%3A%201.0%2C%0A%20%20%22radius%22%3A%205%2C%0A%20%20%22stroke%22%3A%20true%2C%0A%20%20%22weight%22%3A%203%0A%7D%0A%20%20%20%20%20%20%20%20%20%20%20%20%20%20%20%20%29.addTo%28map_4f603cba923241f7812ae571f404129c%29%3B%0A%20%20%20%20%20%20%20%20%20%20%20%20%0A%20%20%20%20%0A%20%20%20%20%20%20%20%20%20%20%20%20var%20popup_e88ad66e85c24685a2de617410fc8d6a%20%3D%20L.popup%28%7BmaxWidth%3A%20%27300%27%7D%29%3B%0A%0A%20%20%20%20%20%20%20%20%20%20%20%20%0A%20%20%20%20%20%20%20%20%20%20%20%20%20%20%20%20var%20html_3b033ace321046ffa0d54a4b9b7a2d27%20%3D%20%24%28%27%3Cdiv%20id%3D%22html_3b033ace321046ffa0d54a4b9b7a2d27%22%20style%3D%22width%3A%20100.0%25%3B%20height%3A%20100.0%25%3B%22%3EDownsview%20Cluster%203%3C/div%3E%27%29%5B0%5D%3B%0A%20%20%20%20%20%20%20%20%20%20%20%20%20%20%20%20popup_e88ad66e85c24685a2de617410fc8d6a.setContent%28html_3b033ace321046ffa0d54a4b9b7a2d27%29%3B%0A%20%20%20%20%20%20%20%20%20%20%20%20%0A%0A%20%20%20%20%20%20%20%20%20%20%20%20circle_marker_e36085056a014e859d6859ec514adbe2.bindPopup%28popup_e88ad66e85c24685a2de617410fc8d6a%29%3B%0A%0A%20%20%20%20%20%20%20%20%20%20%20%20%0A%20%20%20%20%20%20%20%20%0A%20%20%20%20%0A%20%20%20%20%20%20%20%20%20%20%20%20var%20circle_marker_de4b934aabcb483c9ca4826fdd278933%20%3D%20L.circleMarker%28%0A%20%20%20%20%20%20%20%20%20%20%20%20%20%20%20%20%5B43.7284964%2C-79.49569740000001%5D%2C%0A%20%20%20%20%20%20%20%20%20%20%20%20%20%20%20%20%7B%0A%20%20%22bubblingMouseEvents%22%3A%20true%2C%0A%20%20%22color%22%3A%20%22%23d4dd80%22%2C%0A%20%20%22dashArray%22%3A%20null%2C%0A%20%20%22dashOffset%22%3A%20null%2C%0A%20%20%22fill%22%3A%20true%2C%0A%20%20%22fillColor%22%3A%20%22%23d4dd80%22%2C%0A%20%20%22fillOpacity%22%3A%200.7%2C%0A%20%20%22fillRule%22%3A%20%22evenodd%22%2C%0A%20%20%22lineCap%22%3A%20%22round%22%2C%0A%20%20%22lineJoin%22%3A%20%22round%22%2C%0A%20%20%22opacity%22%3A%201.0%2C%0A%20%20%22radius%22%3A%205%2C%0A%20%20%22stroke%22%3A%20true%2C%0A%20%20%22weight%22%3A%203%0A%7D%0A%20%20%20%20%20%20%20%20%20%20%20%20%20%20%20%20%29.addTo%28map_4f603cba923241f7812ae571f404129c%29%3B%0A%20%20%20%20%20%20%20%20%20%20%20%20%0A%20%20%20%20%0A%20%20%20%20%20%20%20%20%20%20%20%20var%20popup_948706d07eae4ec09958f7629cf0db2b%20%3D%20L.popup%28%7BmaxWidth%3A%20%27300%27%7D%29%3B%0A%0A%20%20%20%20%20%20%20%20%20%20%20%20%0A%20%20%20%20%20%20%20%20%20%20%20%20%20%20%20%20var%20html_8cbdcd2c1949454eaec134b2a8ee78cd%20%3D%20%24%28%27%3Cdiv%20id%3D%22html_8cbdcd2c1949454eaec134b2a8ee78cd%22%20style%3D%22width%3A%20100.0%25%3B%20height%3A%20100.0%25%3B%22%3EDownsview%20Cluster%203%3C/div%3E%27%29%5B0%5D%3B%0A%20%20%20%20%20%20%20%20%20%20%20%20%20%20%20%20popup_948706d07eae4ec09958f7629cf0db2b.setContent%28html_8cbdcd2c1949454eaec134b2a8ee78cd%29%3B%0A%20%20%20%20%20%20%20%20%20%20%20%20%0A%0A%20%20%20%20%20%20%20%20%20%20%20%20circle_marker_de4b934aabcb483c9ca4826fdd278933.bindPopup%28popup_948706d07eae4ec09958f7629cf0db2b%29%3B%0A%0A%20%20%20%20%20%20%20%20%20%20%20%20%0A%20%20%20%20%20%20%20%20%0A%20%20%20%20%0A%20%20%20%20%20%20%20%20%20%20%20%20var%20circle_marker_3096d97840fc4aefb27bf8ce2c74af90%20%3D%20L.circleMarker%28%0A%20%20%20%20%20%20%20%20%20%20%20%20%20%20%20%20%5B43.7616313%2C-79.52099940000001%5D%2C%0A%20%20%20%20%20%20%20%20%20%20%20%20%20%20%20%20%7B%0A%20%20%22bubblingMouseEvents%22%3A%20true%2C%0A%20%20%22color%22%3A%20%22%23d4dd80%22%2C%0A%20%20%22dashArray%22%3A%20null%2C%0A%20%20%22dashOffset%22%3A%20null%2C%0A%20%20%22fill%22%3A%20true%2C%0A%20%20%22fillColor%22%3A%20%22%23d4dd80%22%2C%0A%20%20%22fillOpacity%22%3A%200.7%2C%0A%20%20%22fillRule%22%3A%20%22evenodd%22%2C%0A%20%20%22lineCap%22%3A%20%22round%22%2C%0A%20%20%22lineJoin%22%3A%20%22round%22%2C%0A%20%20%22opacity%22%3A%201.0%2C%0A%20%20%22radius%22%3A%205%2C%0A%20%20%22stroke%22%3A%20true%2C%0A%20%20%22weight%22%3A%203%0A%7D%0A%20%20%20%20%20%20%20%20%20%20%20%20%20%20%20%20%29.addTo%28map_4f603cba923241f7812ae571f404129c%29%3B%0A%20%20%20%20%20%20%20%20%20%20%20%20%0A%20%20%20%20%0A%20%20%20%20%20%20%20%20%20%20%20%20var%20popup_41a0d583329346c28d991c5d6ba81c27%20%3D%20L.popup%28%7BmaxWidth%3A%20%27300%27%7D%29%3B%0A%0A%20%20%20%20%20%20%20%20%20%20%20%20%0A%20%20%20%20%20%20%20%20%20%20%20%20%20%20%20%20var%20html_20bf40aaa1c64b488ced387e6a44f87a%20%3D%20%24%28%27%3Cdiv%20id%3D%22html_20bf40aaa1c64b488ced387e6a44f87a%22%20style%3D%22width%3A%20100.0%25%3B%20height%3A%20100.0%25%3B%22%3EDownsview%20Cluster%203%3C/div%3E%27%29%5B0%5D%3B%0A%20%20%20%20%20%20%20%20%20%20%20%20%20%20%20%20popup_41a0d583329346c28d991c5d6ba81c27.setContent%28html_20bf40aaa1c64b488ced387e6a44f87a%29%3B%0A%20%20%20%20%20%20%20%20%20%20%20%20%0A%0A%20%20%20%20%20%20%20%20%20%20%20%20circle_marker_3096d97840fc4aefb27bf8ce2c74af90.bindPopup%28popup_41a0d583329346c28d991c5d6ba81c27%29%3B%0A%0A%20%20%20%20%20%20%20%20%20%20%20%20%0A%20%20%20%20%20%20%20%20%0A%20%20%20%20%0A%20%20%20%20%20%20%20%20%20%20%20%20var%20circle_marker_9d58a46048a64cbf87ad49b117665c94%20%3D%20L.circleMarker%28%0A%20%20%20%20%20%20%20%20%20%20%20%20%20%20%20%20%5B43.66900510000001%2C-79.4422593%5D%2C%0A%20%20%20%20%20%20%20%20%20%20%20%20%20%20%20%20%7B%0A%20%20%22bubblingMouseEvents%22%3A%20true%2C%0A%20%20%22color%22%3A%20%22%23ff0000%22%2C%0A%20%20%22dashArray%22%3A%20null%2C%0A%20%20%22dashOffset%22%3A%20null%2C%0A%20%20%22fill%22%3A%20true%2C%0A%20%20%22fillColor%22%3A%20%22%23ff0000%22%2C%0A%20%20%22fillOpacity%22%3A%200.7%2C%0A%20%20%22fillRule%22%3A%20%22evenodd%22%2C%0A%20%20%22lineCap%22%3A%20%22round%22%2C%0A%20%20%22lineJoin%22%3A%20%22round%22%2C%0A%20%20%22opacity%22%3A%201.0%2C%0A%20%20%22radius%22%3A%205%2C%0A%20%20%22stroke%22%3A%20true%2C%0A%20%20%22weight%22%3A%203%0A%7D%0A%20%20%20%20%20%20%20%20%20%20%20%20%20%20%20%20%29.addTo%28map_4f603cba923241f7812ae571f404129c%29%3B%0A%20%20%20%20%20%20%20%20%20%20%20%20%0A%20%20%20%20%0A%20%20%20%20%20%20%20%20%20%20%20%20var%20popup_64a6bc2f3e4d48098b026e70ff69f8f5%20%3D%20L.popup%28%7BmaxWidth%3A%20%27300%27%7D%29%3B%0A%0A%20%20%20%20%20%20%20%20%20%20%20%20%0A%20%20%20%20%20%20%20%20%20%20%20%20%20%20%20%20var%20html_a97cdffbd77248518411079264e83354%20%3D%20%24%28%27%3Cdiv%20id%3D%22html_a97cdffbd77248518411079264e83354%22%20style%3D%22width%3A%20100.0%25%3B%20height%3A%20100.0%25%3B%22%3EDufferin%2C%20Dovercourt%20Village%20Cluster%200%3C/div%3E%27%29%5B0%5D%3B%0A%20%20%20%20%20%20%20%20%20%20%20%20%20%20%20%20popup_64a6bc2f3e4d48098b026e70ff69f8f5.setContent%28html_a97cdffbd77248518411079264e83354%29%3B%0A%20%20%20%20%20%20%20%20%20%20%20%20%0A%0A%20%20%20%20%20%20%20%20%20%20%20%20circle_marker_9d58a46048a64cbf87ad49b117665c94.bindPopup%28popup_64a6bc2f3e4d48098b026e70ff69f8f5%29%3B%0A%0A%20%20%20%20%20%20%20%20%20%20%20%20%0A%20%20%20%20%20%20%20%20%0A%20%20%20%20%0A%20%20%20%20%20%20%20%20%20%20%20%20var%20circle_marker_e80340cd738141bda5c2e49bcc6b673a%20%3D%20L.circleMarker%28%0A%20%20%20%20%20%20%20%20%20%20%20%20%20%20%20%20%5B43.7785175%2C-79.3465557%5D%2C%0A%20%20%20%20%20%20%20%20%20%20%20%20%20%20%20%20%7B%0A%20%20%22bubblingMouseEvents%22%3A%20true%2C%0A%20%20%22color%22%3A%20%22%232adddd%22%2C%0A%20%20%22dashArray%22%3A%20null%2C%0A%20%20%22dashOffset%22%3A%20null%2C%0A%20%20%22fill%22%3A%20true%2C%0A%20%20%22fillColor%22%3A%20%22%232adddd%22%2C%0A%20%20%22fillOpacity%22%3A%200.7%2C%0A%20%20%22fillRule%22%3A%20%22evenodd%22%2C%0A%20%20%22lineCap%22%3A%20%22round%22%2C%0A%20%20%22lineJoin%22%3A%20%22round%22%2C%0A%20%20%22opacity%22%3A%201.0%2C%0A%20%20%22radius%22%3A%205%2C%0A%20%20%22stroke%22%3A%20true%2C%0A%20%20%22weight%22%3A%203%0A%7D%0A%20%20%20%20%20%20%20%20%20%20%20%20%20%20%20%20%29.addTo%28map_4f603cba923241f7812ae571f404129c%29%3B%0A%20%20%20%20%20%20%20%20%20%20%20%20%0A%20%20%20%20%0A%20%20%20%20%20%20%20%20%20%20%20%20var%20popup_ae8fd995d2094611bf6e31a43f8340f9%20%3D%20L.popup%28%7BmaxWidth%3A%20%27300%27%7D%29%3B%0A%0A%20%20%20%20%20%20%20%20%20%20%20%20%0A%20%20%20%20%20%20%20%20%20%20%20%20%20%20%20%20var%20html_6eccf6737f3c46b2accf4612698af07c%20%3D%20%24%28%27%3Cdiv%20id%3D%22html_6eccf6737f3c46b2accf4612698af07c%22%20style%3D%22width%3A%20100.0%25%3B%20height%3A%20100.0%25%3B%22%3EFairview%2C%20Henry%20Farm%2C%20Oriole%20Cluster%202%3C/div%3E%27%29%5B0%5D%3B%0A%20%20%20%20%20%20%20%20%20%20%20%20%20%20%20%20popup_ae8fd995d2094611bf6e31a43f8340f9.setContent%28html_6eccf6737f3c46b2accf4612698af07c%29%3B%0A%20%20%20%20%20%20%20%20%20%20%20%20%0A%0A%20%20%20%20%20%20%20%20%20%20%20%20circle_marker_e80340cd738141bda5c2e49bcc6b673a.bindPopup%28popup_ae8fd995d2094611bf6e31a43f8340f9%29%3B%0A%0A%20%20%20%20%20%20%20%20%20%20%20%20%0A%20%20%20%20%20%20%20%20%0A%20%20%20%20%0A%20%20%20%20%20%20%20%20%20%20%20%20var%20circle_marker_e9169d4d311e453badf84c7b30edabaf%20%3D%20L.circleMarker%28%0A%20%20%20%20%20%20%20%20%20%20%20%20%20%20%20%20%5B43.6484292%2C-79.3822802%5D%2C%0A%20%20%20%20%20%20%20%20%20%20%20%20%20%20%20%20%7B%0A%20%20%22bubblingMouseEvents%22%3A%20true%2C%0A%20%20%22color%22%3A%20%22%232adddd%22%2C%0A%20%20%22dashArray%22%3A%20null%2C%0A%20%20%22dashOffset%22%3A%20null%2C%0A%20%20%22fill%22%3A%20true%2C%0A%20%20%22fillColor%22%3A%20%22%232adddd%22%2C%0A%20%20%22fillOpacity%22%3A%200.7%2C%0A%20%20%22fillRule%22%3A%20%22evenodd%22%2C%0A%20%20%22lineCap%22%3A%20%22round%22%2C%0A%20%20%22lineJoin%22%3A%20%22round%22%2C%0A%20%20%22opacity%22%3A%201.0%2C%0A%20%20%22radius%22%3A%205%2C%0A%20%20%22stroke%22%3A%20true%2C%0A%20%20%22weight%22%3A%203%0A%7D%0A%20%20%20%20%20%20%20%20%20%20%20%20%20%20%20%20%29.addTo%28map_4f603cba923241f7812ae571f404129c%29%3B%0A%20%20%20%20%20%20%20%20%20%20%20%20%0A%20%20%20%20%0A%20%20%20%20%20%20%20%20%20%20%20%20var%20popup_0ef0e24e1e544362b75e82e9a4254e89%20%3D%20L.popup%28%7BmaxWidth%3A%20%27300%27%7D%29%3B%0A%0A%20%20%20%20%20%20%20%20%20%20%20%20%0A%20%20%20%20%20%20%20%20%20%20%20%20%20%20%20%20var%20html_e7f1593a75a04fe385011ec0798ccf62%20%3D%20%24%28%27%3Cdiv%20id%3D%22html_e7f1593a75a04fe385011ec0798ccf62%22%20style%3D%22width%3A%20100.0%25%3B%20height%3A%20100.0%25%3B%22%3EFirst%20Canadian%20Place%2C%20Underground%20city%20Cluster%202%3C/div%3E%27%29%5B0%5D%3B%0A%20%20%20%20%20%20%20%20%20%20%20%20%20%20%20%20popup_0ef0e24e1e544362b75e82e9a4254e89.setContent%28html_e7f1593a75a04fe385011ec0798ccf62%29%3B%0A%20%20%20%20%20%20%20%20%20%20%20%20%0A%0A%20%20%20%20%20%20%20%20%20%20%20%20circle_marker_e9169d4d311e453badf84c7b30edabaf.bindPopup%28popup_0ef0e24e1e544362b75e82e9a4254e89%29%3B%0A%0A%20%20%20%20%20%20%20%20%20%20%20%20%0A%20%20%20%20%20%20%20%20%0A%20%20%20%20%0A%20%20%20%20%20%20%20%20%20%20%20%20var%20circle_marker_3c9faf363e9c443f8b5517ddd94a1e3b%20%3D%20L.circleMarker%28%0A%20%20%20%20%20%20%20%20%20%20%20%20%20%20%20%20%5B43.6571618%2C-79.37893709999999%5D%2C%0A%20%20%20%20%20%20%20%20%20%20%20%20%20%20%20%20%7B%0A%20%20%22bubblingMouseEvents%22%3A%20true%2C%0A%20%20%22color%22%3A%20%22%232adddd%22%2C%0A%20%20%22dashArray%22%3A%20null%2C%0A%20%20%22dashOffset%22%3A%20null%2C%0A%20%20%22fill%22%3A%20true%2C%0A%20%20%22fillColor%22%3A%20%22%232adddd%22%2C%0A%20%20%22fillOpacity%22%3A%200.7%2C%0A%20%20%22fillRule%22%3A%20%22evenodd%22%2C%0A%20%20%22lineCap%22%3A%20%22round%22%2C%0A%20%20%22lineJoin%22%3A%20%22round%22%2C%0A%20%20%22opacity%22%3A%201.0%2C%0A%20%20%22radius%22%3A%205%2C%0A%20%20%22stroke%22%3A%20true%2C%0A%20%20%22weight%22%3A%203%0A%7D%0A%20%20%20%20%20%20%20%20%20%20%20%20%20%20%20%20%29.addTo%28map_4f603cba923241f7812ae571f404129c%29%3B%0A%20%20%20%20%20%20%20%20%20%20%20%20%0A%20%20%20%20%0A%20%20%20%20%20%20%20%20%20%20%20%20var%20popup_9100ab43078244d9942cbd30741f88e3%20%3D%20L.popup%28%7BmaxWidth%3A%20%27300%27%7D%29%3B%0A%0A%20%20%20%20%20%20%20%20%20%20%20%20%0A%20%20%20%20%20%20%20%20%20%20%20%20%20%20%20%20var%20html_a498cb5c77ae42918238a3638f6e6f41%20%3D%20%24%28%27%3Cdiv%20id%3D%22html_a498cb5c77ae42918238a3638f6e6f41%22%20style%3D%22width%3A%20100.0%25%3B%20height%3A%20100.0%25%3B%22%3EGarden%20District%2C%20Ryerson%20Cluster%202%3C/div%3E%27%29%5B0%5D%3B%0A%20%20%20%20%20%20%20%20%20%20%20%20%20%20%20%20popup_9100ab43078244d9942cbd30741f88e3.setContent%28html_a498cb5c77ae42918238a3638f6e6f41%29%3B%0A%20%20%20%20%20%20%20%20%20%20%20%20%0A%0A%20%20%20%20%20%20%20%20%20%20%20%20circle_marker_3c9faf363e9c443f8b5517ddd94a1e3b.bindPopup%28popup_9100ab43078244d9942cbd30741f88e3%29%3B%0A%0A%20%20%20%20%20%20%20%20%20%20%20%20%0A%20%20%20%20%20%20%20%20%0A%20%20%20%20%0A%20%20%20%20%20%20%20%20%20%20%20%20var%20circle_marker_1b3bb245e43e4da98de04a30bdcb09b8%20%3D%20L.circleMarker%28%0A%20%20%20%20%20%20%20%20%20%20%20%20%20%20%20%20%5B43.6408157%2C-79.38175229999999%5D%2C%0A%20%20%20%20%20%20%20%20%20%20%20%20%20%20%20%20%7B%0A%20%20%22bubblingMouseEvents%22%3A%20true%2C%0A%20%20%22color%22%3A%20%22%232adddd%22%2C%0A%20%20%22dashArray%22%3A%20null%2C%0A%20%20%22dashOffset%22%3A%20null%2C%0A%20%20%22fill%22%3A%20true%2C%0A%20%20%22fillColor%22%3A%20%22%232adddd%22%2C%0A%20%20%22fillOpacity%22%3A%200.7%2C%0A%20%20%22fillRule%22%3A%20%22evenodd%22%2C%0A%20%20%22lineCap%22%3A%20%22round%22%2C%0A%20%20%22lineJoin%22%3A%20%22round%22%2C%0A%20%20%22opacity%22%3A%201.0%2C%0A%20%20%22radius%22%3A%205%2C%0A%20%20%22stroke%22%3A%20true%2C%0A%20%20%22weight%22%3A%203%0A%7D%0A%20%20%20%20%20%20%20%20%20%20%20%20%20%20%20%20%29.addTo%28map_4f603cba923241f7812ae571f404129c%29%3B%0A%20%20%20%20%20%20%20%20%20%20%20%20%0A%20%20%20%20%0A%20%20%20%20%20%20%20%20%20%20%20%20var%20popup_e840d62f063845b09cfc044f2d3268c5%20%3D%20L.popup%28%7BmaxWidth%3A%20%27300%27%7D%29%3B%0A%0A%20%20%20%20%20%20%20%20%20%20%20%20%0A%20%20%20%20%20%20%20%20%20%20%20%20%20%20%20%20var%20html_99a580fb4d2b494aa403a3a7c014c9bd%20%3D%20%24%28%27%3Cdiv%20id%3D%22html_99a580fb4d2b494aa403a3a7c014c9bd%22%20style%3D%22width%3A%20100.0%25%3B%20height%3A%20100.0%25%3B%22%3EHarbourfront%20East%2C%20Union%20Station%2C%20Toronto%20Islands%20Cluster%202%3C/div%3E%27%29%5B0%5D%3B%0A%20%20%20%20%20%20%20%20%20%20%20%20%20%20%20%20popup_e840d62f063845b09cfc044f2d3268c5.setContent%28html_99a580fb4d2b494aa403a3a7c014c9bd%29%3B%0A%20%20%20%20%20%20%20%20%20%20%20%20%0A%0A%20%20%20%20%20%20%20%20%20%20%20%20circle_marker_1b3bb245e43e4da98de04a30bdcb09b8.bindPopup%28popup_e840d62f063845b09cfc044f2d3268c5%29%3B%0A%0A%20%20%20%20%20%20%20%20%20%20%20%20%0A%20%20%20%20%20%20%20%20%0A%20%20%20%20%0A%20%20%20%20%20%20%20%20%20%20%20%20var%20circle_marker_f6b12d1b0eea40aaa6a5b51052816a81%20%3D%20L.circleMarker%28%0A%20%20%20%20%20%20%20%20%20%20%20%20%20%20%20%20%5B43.6616083%2C-79.46476329999999%5D%2C%0A%20%20%20%20%20%20%20%20%20%20%20%20%20%20%20%20%7B%0A%20%20%22bubblingMouseEvents%22%3A%20true%2C%0A%20%20%22color%22%3A%20%22%232adddd%22%2C%0A%20%20%22dashArray%22%3A%20null%2C%0A%20%20%22dashOffset%22%3A%20null%2C%0A%20%20%22fill%22%3A%20true%2C%0A%20%20%22fillColor%22%3A%20%22%232adddd%22%2C%0A%20%20%22fillOpacity%22%3A%200.7%2C%0A%20%20%22fillRule%22%3A%20%22evenodd%22%2C%0A%20%20%22lineCap%22%3A%20%22round%22%2C%0A%20%20%22lineJoin%22%3A%20%22round%22%2C%0A%20%20%22opacity%22%3A%201.0%2C%0A%20%20%22radius%22%3A%205%2C%0A%20%20%22stroke%22%3A%20true%2C%0A%20%20%22weight%22%3A%203%0A%7D%0A%20%20%20%20%20%20%20%20%20%20%20%20%20%20%20%20%29.addTo%28map_4f603cba923241f7812ae571f404129c%29%3B%0A%20%20%20%20%20%20%20%20%20%20%20%20%0A%20%20%20%20%0A%20%20%20%20%20%20%20%20%20%20%20%20var%20popup_0edf703b7991423490c49e7c6de21da3%20%3D%20L.popup%28%7BmaxWidth%3A%20%27300%27%7D%29%3B%0A%0A%20%20%20%20%20%20%20%20%20%20%20%20%0A%20%20%20%20%20%20%20%20%20%20%20%20%20%20%20%20var%20html_8ec81bc14f3b4525ac50b93a0a1be7d4%20%3D%20%24%28%27%3Cdiv%20id%3D%22html_8ec81bc14f3b4525ac50b93a0a1be7d4%22%20style%3D%22width%3A%20100.0%25%3B%20height%3A%20100.0%25%3B%22%3EHigh%20Park%2C%20The%20Junction%20South%20Cluster%202%3C/div%3E%27%29%5B0%5D%3B%0A%20%20%20%20%20%20%20%20%20%20%20%20%20%20%20%20popup_0edf703b7991423490c49e7c6de21da3.setContent%28html_8ec81bc14f3b4525ac50b93a0a1be7d4%29%3B%0A%20%20%20%20%20%20%20%20%20%20%20%20%0A%0A%20%20%20%20%20%20%20%20%20%20%20%20circle_marker_f6b12d1b0eea40aaa6a5b51052816a81.bindPopup%28popup_0edf703b7991423490c49e7c6de21da3%29%3B%0A%0A%20%20%20%20%20%20%20%20%20%20%20%20%0A%20%20%20%20%20%20%20%20%0A%20%20%20%20%0A%20%20%20%20%20%20%20%20%20%20%20%20var%20circle_marker_a4fc909d416b4fcaa89750ec79b48c9a%20%3D%20L.circleMarker%28%0A%20%20%20%20%20%20%20%20%20%20%20%20%20%20%20%20%5B43.6689985%2C-79.31557159999998%5D%2C%0A%20%20%20%20%20%20%20%20%20%20%20%20%20%20%20%20%7B%0A%20%20%22bubblingMouseEvents%22%3A%20true%2C%0A%20%20%22color%22%3A%20%22%23ff0000%22%2C%0A%20%20%22dashArray%22%3A%20null%2C%0A%20%20%22dashOffset%22%3A%20null%2C%0A%20%20%22fill%22%3A%20true%2C%0A%20%20%22fillColor%22%3A%20%22%23ff0000%22%2C%0A%20%20%22fillOpacity%22%3A%200.7%2C%0A%20%20%22fillRule%22%3A%20%22evenodd%22%2C%0A%20%20%22lineCap%22%3A%20%22round%22%2C%0A%20%20%22lineJoin%22%3A%20%22round%22%2C%0A%20%20%22opacity%22%3A%201.0%2C%0A%20%20%22radius%22%3A%205%2C%0A%20%20%22stroke%22%3A%20true%2C%0A%20%20%22weight%22%3A%203%0A%7D%0A%20%20%20%20%20%20%20%20%20%20%20%20%20%20%20%20%29.addTo%28map_4f603cba923241f7812ae571f404129c%29%3B%0A%20%20%20%20%20%20%20%20%20%20%20%20%0A%20%20%20%20%0A%20%20%20%20%20%20%20%20%20%20%20%20var%20popup_49b3f0b0294c4f22a61a4f7ec44b2764%20%3D%20L.popup%28%7BmaxWidth%3A%20%27300%27%7D%29%3B%0A%0A%20%20%20%20%20%20%20%20%20%20%20%20%0A%20%20%20%20%20%20%20%20%20%20%20%20%20%20%20%20var%20html_5099ff6760e540aa93d4ec12950a76f1%20%3D%20%24%28%27%3Cdiv%20id%3D%22html_5099ff6760e540aa93d4ec12950a76f1%22%20style%3D%22width%3A%20100.0%25%3B%20height%3A%20100.0%25%3B%22%3EIndia%20Bazaar%2C%20The%20Beaches%20West%20Cluster%200%3C/div%3E%27%29%5B0%5D%3B%0A%20%20%20%20%20%20%20%20%20%20%20%20%20%20%20%20popup_49b3f0b0294c4f22a61a4f7ec44b2764.setContent%28html_5099ff6760e540aa93d4ec12950a76f1%29%3B%0A%20%20%20%20%20%20%20%20%20%20%20%20%0A%0A%20%20%20%20%20%20%20%20%20%20%20%20circle_marker_a4fc909d416b4fcaa89750ec79b48c9a.bindPopup%28popup_49b3f0b0294c4f22a61a4f7ec44b2764%29%3B%0A%0A%20%20%20%20%20%20%20%20%20%20%20%20%0A%20%20%20%20%20%20%20%20%0A%20%20%20%20%0A%20%20%20%20%20%20%20%20%20%20%20%20var%20circle_marker_b9574c55f8e942a2a2d4c96a7be444a7%20%3D%20L.circleMarker%28%0A%20%20%20%20%20%20%20%20%20%20%20%20%20%20%20%20%5B43.6532057%2C-79.4000493%5D%2C%0A%20%20%20%20%20%20%20%20%20%20%20%20%20%20%20%20%7B%0A%20%20%22bubblingMouseEvents%22%3A%20true%2C%0A%20%20%22color%22%3A%20%22%232adddd%22%2C%0A%20%20%22dashArray%22%3A%20null%2C%0A%20%20%22dashOffset%22%3A%20null%2C%0A%20%20%22fill%22%3A%20true%2C%0A%20%20%22fillColor%22%3A%20%22%232adddd%22%2C%0A%20%20%22fillOpacity%22%3A%200.7%2C%0A%20%20%22fillRule%22%3A%20%22evenodd%22%2C%0A%20%20%22lineCap%22%3A%20%22round%22%2C%0A%20%20%22lineJoin%22%3A%20%22round%22%2C%0A%20%20%22opacity%22%3A%201.0%2C%0A%20%20%22radius%22%3A%205%2C%0A%20%20%22stroke%22%3A%20true%2C%0A%20%20%22weight%22%3A%203%0A%7D%0A%20%20%20%20%20%20%20%20%20%20%20%20%20%20%20%20%29.addTo%28map_4f603cba923241f7812ae571f404129c%29%3B%0A%20%20%20%20%20%20%20%20%20%20%20%20%0A%20%20%20%20%0A%20%20%20%20%20%20%20%20%20%20%20%20var%20popup_3e4c830857cb4d1d8176fde271d8024b%20%3D%20L.popup%28%7BmaxWidth%3A%20%27300%27%7D%29%3B%0A%0A%20%20%20%20%20%20%20%20%20%20%20%20%0A%20%20%20%20%20%20%20%20%20%20%20%20%20%20%20%20var%20html_0fbcda7f62c84820a71a8660f0d1fc65%20%3D%20%24%28%27%3Cdiv%20id%3D%22html_0fbcda7f62c84820a71a8660f0d1fc65%22%20style%3D%22width%3A%20100.0%25%3B%20height%3A%20100.0%25%3B%22%3EKensington%20Market%2C%20Chinatown%2C%20Grange%20Park%20Cluster%202%3C/div%3E%27%29%5B0%5D%3B%0A%20%20%20%20%20%20%20%20%20%20%20%20%20%20%20%20popup_3e4c830857cb4d1d8176fde271d8024b.setContent%28html_0fbcda7f62c84820a71a8660f0d1fc65%29%3B%0A%20%20%20%20%20%20%20%20%20%20%20%20%0A%0A%20%20%20%20%20%20%20%20%20%20%20%20circle_marker_b9574c55f8e942a2a2d4c96a7be444a7.bindPopup%28popup_3e4c830857cb4d1d8176fde271d8024b%29%3B%0A%0A%20%20%20%20%20%20%20%20%20%20%20%20%0A%20%20%20%20%20%20%20%20%0A%20%20%20%20%0A%20%20%20%20%20%20%20%20%20%20%20%20var%20circle_marker_8b8926949d3042ee965fb06b29b9069b%20%3D%20L.circleMarker%28%0A%20%20%20%20%20%20%20%20%20%20%20%20%20%20%20%20%5B43.718517999999996%2C-79.46476329999999%5D%2C%0A%20%20%20%20%20%20%20%20%20%20%20%20%20%20%20%20%7B%0A%20%20%22bubblingMouseEvents%22%3A%20true%2C%0A%20%20%22color%22%3A%20%22%232adddd%22%2C%0A%20%20%22dashArray%22%3A%20null%2C%0A%20%20%22dashOffset%22%3A%20null%2C%0A%20%20%22fill%22%3A%20true%2C%0A%20%20%22fillColor%22%3A%20%22%232adddd%22%2C%0A%20%20%22fillOpacity%22%3A%200.7%2C%0A%20%20%22fillRule%22%3A%20%22evenodd%22%2C%0A%20%20%22lineCap%22%3A%20%22round%22%2C%0A%20%20%22lineJoin%22%3A%20%22round%22%2C%0A%20%20%22opacity%22%3A%201.0%2C%0A%20%20%22radius%22%3A%205%2C%0A%20%20%22stroke%22%3A%20true%2C%0A%20%20%22weight%22%3A%203%0A%7D%0A%20%20%20%20%20%20%20%20%20%20%20%20%20%20%20%20%29.addTo%28map_4f603cba923241f7812ae571f404129c%29%3B%0A%20%20%20%20%20%20%20%20%20%20%20%20%0A%20%20%20%20%0A%20%20%20%20%20%20%20%20%20%20%20%20var%20popup_901f764f7f874682b026c331bc1a36da%20%3D%20L.popup%28%7BmaxWidth%3A%20%27300%27%7D%29%3B%0A%0A%20%20%20%20%20%20%20%20%20%20%20%20%0A%20%20%20%20%20%20%20%20%20%20%20%20%20%20%20%20var%20html_60315de24ef149e7a822a4c77d5ee6b2%20%3D%20%24%28%27%3Cdiv%20id%3D%22html_60315de24ef149e7a822a4c77d5ee6b2%22%20style%3D%22width%3A%20100.0%25%3B%20height%3A%20100.0%25%3B%22%3ELawrence%20Manor%2C%20Lawrence%20Heights%20Cluster%202%3C/div%3E%27%29%5B0%5D%3B%0A%20%20%20%20%20%20%20%20%20%20%20%20%20%20%20%20popup_901f764f7f874682b026c331bc1a36da.setContent%28html_60315de24ef149e7a822a4c77d5ee6b2%29%3B%0A%20%20%20%20%20%20%20%20%20%20%20%20%0A%0A%20%20%20%20%20%20%20%20%20%20%20%20circle_marker_8b8926949d3042ee965fb06b29b9069b.bindPopup%28popup_901f764f7f874682b026c331bc1a36da%29%3B%0A%0A%20%20%20%20%20%20%20%20%20%20%20%20%0A%20%20%20%20%20%20%20%20%0A%20%20%20%20%0A%20%20%20%20%20%20%20%20%20%20%20%20var%20circle_marker_592b377edaa24508b9357ed2abbe2b42%20%3D%20L.circleMarker%28%0A%20%20%20%20%20%20%20%20%20%20%20%20%20%20%20%20%5B43.7090604%2C-79.3634517%5D%2C%0A%20%20%20%20%20%20%20%20%20%20%20%20%20%20%20%20%7B%0A%20%20%22bubblingMouseEvents%22%3A%20true%2C%0A%20%20%22color%22%3A%20%22%232adddd%22%2C%0A%20%20%22dashArray%22%3A%20null%2C%0A%20%20%22dashOffset%22%3A%20null%2C%0A%20%20%22fill%22%3A%20true%2C%0A%20%20%22fillColor%22%3A%20%22%232adddd%22%2C%0A%20%20%22fillOpacity%22%3A%200.7%2C%0A%20%20%22fillRule%22%3A%20%22evenodd%22%2C%0A%20%20%22lineCap%22%3A%20%22round%22%2C%0A%20%20%22lineJoin%22%3A%20%22round%22%2C%0A%20%20%22opacity%22%3A%201.0%2C%0A%20%20%22radius%22%3A%205%2C%0A%20%20%22stroke%22%3A%20true%2C%0A%20%20%22weight%22%3A%203%0A%7D%0A%20%20%20%20%20%20%20%20%20%20%20%20%20%20%20%20%29.addTo%28map_4f603cba923241f7812ae571f404129c%29%3B%0A%20%20%20%20%20%20%20%20%20%20%20%20%0A%20%20%20%20%0A%20%20%20%20%20%20%20%20%20%20%20%20var%20popup_53ea0d6ee1694086bb72c19d7e26d949%20%3D%20L.popup%28%7BmaxWidth%3A%20%27300%27%7D%29%3B%0A%0A%20%20%20%20%20%20%20%20%20%20%20%20%0A%20%20%20%20%20%20%20%20%20%20%20%20%20%20%20%20var%20html_6a8c670fa6774a07a1c761cbab5d0b15%20%3D%20%24%28%27%3Cdiv%20id%3D%22html_6a8c670fa6774a07a1c761cbab5d0b15%22%20style%3D%22width%3A%20100.0%25%3B%20height%3A%20100.0%25%3B%22%3ELeaside%20Cluster%202%3C/div%3E%27%29%5B0%5D%3B%0A%20%20%20%20%20%20%20%20%20%20%20%20%20%20%20%20popup_53ea0d6ee1694086bb72c19d7e26d949.setContent%28html_6a8c670fa6774a07a1c761cbab5d0b15%29%3B%0A%20%20%20%20%20%20%20%20%20%20%20%20%0A%0A%20%20%20%20%20%20%20%20%20%20%20%20circle_marker_592b377edaa24508b9357ed2abbe2b42.bindPopup%28popup_53ea0d6ee1694086bb72c19d7e26d949%29%3B%0A%0A%20%20%20%20%20%20%20%20%20%20%20%20%0A%20%20%20%20%20%20%20%20%0A%20%20%20%20%0A%20%20%20%20%20%20%20%20%20%20%20%20var%20circle_marker_c2a2647b436441deb0985afa716b0d1a%20%3D%20L.circleMarker%28%0A%20%20%20%20%20%20%20%20%20%20%20%20%20%20%20%20%5B43.647926700000006%2C-79.4197497%5D%2C%0A%20%20%20%20%20%20%20%20%20%20%20%20%20%20%20%20%7B%0A%20%20%22bubblingMouseEvents%22%3A%20true%2C%0A%20%20%22color%22%3A%20%22%232adddd%22%2C%0A%20%20%22dashArray%22%3A%20null%2C%0A%20%20%22dashOffset%22%3A%20null%2C%0A%20%20%22fill%22%3A%20true%2C%0A%20%20%22fillColor%22%3A%20%22%232adddd%22%2C%0A%20%20%22fillOpacity%22%3A%200.7%2C%0A%20%20%22fillRule%22%3A%20%22evenodd%22%2C%0A%20%20%22lineCap%22%3A%20%22round%22%2C%0A%20%20%22lineJoin%22%3A%20%22round%22%2C%0A%20%20%22opacity%22%3A%201.0%2C%0A%20%20%22radius%22%3A%205%2C%0A%20%20%22stroke%22%3A%20true%2C%0A%20%20%22weight%22%3A%203%0A%7D%0A%20%20%20%20%20%20%20%20%20%20%20%20%20%20%20%20%29.addTo%28map_4f603cba923241f7812ae571f404129c%29%3B%0A%20%20%20%20%20%20%20%20%20%20%20%20%0A%20%20%20%20%0A%20%20%20%20%20%20%20%20%20%20%20%20var%20popup_6d9bfea2b35147cba96f613b97d8efc6%20%3D%20L.popup%28%7BmaxWidth%3A%20%27300%27%7D%29%3B%0A%0A%20%20%20%20%20%20%20%20%20%20%20%20%0A%20%20%20%20%20%20%20%20%20%20%20%20%20%20%20%20var%20html_2e160776dd59421cb8f2ddc7fde51144%20%3D%20%24%28%27%3Cdiv%20id%3D%22html_2e160776dd59421cb8f2ddc7fde51144%22%20style%3D%22width%3A%20100.0%25%3B%20height%3A%20100.0%25%3B%22%3ELittle%20Portugal%2C%20Trinity%20Cluster%202%3C/div%3E%27%29%5B0%5D%3B%0A%20%20%20%20%20%20%20%20%20%20%20%20%20%20%20%20popup_6d9bfea2b35147cba96f613b97d8efc6.setContent%28html_2e160776dd59421cb8f2ddc7fde51144%29%3B%0A%20%20%20%20%20%20%20%20%20%20%20%20%0A%0A%20%20%20%20%20%20%20%20%20%20%20%20circle_marker_c2a2647b436441deb0985afa716b0d1a.bindPopup%28popup_6d9bfea2b35147cba96f613b97d8efc6%29%3B%0A%0A%20%20%20%20%20%20%20%20%20%20%20%20%0A%20%20%20%20%20%20%20%20%0A%20%20%20%20%0A%20%20%20%20%20%20%20%20%20%20%20%20var%20circle_marker_d611b5b17434430099ee8aaae44224df%20%3D%20L.circleMarker%28%0A%20%20%20%20%20%20%20%20%20%20%20%20%20%20%20%20%5B43.6288408%2C-79.52099940000001%5D%2C%0A%20%20%20%20%20%20%20%20%20%20%20%20%20%20%20%20%7B%0A%20%20%22bubblingMouseEvents%22%3A%20true%2C%0A%20%20%22color%22%3A%20%22%23ff0000%22%2C%0A%20%20%22dashArray%22%3A%20null%2C%0A%20%20%22dashOffset%22%3A%20null%2C%0A%20%20%22fill%22%3A%20true%2C%0A%20%20%22fillColor%22%3A%20%22%23ff0000%22%2C%0A%20%20%22fillOpacity%22%3A%200.7%2C%0A%20%20%22fillRule%22%3A%20%22evenodd%22%2C%0A%20%20%22lineCap%22%3A%20%22round%22%2C%0A%20%20%22lineJoin%22%3A%20%22round%22%2C%0A%20%20%22opacity%22%3A%201.0%2C%0A%20%20%22radius%22%3A%205%2C%0A%20%20%22stroke%22%3A%20true%2C%0A%20%20%22weight%22%3A%203%0A%7D%0A%20%20%20%20%20%20%20%20%20%20%20%20%20%20%20%20%29.addTo%28map_4f603cba923241f7812ae571f404129c%29%3B%0A%20%20%20%20%20%20%20%20%20%20%20%20%0A%20%20%20%20%0A%20%20%20%20%20%20%20%20%20%20%20%20var%20popup_d1d3b778e13043aba57054bd7c619029%20%3D%20L.popup%28%7BmaxWidth%3A%20%27300%27%7D%29%3B%0A%0A%20%20%20%20%20%20%20%20%20%20%20%20%0A%20%20%20%20%20%20%20%20%20%20%20%20%20%20%20%20var%20html_f20cb35a8115474b9773b3e2920c7657%20%3D%20%24%28%27%3Cdiv%20id%3D%22html_f20cb35a8115474b9773b3e2920c7657%22%20style%3D%22width%3A%20100.0%25%3B%20height%3A%20100.0%25%3B%22%3EMimico%20NW%2C%20The%20Queensway%20West%2C%20South%20of%20Bloor%2C%20Kingsway%20Park%20South%20West%2C%20Royal%20York%20South%20West%20Cluster%200%3C/div%3E%27%29%5B0%5D%3B%0A%20%20%20%20%20%20%20%20%20%20%20%20%20%20%20%20popup_d1d3b778e13043aba57054bd7c619029.setContent%28html_f20cb35a8115474b9773b3e2920c7657%29%3B%0A%20%20%20%20%20%20%20%20%20%20%20%20%0A%0A%20%20%20%20%20%20%20%20%20%20%20%20circle_marker_d611b5b17434430099ee8aaae44224df.bindPopup%28popup_d1d3b778e13043aba57054bd7c619029%29%3B%0A%0A%20%20%20%20%20%20%20%20%20%20%20%20%0A%20%20%20%20%20%20%20%20%0A%20%20%20%20%0A%20%20%20%20%20%20%20%20%20%20%20%20var%20circle_marker_6237492e2619494f842bd66461519870%20%3D%20L.circleMarker%28%0A%20%20%20%20%20%20%20%20%20%20%20%20%20%20%20%20%5B43.6056466%2C-79.50132070000001%5D%2C%0A%20%20%20%20%20%20%20%20%20%20%20%20%20%20%20%20%7B%0A%20%20%22bubblingMouseEvents%22%3A%20true%2C%0A%20%20%22color%22%3A%20%22%232adddd%22%2C%0A%20%20%22dashArray%22%3A%20null%2C%0A%20%20%22dashOffset%22%3A%20null%2C%0A%20%20%22fill%22%3A%20true%2C%0A%20%20%22fillColor%22%3A%20%22%232adddd%22%2C%0A%20%20%22fillOpacity%22%3A%200.7%2C%0A%20%20%22fillRule%22%3A%20%22evenodd%22%2C%0A%20%20%22lineCap%22%3A%20%22round%22%2C%0A%20%20%22lineJoin%22%3A%20%22round%22%2C%0A%20%20%22opacity%22%3A%201.0%2C%0A%20%20%22radius%22%3A%205%2C%0A%20%20%22stroke%22%3A%20true%2C%0A%20%20%22weight%22%3A%203%0A%7D%0A%20%20%20%20%20%20%20%20%20%20%20%20%20%20%20%20%29.addTo%28map_4f603cba923241f7812ae571f404129c%29%3B%0A%20%20%20%20%20%20%20%20%20%20%20%20%0A%20%20%20%20%0A%20%20%20%20%20%20%20%20%20%20%20%20var%20popup_31b807e544324436ae4885637552ef6b%20%3D%20L.popup%28%7BmaxWidth%3A%20%27300%27%7D%29%3B%0A%0A%20%20%20%20%20%20%20%20%20%20%20%20%0A%20%20%20%20%20%20%20%20%20%20%20%20%20%20%20%20var%20html_fb970c551c354d3484ced3e1015c16ac%20%3D%20%24%28%27%3Cdiv%20id%3D%22html_fb970c551c354d3484ced3e1015c16ac%22%20style%3D%22width%3A%20100.0%25%3B%20height%3A%20100.0%25%3B%22%3ENew%20Toronto%2C%20Mimico%20South%2C%20Humber%20Bay%20Shores%20Cluster%202%3C/div%3E%27%29%5B0%5D%3B%0A%20%20%20%20%20%20%20%20%20%20%20%20%20%20%20%20popup_31b807e544324436ae4885637552ef6b.setContent%28html_fb970c551c354d3484ced3e1015c16ac%29%3B%0A%20%20%20%20%20%20%20%20%20%20%20%20%0A%0A%20%20%20%20%20%20%20%20%20%20%20%20circle_marker_6237492e2619494f842bd66461519870.bindPopup%28popup_31b807e544324436ae4885637552ef6b%29%3B%0A%0A%20%20%20%20%20%20%20%20%20%20%20%20%0A%20%20%20%20%20%20%20%20%0A%20%20%20%20%0A%20%20%20%20%20%20%20%20%20%20%20%20var%20circle_marker_287b0f1e1a2c44cdb278488600103275%20%3D%20L.circleMarker%28%0A%20%20%20%20%20%20%20%20%20%20%20%20%20%20%20%20%5B43.7153834%2C-79.40567840000001%5D%2C%0A%20%20%20%20%20%20%20%20%20%20%20%20%20%20%20%20%7B%0A%20%20%22bubblingMouseEvents%22%3A%20true%2C%0A%20%20%22color%22%3A%20%22%232adddd%22%2C%0A%20%20%22dashArray%22%3A%20null%2C%0A%20%20%22dashOffset%22%3A%20null%2C%0A%20%20%22fill%22%3A%20true%2C%0A%20%20%22fillColor%22%3A%20%22%232adddd%22%2C%0A%20%20%22fillOpacity%22%3A%200.7%2C%0A%20%20%22fillRule%22%3A%20%22evenodd%22%2C%0A%20%20%22lineCap%22%3A%20%22round%22%2C%0A%20%20%22lineJoin%22%3A%20%22round%22%2C%0A%20%20%22opacity%22%3A%201.0%2C%0A%20%20%22radius%22%3A%205%2C%0A%20%20%22stroke%22%3A%20true%2C%0A%20%20%22weight%22%3A%203%0A%7D%0A%20%20%20%20%20%20%20%20%20%20%20%20%20%20%20%20%29.addTo%28map_4f603cba923241f7812ae571f404129c%29%3B%0A%20%20%20%20%20%20%20%20%20%20%20%20%0A%20%20%20%20%0A%20%20%20%20%20%20%20%20%20%20%20%20var%20popup_e60bf2ab90d841d39be43cd01233edb0%20%3D%20L.popup%28%7BmaxWidth%3A%20%27300%27%7D%29%3B%0A%0A%20%20%20%20%20%20%20%20%20%20%20%20%0A%20%20%20%20%20%20%20%20%20%20%20%20%20%20%20%20var%20html_c5ce65ad78fc45ec86e55f72b81d581f%20%3D%20%24%28%27%3Cdiv%20id%3D%22html_c5ce65ad78fc45ec86e55f72b81d581f%22%20style%3D%22width%3A%20100.0%25%3B%20height%3A%20100.0%25%3B%22%3ENorth%20Toronto%20West%2C%20Lawrence%20Park%20Cluster%202%3C/div%3E%27%29%5B0%5D%3B%0A%20%20%20%20%20%20%20%20%20%20%20%20%20%20%20%20popup_e60bf2ab90d841d39be43cd01233edb0.setContent%28html_c5ce65ad78fc45ec86e55f72b81d581f%29%3B%0A%20%20%20%20%20%20%20%20%20%20%20%20%0A%0A%20%20%20%20%20%20%20%20%20%20%20%20circle_marker_287b0f1e1a2c44cdb278488600103275.bindPopup%28popup_e60bf2ab90d841d39be43cd01233edb0%29%3B%0A%0A%20%20%20%20%20%20%20%20%20%20%20%20%0A%20%20%20%20%20%20%20%20%0A%20%20%20%20%0A%20%20%20%20%20%20%20%20%20%20%20%20var%20circle_marker_fb8639faca444de1bfc61e160a2ac0ea%20%3D%20L.circleMarker%28%0A%20%20%20%20%20%20%20%20%20%20%20%20%20%20%20%20%5B43.6489597%2C-79.456325%5D%2C%0A%20%20%20%20%20%20%20%20%20%20%20%20%20%20%20%20%7B%0A%20%20%22bubblingMouseEvents%22%3A%20true%2C%0A%20%20%22color%22%3A%20%22%232adddd%22%2C%0A%20%20%22dashArray%22%3A%20null%2C%0A%20%20%22dashOffset%22%3A%20null%2C%0A%20%20%22fill%22%3A%20true%2C%0A%20%20%22fillColor%22%3A%20%22%232adddd%22%2C%0A%20%20%22fillOpacity%22%3A%200.7%2C%0A%20%20%22fillRule%22%3A%20%22evenodd%22%2C%0A%20%20%22lineCap%22%3A%20%22round%22%2C%0A%20%20%22lineJoin%22%3A%20%22round%22%2C%0A%20%20%22opacity%22%3A%201.0%2C%0A%20%20%22radius%22%3A%205%2C%0A%20%20%22stroke%22%3A%20true%2C%0A%20%20%22weight%22%3A%203%0A%7D%0A%20%20%20%20%20%20%20%20%20%20%20%20%20%20%20%20%29.addTo%28map_4f603cba923241f7812ae571f404129c%29%3B%0A%20%20%20%20%20%20%20%20%20%20%20%20%0A%20%20%20%20%0A%20%20%20%20%20%20%20%20%20%20%20%20var%20popup_bd8ed0f5defd49efbc28f7402098cc41%20%3D%20L.popup%28%7BmaxWidth%3A%20%27300%27%7D%29%3B%0A%0A%20%20%20%20%20%20%20%20%20%20%20%20%0A%20%20%20%20%20%20%20%20%20%20%20%20%20%20%20%20var%20html_fec555243ea94cd1b0e295d54e3de95b%20%3D%20%24%28%27%3Cdiv%20id%3D%22html_fec555243ea94cd1b0e295d54e3de95b%22%20style%3D%22width%3A%20100.0%25%3B%20height%3A%20100.0%25%3B%22%3EParkdale%2C%20Roncesvalles%20Cluster%202%3C/div%3E%27%29%5B0%5D%3B%0A%20%20%20%20%20%20%20%20%20%20%20%20%20%20%20%20popup_bd8ed0f5defd49efbc28f7402098cc41.setContent%28html_fec555243ea94cd1b0e295d54e3de95b%29%3B%0A%20%20%20%20%20%20%20%20%20%20%20%20%0A%0A%20%20%20%20%20%20%20%20%20%20%20%20circle_marker_fb8639faca444de1bfc61e160a2ac0ea.bindPopup%28popup_bd8ed0f5defd49efbc28f7402098cc41%29%3B%0A%0A%20%20%20%20%20%20%20%20%20%20%20%20%0A%20%20%20%20%20%20%20%20%0A%20%20%20%20%0A%20%20%20%20%20%20%20%20%20%20%20%20var%20circle_marker_4db5411109d84f46aeb1be24792ae46f%20%3D%20L.circleMarker%28%0A%20%20%20%20%20%20%20%20%20%20%20%20%20%20%20%20%5B43.7063972%2C-79.309937%5D%2C%0A%20%20%20%20%20%20%20%20%20%20%20%20%20%20%20%20%7B%0A%20%20%22bubblingMouseEvents%22%3A%20true%2C%0A%20%20%22color%22%3A%20%22%23ff0000%22%2C%0A%20%20%22dashArray%22%3A%20null%2C%0A%20%20%22dashOffset%22%3A%20null%2C%0A%20%20%22fill%22%3A%20true%2C%0A%20%20%22fillColor%22%3A%20%22%23ff0000%22%2C%0A%20%20%22fillOpacity%22%3A%200.7%2C%0A%20%20%22fillRule%22%3A%20%22evenodd%22%2C%0A%20%20%22lineCap%22%3A%20%22round%22%2C%0A%20%20%22lineJoin%22%3A%20%22round%22%2C%0A%20%20%22opacity%22%3A%201.0%2C%0A%20%20%22radius%22%3A%205%2C%0A%20%20%22stroke%22%3A%20true%2C%0A%20%20%22weight%22%3A%203%0A%7D%0A%20%20%20%20%20%20%20%20%20%20%20%20%20%20%20%20%29.addTo%28map_4f603cba923241f7812ae571f404129c%29%3B%0A%20%20%20%20%20%20%20%20%20%20%20%20%0A%20%20%20%20%0A%20%20%20%20%20%20%20%20%20%20%20%20var%20popup_c5a0732f276e4e9a995263c67c1ee5cb%20%3D%20L.popup%28%7BmaxWidth%3A%20%27300%27%7D%29%3B%0A%0A%20%20%20%20%20%20%20%20%20%20%20%20%0A%20%20%20%20%20%20%20%20%20%20%20%20%20%20%20%20var%20html_93c7ffefedd64f75899c3ed4f2cb34fc%20%3D%20%24%28%27%3Cdiv%20id%3D%22html_93c7ffefedd64f75899c3ed4f2cb34fc%22%20style%3D%22width%3A%20100.0%25%3B%20height%3A%20100.0%25%3B%22%3EParkview%20Hill%2C%20Woodbine%20Gardens%20Cluster%200%3C/div%3E%27%29%5B0%5D%3B%0A%20%20%20%20%20%20%20%20%20%20%20%20%20%20%20%20popup_c5a0732f276e4e9a995263c67c1ee5cb.setContent%28html_93c7ffefedd64f75899c3ed4f2cb34fc%29%3B%0A%20%20%20%20%20%20%20%20%20%20%20%20%0A%0A%20%20%20%20%20%20%20%20%20%20%20%20circle_marker_4db5411109d84f46aeb1be24792ae46f.bindPopup%28popup_c5a0732f276e4e9a995263c67c1ee5cb%29%3B%0A%0A%20%20%20%20%20%20%20%20%20%20%20%20%0A%20%20%20%20%20%20%20%20%0A%20%20%20%20%0A%20%20%20%20%20%20%20%20%20%20%20%20var%20circle_marker_117e1667ffe74294a63d17e7b31162f5%20%3D%20L.circleMarker%28%0A%20%20%20%20%20%20%20%20%20%20%20%20%20%20%20%20%5B43.6623015%2C-79.3894938%5D%2C%0A%20%20%20%20%20%20%20%20%20%20%20%20%20%20%20%20%7B%0A%20%20%22bubblingMouseEvents%22%3A%20true%2C%0A%20%20%22color%22%3A%20%22%238000ff%22%2C%0A%20%20%22dashArray%22%3A%20null%2C%0A%20%20%22dashOffset%22%3A%20null%2C%0A%20%20%22fill%22%3A%20true%2C%0A%20%20%22fillColor%22%3A%20%22%238000ff%22%2C%0A%20%20%22fillOpacity%22%3A%200.7%2C%0A%20%20%22fillRule%22%3A%20%22evenodd%22%2C%0A%20%20%22lineCap%22%3A%20%22round%22%2C%0A%20%20%22lineJoin%22%3A%20%22round%22%2C%0A%20%20%22opacity%22%3A%201.0%2C%0A%20%20%22radius%22%3A%205%2C%0A%20%20%22stroke%22%3A%20true%2C%0A%20%20%22weight%22%3A%203%0A%7D%0A%20%20%20%20%20%20%20%20%20%20%20%20%20%20%20%20%29.addTo%28map_4f603cba923241f7812ae571f404129c%29%3B%0A%20%20%20%20%20%20%20%20%20%20%20%20%0A%20%20%20%20%0A%20%20%20%20%20%20%20%20%20%20%20%20var%20popup_9bf76b3796504a968958294690fd41da%20%3D%20L.popup%28%7BmaxWidth%3A%20%27300%27%7D%29%3B%0A%0A%20%20%20%20%20%20%20%20%20%20%20%20%0A%20%20%20%20%20%20%20%20%20%20%20%20%20%20%20%20var%20html_7dcdcb9b9c3743808219910400a3c0c0%20%3D%20%24%28%27%3Cdiv%20id%3D%22html_7dcdcb9b9c3743808219910400a3c0c0%22%20style%3D%22width%3A%20100.0%25%3B%20height%3A%20100.0%25%3B%22%3EQueen%26%2339%3Bs%20Park%2C%20Ontario%20Provincial%20Government%20Cluster%201%3C/div%3E%27%29%5B0%5D%3B%0A%20%20%20%20%20%20%20%20%20%20%20%20%20%20%20%20popup_9bf76b3796504a968958294690fd41da.setContent%28html_7dcdcb9b9c3743808219910400a3c0c0%29%3B%0A%20%20%20%20%20%20%20%20%20%20%20%20%0A%0A%20%20%20%20%20%20%20%20%20%20%20%20circle_marker_117e1667ffe74294a63d17e7b31162f5.bindPopup%28popup_9bf76b3796504a968958294690fd41da%29%3B%0A%0A%20%20%20%20%20%20%20%20%20%20%20%20%0A%20%20%20%20%20%20%20%20%0A%20%20%20%20%0A%20%20%20%20%20%20%20%20%20%20%20%20var%20circle_marker_02430565be3944e6b914b7ea32ad60ed%20%3D%20L.circleMarker%28%0A%20%20%20%20%20%20%20%20%20%20%20%20%20%20%20%20%5B43.6542599%2C-79.3606359%5D%2C%0A%20%20%20%20%20%20%20%20%20%20%20%20%20%20%20%20%7B%0A%20%20%22bubblingMouseEvents%22%3A%20true%2C%0A%20%20%22color%22%3A%20%22%238000ff%22%2C%0A%20%20%22dashArray%22%3A%20null%2C%0A%20%20%22dashOffset%22%3A%20null%2C%0A%20%20%22fill%22%3A%20true%2C%0A%20%20%22fillColor%22%3A%20%22%238000ff%22%2C%0A%20%20%22fillOpacity%22%3A%200.7%2C%0A%20%20%22fillRule%22%3A%20%22evenodd%22%2C%0A%20%20%22lineCap%22%3A%20%22round%22%2C%0A%20%20%22lineJoin%22%3A%20%22round%22%2C%0A%20%20%22opacity%22%3A%201.0%2C%0A%20%20%22radius%22%3A%205%2C%0A%20%20%22stroke%22%3A%20true%2C%0A%20%20%22weight%22%3A%203%0A%7D%0A%20%20%20%20%20%20%20%20%20%20%20%20%20%20%20%20%29.addTo%28map_4f603cba923241f7812ae571f404129c%29%3B%0A%20%20%20%20%20%20%20%20%20%20%20%20%0A%20%20%20%20%0A%20%20%20%20%20%20%20%20%20%20%20%20var%20popup_ae9938ce0faa42f99cab673f86594ac2%20%3D%20L.popup%28%7BmaxWidth%3A%20%27300%27%7D%29%3B%0A%0A%20%20%20%20%20%20%20%20%20%20%20%20%0A%20%20%20%20%20%20%20%20%20%20%20%20%20%20%20%20var%20html_026e0587cc2845f9a33a13a70fc2306c%20%3D%20%24%28%27%3Cdiv%20id%3D%22html_026e0587cc2845f9a33a13a70fc2306c%22%20style%3D%22width%3A%20100.0%25%3B%20height%3A%20100.0%25%3B%22%3ERegent%20Park%2C%20Harbourfront%20Cluster%201%3C/div%3E%27%29%5B0%5D%3B%0A%20%20%20%20%20%20%20%20%20%20%20%20%20%20%20%20popup_ae9938ce0faa42f99cab673f86594ac2.setContent%28html_026e0587cc2845f9a33a13a70fc2306c%29%3B%0A%20%20%20%20%20%20%20%20%20%20%20%20%0A%0A%20%20%20%20%20%20%20%20%20%20%20%20circle_marker_02430565be3944e6b914b7ea32ad60ed.bindPopup%28popup_ae9938ce0faa42f99cab673f86594ac2%29%3B%0A%0A%20%20%20%20%20%20%20%20%20%20%20%20%0A%20%20%20%20%20%20%20%20%0A%20%20%20%20%0A%20%20%20%20%20%20%20%20%20%20%20%20var%20circle_marker_11dcb09dcb3a4e20b47c520133eb3e51%20%3D%20L.circleMarker%28%0A%20%20%20%20%20%20%20%20%20%20%20%20%20%20%20%20%5B43.65057120000001%2C-79.3845675%5D%2C%0A%20%20%20%20%20%20%20%20%20%20%20%20%20%20%20%20%7B%0A%20%20%22bubblingMouseEvents%22%3A%20true%2C%0A%20%20%22color%22%3A%20%22%232adddd%22%2C%0A%20%20%22dashArray%22%3A%20null%2C%0A%20%20%22dashOffset%22%3A%20null%2C%0A%20%20%22fill%22%3A%20true%2C%0A%20%20%22fillColor%22%3A%20%22%232adddd%22%2C%0A%20%20%22fillOpacity%22%3A%200.7%2C%0A%20%20%22fillRule%22%3A%20%22evenodd%22%2C%0A%20%20%22lineCap%22%3A%20%22round%22%2C%0A%20%20%22lineJoin%22%3A%20%22round%22%2C%0A%20%20%22opacity%22%3A%201.0%2C%0A%20%20%22radius%22%3A%205%2C%0A%20%20%22stroke%22%3A%20true%2C%0A%20%20%22weight%22%3A%203%0A%7D%0A%20%20%20%20%20%20%20%20%20%20%20%20%20%20%20%20%29.addTo%28map_4f603cba923241f7812ae571f404129c%29%3B%0A%20%20%20%20%20%20%20%20%20%20%20%20%0A%20%20%20%20%0A%20%20%20%20%20%20%20%20%20%20%20%20var%20popup_d9c2fc5faebc40ee8ce93929cbf3b01f%20%3D%20L.popup%28%7BmaxWidth%3A%20%27300%27%7D%29%3B%0A%0A%20%20%20%20%20%20%20%20%20%20%20%20%0A%20%20%20%20%20%20%20%20%20%20%20%20%20%20%20%20var%20html_2a9876da90104998a0018295acee0c34%20%3D%20%24%28%27%3Cdiv%20id%3D%22html_2a9876da90104998a0018295acee0c34%22%20style%3D%22width%3A%20100.0%25%3B%20height%3A%20100.0%25%3B%22%3ERichmond%2C%20Adelaide%2C%20King%20Cluster%202%3C/div%3E%27%29%5B0%5D%3B%0A%20%20%20%20%20%20%20%20%20%20%20%20%20%20%20%20popup_d9c2fc5faebc40ee8ce93929cbf3b01f.setContent%28html_2a9876da90104998a0018295acee0c34%29%3B%0A%20%20%20%20%20%20%20%20%20%20%20%20%0A%0A%20%20%20%20%20%20%20%20%20%20%20%20circle_marker_11dcb09dcb3a4e20b47c520133eb3e51.bindPopup%28popup_d9c2fc5faebc40ee8ce93929cbf3b01f%29%3B%0A%0A%20%20%20%20%20%20%20%20%20%20%20%20%0A%20%20%20%20%20%20%20%20%0A%20%20%20%20%0A%20%20%20%20%20%20%20%20%20%20%20%20var%20circle_marker_0b7d2420d3a641f79ccdf365cc5006ee%20%3D%20L.circleMarker%28%0A%20%20%20%20%20%20%20%20%20%20%20%20%20%20%20%20%5B43.6515706%2C-79.4844499%5D%2C%0A%20%20%20%20%20%20%20%20%20%20%20%20%20%20%20%20%7B%0A%20%20%22bubblingMouseEvents%22%3A%20true%2C%0A%20%20%22color%22%3A%20%22%232adddd%22%2C%0A%20%20%22dashArray%22%3A%20null%2C%0A%20%20%22dashOffset%22%3A%20null%2C%0A%20%20%22fill%22%3A%20true%2C%0A%20%20%22fillColor%22%3A%20%22%232adddd%22%2C%0A%20%20%22fillOpacity%22%3A%200.7%2C%0A%20%20%22fillRule%22%3A%20%22evenodd%22%2C%0A%20%20%22lineCap%22%3A%20%22round%22%2C%0A%20%20%22lineJoin%22%3A%20%22round%22%2C%0A%20%20%22opacity%22%3A%201.0%2C%0A%20%20%22radius%22%3A%205%2C%0A%20%20%22stroke%22%3A%20true%2C%0A%20%20%22weight%22%3A%203%0A%7D%0A%20%20%20%20%20%20%20%20%20%20%20%20%20%20%20%20%29.addTo%28map_4f603cba923241f7812ae571f404129c%29%3B%0A%20%20%20%20%20%20%20%20%20%20%20%20%0A%20%20%20%20%0A%20%20%20%20%20%20%20%20%20%20%20%20var%20popup_3b0930567d7941378a591e2b6c2ad2bd%20%3D%20L.popup%28%7BmaxWidth%3A%20%27300%27%7D%29%3B%0A%0A%20%20%20%20%20%20%20%20%20%20%20%20%0A%20%20%20%20%20%20%20%20%20%20%20%20%20%20%20%20var%20html_112551a01ee34737b9b812b40d25e107%20%3D%20%24%28%27%3Cdiv%20id%3D%22html_112551a01ee34737b9b812b40d25e107%22%20style%3D%22width%3A%20100.0%25%3B%20height%3A%20100.0%25%3B%22%3ERunnymede%2C%20Swansea%20Cluster%202%3C/div%3E%27%29%5B0%5D%3B%0A%20%20%20%20%20%20%20%20%20%20%20%20%20%20%20%20popup_3b0930567d7941378a591e2b6c2ad2bd.setContent%28html_112551a01ee34737b9b812b40d25e107%29%3B%0A%20%20%20%20%20%20%20%20%20%20%20%20%0A%0A%20%20%20%20%20%20%20%20%20%20%20%20circle_marker_0b7d2420d3a641f79ccdf365cc5006ee.bindPopup%28popup_3b0930567d7941378a591e2b6c2ad2bd%29%3B%0A%0A%20%20%20%20%20%20%20%20%20%20%20%20%0A%20%20%20%20%20%20%20%20%0A%20%20%20%20%0A%20%20%20%20%20%20%20%20%20%20%20%20var%20circle_marker_2a4e7ac918ee4d0fbf033663d79905dc%20%3D%20L.circleMarker%28%0A%20%20%20%20%20%20%20%20%20%20%20%20%20%20%20%20%5B43.739416399999996%2C-79.5884369%5D%2C%0A%20%20%20%20%20%20%20%20%20%20%20%20%20%20%20%20%7B%0A%20%20%22bubblingMouseEvents%22%3A%20true%2C%0A%20%20%22color%22%3A%20%22%23ff0000%22%2C%0A%20%20%22dashArray%22%3A%20null%2C%0A%20%20%22dashOffset%22%3A%20null%2C%0A%20%20%22fill%22%3A%20true%2C%0A%20%20%22fillColor%22%3A%20%22%23ff0000%22%2C%0A%20%20%22fillOpacity%22%3A%200.7%2C%0A%20%20%22fillRule%22%3A%20%22evenodd%22%2C%0A%20%20%22lineCap%22%3A%20%22round%22%2C%0A%20%20%22lineJoin%22%3A%20%22round%22%2C%0A%20%20%22opacity%22%3A%201.0%2C%0A%20%20%22radius%22%3A%205%2C%0A%20%20%22stroke%22%3A%20true%2C%0A%20%20%22weight%22%3A%203%0A%7D%0A%20%20%20%20%20%20%20%20%20%20%20%20%20%20%20%20%29.addTo%28map_4f603cba923241f7812ae571f404129c%29%3B%0A%20%20%20%20%20%20%20%20%20%20%20%20%0A%20%20%20%20%0A%20%20%20%20%20%20%20%20%20%20%20%20var%20popup_0ee1b7d02fdd4d3795c44655ffddf6a5%20%3D%20L.popup%28%7BmaxWidth%3A%20%27300%27%7D%29%3B%0A%0A%20%20%20%20%20%20%20%20%20%20%20%20%0A%20%20%20%20%20%20%20%20%20%20%20%20%20%20%20%20var%20html_3a5cfda175214f7f94ec9788a65a32b9%20%3D%20%24%28%27%3Cdiv%20id%3D%22html_3a5cfda175214f7f94ec9788a65a32b9%22%20style%3D%22width%3A%20100.0%25%3B%20height%3A%20100.0%25%3B%22%3ESouth%20Steeles%2C%20Silverstone%2C%20Humbergate%2C%20Jamestown%2C%20Mount%20Olive%2C%20Beaumond%20Heights%2C%20Thistletown%2C%20Albion%20Gardens%20Cluster%200%3C/div%3E%27%29%5B0%5D%3B%0A%20%20%20%20%20%20%20%20%20%20%20%20%20%20%20%20popup_0ee1b7d02fdd4d3795c44655ffddf6a5.setContent%28html_3a5cfda175214f7f94ec9788a65a32b9%29%3B%0A%20%20%20%20%20%20%20%20%20%20%20%20%0A%0A%20%20%20%20%20%20%20%20%20%20%20%20circle_marker_2a4e7ac918ee4d0fbf033663d79905dc.bindPopup%28popup_0ee1b7d02fdd4d3795c44655ffddf6a5%29%3B%0A%0A%20%20%20%20%20%20%20%20%20%20%20%20%0A%20%20%20%20%20%20%20%20%0A%20%20%20%20%0A%20%20%20%20%20%20%20%20%20%20%20%20var%20circle_marker_9c1cae6a38ad4873b7f8ba0b110f5ce5%20%3D%20L.circleMarker%28%0A%20%20%20%20%20%20%20%20%20%20%20%20%20%20%20%20%5B43.6514939%2C-79.3754179%5D%2C%0A%20%20%20%20%20%20%20%20%20%20%20%20%20%20%20%20%7B%0A%20%20%22bubblingMouseEvents%22%3A%20true%2C%0A%20%20%22color%22%3A%20%22%232adddd%22%2C%0A%20%20%22dashArray%22%3A%20null%2C%0A%20%20%22dashOffset%22%3A%20null%2C%0A%20%20%22fill%22%3A%20true%2C%0A%20%20%22fillColor%22%3A%20%22%232adddd%22%2C%0A%20%20%22fillOpacity%22%3A%200.7%2C%0A%20%20%22fillRule%22%3A%20%22evenodd%22%2C%0A%20%20%22lineCap%22%3A%20%22round%22%2C%0A%20%20%22lineJoin%22%3A%20%22round%22%2C%0A%20%20%22opacity%22%3A%201.0%2C%0A%20%20%22radius%22%3A%205%2C%0A%20%20%22stroke%22%3A%20true%2C%0A%20%20%22weight%22%3A%203%0A%7D%0A%20%20%20%20%20%20%20%20%20%20%20%20%20%20%20%20%29.addTo%28map_4f603cba923241f7812ae571f404129c%29%3B%0A%20%20%20%20%20%20%20%20%20%20%20%20%0A%20%20%20%20%0A%20%20%20%20%20%20%20%20%20%20%20%20var%20popup_509f95a547444419bf6e70e09a7e0f49%20%3D%20L.popup%28%7BmaxWidth%3A%20%27300%27%7D%29%3B%0A%0A%20%20%20%20%20%20%20%20%20%20%20%20%0A%20%20%20%20%20%20%20%20%20%20%20%20%20%20%20%20var%20html_12fd4ed8fd61432398b76b393bcf1349%20%3D%20%24%28%27%3Cdiv%20id%3D%22html_12fd4ed8fd61432398b76b393bcf1349%22%20style%3D%22width%3A%20100.0%25%3B%20height%3A%20100.0%25%3B%22%3ESt.%20James%20Town%20Cluster%202%3C/div%3E%27%29%5B0%5D%3B%0A%20%20%20%20%20%20%20%20%20%20%20%20%20%20%20%20popup_509f95a547444419bf6e70e09a7e0f49.setContent%28html_12fd4ed8fd61432398b76b393bcf1349%29%3B%0A%20%20%20%20%20%20%20%20%20%20%20%20%0A%0A%20%20%20%20%20%20%20%20%20%20%20%20circle_marker_9c1cae6a38ad4873b7f8ba0b110f5ce5.bindPopup%28popup_509f95a547444419bf6e70e09a7e0f49%29%3B%0A%0A%20%20%20%20%20%20%20%20%20%20%20%20%0A%20%20%20%20%20%20%20%20%0A%20%20%20%20%0A%20%20%20%20%20%20%20%20%20%20%20%20var%20circle_marker_9edaf0a038b94f13a4ea3cb13973e8f6%20%3D%20L.circleMarker%28%0A%20%20%20%20%20%20%20%20%20%20%20%20%20%20%20%20%5B43.667967%2C-79.3676753%5D%2C%0A%20%20%20%20%20%20%20%20%20%20%20%20%20%20%20%20%7B%0A%20%20%22bubblingMouseEvents%22%3A%20true%2C%0A%20%20%22color%22%3A%20%22%232adddd%22%2C%0A%20%20%22dashArray%22%3A%20null%2C%0A%20%20%22dashOffset%22%3A%20null%2C%0A%20%20%22fill%22%3A%20true%2C%0A%20%20%22fillColor%22%3A%20%22%232adddd%22%2C%0A%20%20%22fillOpacity%22%3A%200.7%2C%0A%20%20%22fillRule%22%3A%20%22evenodd%22%2C%0A%20%20%22lineCap%22%3A%20%22round%22%2C%0A%20%20%22lineJoin%22%3A%20%22round%22%2C%0A%20%20%22opacity%22%3A%201.0%2C%0A%20%20%22radius%22%3A%205%2C%0A%20%20%22stroke%22%3A%20true%2C%0A%20%20%22weight%22%3A%203%0A%7D%0A%20%20%20%20%20%20%20%20%20%20%20%20%20%20%20%20%29.addTo%28map_4f603cba923241f7812ae571f404129c%29%3B%0A%20%20%20%20%20%20%20%20%20%20%20%20%0A%20%20%20%20%0A%20%20%20%20%20%20%20%20%20%20%20%20var%20popup_62df3e3e43f946659343be031d55eb8f%20%3D%20L.popup%28%7BmaxWidth%3A%20%27300%27%7D%29%3B%0A%0A%20%20%20%20%20%20%20%20%20%20%20%20%0A%20%20%20%20%20%20%20%20%20%20%20%20%20%20%20%20var%20html_1ca14d5ed50540fba10ee32d3296bdca%20%3D%20%24%28%27%3Cdiv%20id%3D%22html_1ca14d5ed50540fba10ee32d3296bdca%22%20style%3D%22width%3A%20100.0%25%3B%20height%3A%20100.0%25%3B%22%3ESt.%20James%20Town%2C%20Cabbagetown%20Cluster%202%3C/div%3E%27%29%5B0%5D%3B%0A%20%20%20%20%20%20%20%20%20%20%20%20%20%20%20%20popup_62df3e3e43f946659343be031d55eb8f.setContent%28html_1ca14d5ed50540fba10ee32d3296bdca%29%3B%0A%20%20%20%20%20%20%20%20%20%20%20%20%0A%0A%20%20%20%20%20%20%20%20%20%20%20%20circle_marker_9edaf0a038b94f13a4ea3cb13973e8f6.bindPopup%28popup_62df3e3e43f946659343be031d55eb8f%29%3B%0A%0A%20%20%20%20%20%20%20%20%20%20%20%20%0A%20%20%20%20%20%20%20%20%0A%20%20%20%20%0A%20%20%20%20%20%20%20%20%20%20%20%20var%20circle_marker_9aba32bbb23f4ed1b1cbca6f806b5c1a%20%3D%20L.circleMarker%28%0A%20%20%20%20%20%20%20%20%20%20%20%20%20%20%20%20%5B43.799525200000005%2C-79.3183887%5D%2C%0A%20%20%20%20%20%20%20%20%20%20%20%20%20%20%20%20%7B%0A%20%20%22bubblingMouseEvents%22%3A%20true%2C%0A%20%20%22color%22%3A%20%22%23ff0000%22%2C%0A%20%20%22dashArray%22%3A%20null%2C%0A%20%20%22dashOffset%22%3A%20null%2C%0A%20%20%22fill%22%3A%20true%2C%0A%20%20%22fillColor%22%3A%20%22%23ff0000%22%2C%0A%20%20%22fillOpacity%22%3A%200.7%2C%0A%20%20%22fillRule%22%3A%20%22evenodd%22%2C%0A%20%20%22lineCap%22%3A%20%22round%22%2C%0A%20%20%22lineJoin%22%3A%20%22round%22%2C%0A%20%20%22opacity%22%3A%201.0%2C%0A%20%20%22radius%22%3A%205%2C%0A%20%20%22stroke%22%3A%20true%2C%0A%20%20%22weight%22%3A%203%0A%7D%0A%20%20%20%20%20%20%20%20%20%20%20%20%20%20%20%20%29.addTo%28map_4f603cba923241f7812ae571f404129c%29%3B%0A%20%20%20%20%20%20%20%20%20%20%20%20%0A%20%20%20%20%0A%20%20%20%20%20%20%20%20%20%20%20%20var%20popup_c425ff95a6ba4732bd2df6c99ad7fa6c%20%3D%20L.popup%28%7BmaxWidth%3A%20%27300%27%7D%29%3B%0A%0A%20%20%20%20%20%20%20%20%20%20%20%20%0A%20%20%20%20%20%20%20%20%20%20%20%20%20%20%20%20var%20html_1fb89566b4e24558997035c40097d1c6%20%3D%20%24%28%27%3Cdiv%20id%3D%22html_1fb89566b4e24558997035c40097d1c6%22%20style%3D%22width%3A%20100.0%25%3B%20height%3A%20100.0%25%3B%22%3ESteeles%20West%2C%20L%26%2339%3BAmoreaux%20West%20Cluster%200%3C/div%3E%27%29%5B0%5D%3B%0A%20%20%20%20%20%20%20%20%20%20%20%20%20%20%20%20popup_c425ff95a6ba4732bd2df6c99ad7fa6c.setContent%28html_1fb89566b4e24558997035c40097d1c6%29%3B%0A%20%20%20%20%20%20%20%20%20%20%20%20%0A%0A%20%20%20%20%20%20%20%20%20%20%20%20circle_marker_9aba32bbb23f4ed1b1cbca6f806b5c1a.bindPopup%28popup_c425ff95a6ba4732bd2df6c99ad7fa6c%29%3B%0A%0A%20%20%20%20%20%20%20%20%20%20%20%20%0A%20%20%20%20%20%20%20%20%0A%20%20%20%20%0A%20%20%20%20%20%20%20%20%20%20%20%20var%20circle_marker_a4ca9246e6674a2e95f5a7efde719913%20%3D%20L.circleMarker%28%0A%20%20%20%20%20%20%20%20%20%20%20%20%20%20%20%20%5B43.6464352%2C-79.37484599999999%5D%2C%0A%20%20%20%20%20%20%20%20%20%20%20%20%20%20%20%20%7B%0A%20%20%22bubblingMouseEvents%22%3A%20true%2C%0A%20%20%22color%22%3A%20%22%232adddd%22%2C%0A%20%20%22dashArray%22%3A%20null%2C%0A%20%20%22dashOffset%22%3A%20null%2C%0A%20%20%22fill%22%3A%20true%2C%0A%20%20%22fillColor%22%3A%20%22%232adddd%22%2C%0A%20%20%22fillOpacity%22%3A%200.7%2C%0A%20%20%22fillRule%22%3A%20%22evenodd%22%2C%0A%20%20%22lineCap%22%3A%20%22round%22%2C%0A%20%20%22lineJoin%22%3A%20%22round%22%2C%0A%20%20%22opacity%22%3A%201.0%2C%0A%20%20%22radius%22%3A%205%2C%0A%20%20%22stroke%22%3A%20true%2C%0A%20%20%22weight%22%3A%203%0A%7D%0A%20%20%20%20%20%20%20%20%20%20%20%20%20%20%20%20%29.addTo%28map_4f603cba923241f7812ae571f404129c%29%3B%0A%20%20%20%20%20%20%20%20%20%20%20%20%0A%20%20%20%20%0A%20%20%20%20%20%20%20%20%20%20%20%20var%20popup_73fcfa6ff3184e5a81a99e1d57f8168c%20%3D%20L.popup%28%7BmaxWidth%3A%20%27300%27%7D%29%3B%0A%0A%20%20%20%20%20%20%20%20%20%20%20%20%0A%20%20%20%20%20%20%20%20%20%20%20%20%20%20%20%20var%20html_7dc03c8ac1c846b8be98a6e5d2889c47%20%3D%20%24%28%27%3Cdiv%20id%3D%22html_7dc03c8ac1c846b8be98a6e5d2889c47%22%20style%3D%22width%3A%20100.0%25%3B%20height%3A%20100.0%25%3B%22%3EStn%20A%20PO%20Boxes%20Cluster%202%3C/div%3E%27%29%5B0%5D%3B%0A%20%20%20%20%20%20%20%20%20%20%20%20%20%20%20%20popup_73fcfa6ff3184e5a81a99e1d57f8168c.setContent%28html_7dc03c8ac1c846b8be98a6e5d2889c47%29%3B%0A%20%20%20%20%20%20%20%20%20%20%20%20%0A%0A%20%20%20%20%20%20%20%20%20%20%20%20circle_marker_a4ca9246e6674a2e95f5a7efde719913.bindPopup%28popup_73fcfa6ff3184e5a81a99e1d57f8168c%29%3B%0A%0A%20%20%20%20%20%20%20%20%20%20%20%20%0A%20%20%20%20%20%20%20%20%0A%20%20%20%20%0A%20%20%20%20%20%20%20%20%20%20%20%20var%20circle_marker_55ccecdfbd214d70a394dac5611991a5%20%3D%20L.circleMarker%28%0A%20%20%20%20%20%20%20%20%20%20%20%20%20%20%20%20%5B43.6595255%2C-79.340923%5D%2C%0A%20%20%20%20%20%20%20%20%20%20%20%20%20%20%20%20%7B%0A%20%20%22bubblingMouseEvents%22%3A%20true%2C%0A%20%20%22color%22%3A%20%22%232adddd%22%2C%0A%20%20%22dashArray%22%3A%20null%2C%0A%20%20%22dashOffset%22%3A%20null%2C%0A%20%20%22fill%22%3A%20true%2C%0A%20%20%22fillColor%22%3A%20%22%232adddd%22%2C%0A%20%20%22fillOpacity%22%3A%200.7%2C%0A%20%20%22fillRule%22%3A%20%22evenodd%22%2C%0A%20%20%22lineCap%22%3A%20%22round%22%2C%0A%20%20%22lineJoin%22%3A%20%22round%22%2C%0A%20%20%22opacity%22%3A%201.0%2C%0A%20%20%22radius%22%3A%205%2C%0A%20%20%22stroke%22%3A%20true%2C%0A%20%20%22weight%22%3A%203%0A%7D%0A%20%20%20%20%20%20%20%20%20%20%20%20%20%20%20%20%29.addTo%28map_4f603cba923241f7812ae571f404129c%29%3B%0A%20%20%20%20%20%20%20%20%20%20%20%20%0A%20%20%20%20%0A%20%20%20%20%20%20%20%20%20%20%20%20var%20popup_fb331dc87bfb418e90116e40b35dc53d%20%3D%20L.popup%28%7BmaxWidth%3A%20%27300%27%7D%29%3B%0A%0A%20%20%20%20%20%20%20%20%20%20%20%20%0A%20%20%20%20%20%20%20%20%20%20%20%20%20%20%20%20var%20html_4b6830faf4674e31ab4fb74d96656a3a%20%3D%20%24%28%27%3Cdiv%20id%3D%22html_4b6830faf4674e31ab4fb74d96656a3a%22%20style%3D%22width%3A%20100.0%25%3B%20height%3A%20100.0%25%3B%22%3EStudio%20District%20Cluster%202%3C/div%3E%27%29%5B0%5D%3B%0A%20%20%20%20%20%20%20%20%20%20%20%20%20%20%20%20popup_fb331dc87bfb418e90116e40b35dc53d.setContent%28html_4b6830faf4674e31ab4fb74d96656a3a%29%3B%0A%20%20%20%20%20%20%20%20%20%20%20%20%0A%0A%20%20%20%20%20%20%20%20%20%20%20%20circle_marker_55ccecdfbd214d70a394dac5611991a5.bindPopup%28popup_fb331dc87bfb418e90116e40b35dc53d%29%3B%0A%0A%20%20%20%20%20%20%20%20%20%20%20%20%0A%20%20%20%20%20%20%20%20%0A%20%20%20%20%0A%20%20%20%20%20%20%20%20%20%20%20%20var%20circle_marker_dbc76411c72c4e92b56476325aa53dd1%20%3D%20L.circleMarker%28%0A%20%20%20%20%20%20%20%20%20%20%20%20%20%20%20%20%5B43.68641229999999%2C-79.4000493%5D%2C%0A%20%20%20%20%20%20%20%20%20%20%20%20%20%20%20%20%7B%0A%20%20%22bubblingMouseEvents%22%3A%20true%2C%0A%20%20%22color%22%3A%20%22%232adddd%22%2C%0A%20%20%22dashArray%22%3A%20null%2C%0A%20%20%22dashOffset%22%3A%20null%2C%0A%20%20%22fill%22%3A%20true%2C%0A%20%20%22fillColor%22%3A%20%22%232adddd%22%2C%0A%20%20%22fillOpacity%22%3A%200.7%2C%0A%20%20%22fillRule%22%3A%20%22evenodd%22%2C%0A%20%20%22lineCap%22%3A%20%22round%22%2C%0A%20%20%22lineJoin%22%3A%20%22round%22%2C%0A%20%20%22opacity%22%3A%201.0%2C%0A%20%20%22radius%22%3A%205%2C%0A%20%20%22stroke%22%3A%20true%2C%0A%20%20%22weight%22%3A%203%0A%7D%0A%20%20%20%20%20%20%20%20%20%20%20%20%20%20%20%20%29.addTo%28map_4f603cba923241f7812ae571f404129c%29%3B%0A%20%20%20%20%20%20%20%20%20%20%20%20%0A%20%20%20%20%0A%20%20%20%20%20%20%20%20%20%20%20%20var%20popup_5765608fc22c4a1c92375471447fb018%20%3D%20L.popup%28%7BmaxWidth%3A%20%27300%27%7D%29%3B%0A%0A%20%20%20%20%20%20%20%20%20%20%20%20%0A%20%20%20%20%20%20%20%20%20%20%20%20%20%20%20%20var%20html_29d2a2bf105b430688cbd2bf9bf816ef%20%3D%20%24%28%27%3Cdiv%20id%3D%22html_29d2a2bf105b430688cbd2bf9bf816ef%22%20style%3D%22width%3A%20100.0%25%3B%20height%3A%20100.0%25%3B%22%3ESummerhill%20West%2C%20Rathnelly%2C%20South%20Hill%2C%20Forest%20Hill%20SE%2C%20Deer%20Park%20Cluster%202%3C/div%3E%27%29%5B0%5D%3B%0A%20%20%20%20%20%20%20%20%20%20%20%20%20%20%20%20popup_5765608fc22c4a1c92375471447fb018.setContent%28html_29d2a2bf105b430688cbd2bf9bf816ef%29%3B%0A%20%20%20%20%20%20%20%20%20%20%20%20%0A%0A%20%20%20%20%20%20%20%20%20%20%20%20circle_marker_dbc76411c72c4e92b56476325aa53dd1.bindPopup%28popup_5765608fc22c4a1c92375471447fb018%29%3B%0A%0A%20%20%20%20%20%20%20%20%20%20%20%20%0A%20%20%20%20%20%20%20%20%0A%20%20%20%20%0A%20%20%20%20%20%20%20%20%20%20%20%20var%20circle_marker_b44aba4a383a4a209de4682911dae734%20%3D%20L.circleMarker%28%0A%20%20%20%20%20%20%20%20%20%20%20%20%20%20%20%20%5B43.6727097%2C-79.40567840000001%5D%2C%0A%20%20%20%20%20%20%20%20%20%20%20%20%20%20%20%20%7B%0A%20%20%22bubblingMouseEvents%22%3A%20true%2C%0A%20%20%22color%22%3A%20%22%238000ff%22%2C%0A%20%20%22dashArray%22%3A%20null%2C%0A%20%20%22dashOffset%22%3A%20null%2C%0A%20%20%22fill%22%3A%20true%2C%0A%20%20%22fillColor%22%3A%20%22%238000ff%22%2C%0A%20%20%22fillOpacity%22%3A%200.7%2C%0A%20%20%22fillRule%22%3A%20%22evenodd%22%2C%0A%20%20%22lineCap%22%3A%20%22round%22%2C%0A%20%20%22lineJoin%22%3A%20%22round%22%2C%0A%20%20%22opacity%22%3A%201.0%2C%0A%20%20%22radius%22%3A%205%2C%0A%20%20%22stroke%22%3A%20true%2C%0A%20%20%22weight%22%3A%203%0A%7D%0A%20%20%20%20%20%20%20%20%20%20%20%20%20%20%20%20%29.addTo%28map_4f603cba923241f7812ae571f404129c%29%3B%0A%20%20%20%20%20%20%20%20%20%20%20%20%0A%20%20%20%20%0A%20%20%20%20%20%20%20%20%20%20%20%20var%20popup_3a69ae51490b4aab9a7c7d26fd573a73%20%3D%20L.popup%28%7BmaxWidth%3A%20%27300%27%7D%29%3B%0A%0A%20%20%20%20%20%20%20%20%20%20%20%20%0A%20%20%20%20%20%20%20%20%20%20%20%20%20%20%20%20var%20html_05dc41bdcd93467dbf6f8858715c51e2%20%3D%20%24%28%27%3Cdiv%20id%3D%22html_05dc41bdcd93467dbf6f8858715c51e2%22%20style%3D%22width%3A%20100.0%25%3B%20height%3A%20100.0%25%3B%22%3EThe%20Annex%2C%20North%20Midtown%2C%20Yorkville%20Cluster%201%3C/div%3E%27%29%5B0%5D%3B%0A%20%20%20%20%20%20%20%20%20%20%20%20%20%20%20%20popup_3a69ae51490b4aab9a7c7d26fd573a73.setContent%28html_05dc41bdcd93467dbf6f8858715c51e2%29%3B%0A%20%20%20%20%20%20%20%20%20%20%20%20%0A%0A%20%20%20%20%20%20%20%20%20%20%20%20circle_marker_b44aba4a383a4a209de4682911dae734.bindPopup%28popup_3a69ae51490b4aab9a7c7d26fd573a73%29%3B%0A%0A%20%20%20%20%20%20%20%20%20%20%20%20%0A%20%20%20%20%20%20%20%20%0A%20%20%20%20%0A%20%20%20%20%20%20%20%20%20%20%20%20var%20circle_marker_c302f29bdf904cfd8a4ac0cfb7e52ff3%20%3D%20L.circleMarker%28%0A%20%20%20%20%20%20%20%20%20%20%20%20%20%20%20%20%5B43.6795571%2C-79.352188%5D%2C%0A%20%20%20%20%20%20%20%20%20%20%20%20%20%20%20%20%7B%0A%20%20%22bubblingMouseEvents%22%3A%20true%2C%0A%20%20%22color%22%3A%20%22%232adddd%22%2C%0A%20%20%22dashArray%22%3A%20null%2C%0A%20%20%22dashOffset%22%3A%20null%2C%0A%20%20%22fill%22%3A%20true%2C%0A%20%20%22fillColor%22%3A%20%22%232adddd%22%2C%0A%20%20%22fillOpacity%22%3A%200.7%2C%0A%20%20%22fillRule%22%3A%20%22evenodd%22%2C%0A%20%20%22lineCap%22%3A%20%22round%22%2C%0A%20%20%22lineJoin%22%3A%20%22round%22%2C%0A%20%20%22opacity%22%3A%201.0%2C%0A%20%20%22radius%22%3A%205%2C%0A%20%20%22stroke%22%3A%20true%2C%0A%20%20%22weight%22%3A%203%0A%7D%0A%20%20%20%20%20%20%20%20%20%20%20%20%20%20%20%20%29.addTo%28map_4f603cba923241f7812ae571f404129c%29%3B%0A%20%20%20%20%20%20%20%20%20%20%20%20%0A%20%20%20%20%0A%20%20%20%20%20%20%20%20%20%20%20%20var%20popup_33c28ef5e0314a79ab91ff087b88c137%20%3D%20L.popup%28%7BmaxWidth%3A%20%27300%27%7D%29%3B%0A%0A%20%20%20%20%20%20%20%20%20%20%20%20%0A%20%20%20%20%20%20%20%20%20%20%20%20%20%20%20%20var%20html_0753f12ad84343e88bf2361f287e0166%20%3D%20%24%28%27%3Cdiv%20id%3D%22html_0753f12ad84343e88bf2361f287e0166%22%20style%3D%22width%3A%20100.0%25%3B%20height%3A%20100.0%25%3B%22%3EThe%20Danforth%20West%2C%20Riverdale%20Cluster%202%3C/div%3E%27%29%5B0%5D%3B%0A%20%20%20%20%20%20%20%20%20%20%20%20%20%20%20%20popup_33c28ef5e0314a79ab91ff087b88c137.setContent%28html_0753f12ad84343e88bf2361f287e0166%29%3B%0A%20%20%20%20%20%20%20%20%20%20%20%20%0A%0A%20%20%20%20%20%20%20%20%20%20%20%20circle_marker_c302f29bdf904cfd8a4ac0cfb7e52ff3.bindPopup%28popup_33c28ef5e0314a79ab91ff087b88c137%29%3B%0A%0A%20%20%20%20%20%20%20%20%20%20%20%20%0A%20%20%20%20%20%20%20%20%0A%20%20%20%20%0A%20%20%20%20%20%20%20%20%20%20%20%20var%20circle_marker_c112d0b8030c4f0a9998a52099eb717f%20%3D%20L.circleMarker%28%0A%20%20%20%20%20%20%20%20%20%20%20%20%20%20%20%20%5B43.7053689%2C-79.34937190000001%5D%2C%0A%20%20%20%20%20%20%20%20%20%20%20%20%20%20%20%20%7B%0A%20%20%22bubblingMouseEvents%22%3A%20true%2C%0A%20%20%22color%22%3A%20%22%23ff0000%22%2C%0A%20%20%22dashArray%22%3A%20null%2C%0A%20%20%22dashOffset%22%3A%20null%2C%0A%20%20%22fill%22%3A%20true%2C%0A%20%20%22fillColor%22%3A%20%22%23ff0000%22%2C%0A%20%20%22fillOpacity%22%3A%200.7%2C%0A%20%20%22fillRule%22%3A%20%22evenodd%22%2C%0A%20%20%22lineCap%22%3A%20%22round%22%2C%0A%20%20%22lineJoin%22%3A%20%22round%22%2C%0A%20%20%22opacity%22%3A%201.0%2C%0A%20%20%22radius%22%3A%205%2C%0A%20%20%22stroke%22%3A%20true%2C%0A%20%20%22weight%22%3A%203%0A%7D%0A%20%20%20%20%20%20%20%20%20%20%20%20%20%20%20%20%29.addTo%28map_4f603cba923241f7812ae571f404129c%29%3B%0A%20%20%20%20%20%20%20%20%20%20%20%20%0A%20%20%20%20%0A%20%20%20%20%20%20%20%20%20%20%20%20var%20popup_f12b4d5a93684701b7fecb0a42692a3c%20%3D%20L.popup%28%7BmaxWidth%3A%20%27300%27%7D%29%3B%0A%0A%20%20%20%20%20%20%20%20%20%20%20%20%0A%20%20%20%20%20%20%20%20%20%20%20%20%20%20%20%20var%20html_46663d69b63a42c199410256863fcc82%20%3D%20%24%28%27%3Cdiv%20id%3D%22html_46663d69b63a42c199410256863fcc82%22%20style%3D%22width%3A%20100.0%25%3B%20height%3A%20100.0%25%3B%22%3EThorncliffe%20Park%20Cluster%200%3C/div%3E%27%29%5B0%5D%3B%0A%20%20%20%20%20%20%20%20%20%20%20%20%20%20%20%20popup_f12b4d5a93684701b7fecb0a42692a3c.setContent%28html_46663d69b63a42c199410256863fcc82%29%3B%0A%20%20%20%20%20%20%20%20%20%20%20%20%0A%0A%20%20%20%20%20%20%20%20%20%20%20%20circle_marker_c112d0b8030c4f0a9998a52099eb717f.bindPopup%28popup_f12b4d5a93684701b7fecb0a42692a3c%29%3B%0A%0A%20%20%20%20%20%20%20%20%20%20%20%20%0A%20%20%20%20%20%20%20%20%0A%20%20%20%20%0A%20%20%20%20%20%20%20%20%20%20%20%20var%20circle_marker_8145b9cde0134dfe9a0d3c1e4fe9ffcf%20%3D%20L.circleMarker%28%0A%20%20%20%20%20%20%20%20%20%20%20%20%20%20%20%20%5B43.6471768%2C-79.38157640000001%5D%2C%0A%20%20%20%20%20%20%20%20%20%20%20%20%20%20%20%20%7B%0A%20%20%22bubblingMouseEvents%22%3A%20true%2C%0A%20%20%22color%22%3A%20%22%232adddd%22%2C%0A%20%20%22dashArray%22%3A%20null%2C%0A%20%20%22dashOffset%22%3A%20null%2C%0A%20%20%22fill%22%3A%20true%2C%0A%20%20%22fillColor%22%3A%20%22%232adddd%22%2C%0A%20%20%22fillOpacity%22%3A%200.7%2C%0A%20%20%22fillRule%22%3A%20%22evenodd%22%2C%0A%20%20%22lineCap%22%3A%20%22round%22%2C%0A%20%20%22lineJoin%22%3A%20%22round%22%2C%0A%20%20%22opacity%22%3A%201.0%2C%0A%20%20%22radius%22%3A%205%2C%0A%20%20%22stroke%22%3A%20true%2C%0A%20%20%22weight%22%3A%203%0A%7D%0A%20%20%20%20%20%20%20%20%20%20%20%20%20%20%20%20%29.addTo%28map_4f603cba923241f7812ae571f404129c%29%3B%0A%20%20%20%20%20%20%20%20%20%20%20%20%0A%20%20%20%20%0A%20%20%20%20%20%20%20%20%20%20%20%20var%20popup_926457cf21894c549829f721dc5a5908%20%3D%20L.popup%28%7BmaxWidth%3A%20%27300%27%7D%29%3B%0A%0A%20%20%20%20%20%20%20%20%20%20%20%20%0A%20%20%20%20%20%20%20%20%20%20%20%20%20%20%20%20var%20html_28c876e5411642339bef30e5f34836ad%20%3D%20%24%28%27%3Cdiv%20id%3D%22html_28c876e5411642339bef30e5f34836ad%22%20style%3D%22width%3A%20100.0%25%3B%20height%3A%20100.0%25%3B%22%3EToronto%20Dominion%20Centre%2C%20Design%20Exchange%20Cluster%202%3C/div%3E%27%29%5B0%5D%3B%0A%20%20%20%20%20%20%20%20%20%20%20%20%20%20%20%20popup_926457cf21894c549829f721dc5a5908.setContent%28html_28c876e5411642339bef30e5f34836ad%29%3B%0A%20%20%20%20%20%20%20%20%20%20%20%20%0A%0A%20%20%20%20%20%20%20%20%20%20%20%20circle_marker_8145b9cde0134dfe9a0d3c1e4fe9ffcf.bindPopup%28popup_926457cf21894c549829f721dc5a5908%29%3B%0A%0A%20%20%20%20%20%20%20%20%20%20%20%20%0A%20%20%20%20%20%20%20%20%0A%20%20%20%20%0A%20%20%20%20%20%20%20%20%20%20%20%20var%20circle_marker_bb94ff204f8b43c1b3eff0f08fded019%20%3D%20L.circleMarker%28%0A%20%20%20%20%20%20%20%20%20%20%20%20%20%20%20%20%5B43.6626956%2C-79.4000493%5D%2C%0A%20%20%20%20%20%20%20%20%20%20%20%20%20%20%20%20%7B%0A%20%20%22bubblingMouseEvents%22%3A%20true%2C%0A%20%20%22color%22%3A%20%22%232adddd%22%2C%0A%20%20%22dashArray%22%3A%20null%2C%0A%20%20%22dashOffset%22%3A%20null%2C%0A%20%20%22fill%22%3A%20true%2C%0A%20%20%22fillColor%22%3A%20%22%232adddd%22%2C%0A%20%20%22fillOpacity%22%3A%200.7%2C%0A%20%20%22fillRule%22%3A%20%22evenodd%22%2C%0A%20%20%22lineCap%22%3A%20%22round%22%2C%0A%20%20%22lineJoin%22%3A%20%22round%22%2C%0A%20%20%22opacity%22%3A%201.0%2C%0A%20%20%22radius%22%3A%205%2C%0A%20%20%22stroke%22%3A%20true%2C%0A%20%20%22weight%22%3A%203%0A%7D%0A%20%20%20%20%20%20%20%20%20%20%20%20%20%20%20%20%29.addTo%28map_4f603cba923241f7812ae571f404129c%29%3B%0A%20%20%20%20%20%20%20%20%20%20%20%20%0A%20%20%20%20%0A%20%20%20%20%20%20%20%20%20%20%20%20var%20popup_97eff6843c944bfe9a893ecda6f4d801%20%3D%20L.popup%28%7BmaxWidth%3A%20%27300%27%7D%29%3B%0A%0A%20%20%20%20%20%20%20%20%20%20%20%20%0A%20%20%20%20%20%20%20%20%20%20%20%20%20%20%20%20var%20html_6ea8e866131a4b6d954e6ceb8e9a30b2%20%3D%20%24%28%27%3Cdiv%20id%3D%22html_6ea8e866131a4b6d954e6ceb8e9a30b2%22%20style%3D%22width%3A%20100.0%25%3B%20height%3A%20100.0%25%3B%22%3EUniversity%20of%20Toronto%2C%20Harbord%20Cluster%202%3C/div%3E%27%29%5B0%5D%3B%0A%20%20%20%20%20%20%20%20%20%20%20%20%20%20%20%20popup_97eff6843c944bfe9a893ecda6f4d801.setContent%28html_6ea8e866131a4b6d954e6ceb8e9a30b2%29%3B%0A%20%20%20%20%20%20%20%20%20%20%20%20%0A%0A%20%20%20%20%20%20%20%20%20%20%20%20circle_marker_bb94ff204f8b43c1b3eff0f08fded019.bindPopup%28popup_97eff6843c944bfe9a893ecda6f4d801%29%3B%0A%0A%20%20%20%20%20%20%20%20%20%20%20%20%0A%20%20%20%20%20%20%20%20%0A%20%20%20%20%0A%20%20%20%20%20%20%20%20%20%20%20%20var%20circle_marker_a8ebd7eade70483aa7a93e2bff9cda9e%20%3D%20L.circleMarker%28%0A%20%20%20%20%20%20%20%20%20%20%20%20%20%20%20%20%5B43.7701199%2C-79.40849279999999%5D%2C%0A%20%20%20%20%20%20%20%20%20%20%20%20%20%20%20%20%7B%0A%20%20%22bubblingMouseEvents%22%3A%20true%2C%0A%20%20%22color%22%3A%20%22%232adddd%22%2C%0A%20%20%22dashArray%22%3A%20null%2C%0A%20%20%22dashOffset%22%3A%20null%2C%0A%20%20%22fill%22%3A%20true%2C%0A%20%20%22fillColor%22%3A%20%22%232adddd%22%2C%0A%20%20%22fillOpacity%22%3A%200.7%2C%0A%20%20%22fillRule%22%3A%20%22evenodd%22%2C%0A%20%20%22lineCap%22%3A%20%22round%22%2C%0A%20%20%22lineJoin%22%3A%20%22round%22%2C%0A%20%20%22opacity%22%3A%201.0%2C%0A%20%20%22radius%22%3A%205%2C%0A%20%20%22stroke%22%3A%20true%2C%0A%20%20%22weight%22%3A%203%0A%7D%0A%20%20%20%20%20%20%20%20%20%20%20%20%20%20%20%20%29.addTo%28map_4f603cba923241f7812ae571f404129c%29%3B%0A%20%20%20%20%20%20%20%20%20%20%20%20%0A%20%20%20%20%0A%20%20%20%20%20%20%20%20%20%20%20%20var%20popup_b03e8aafc81d4b468893f00685b0c174%20%3D%20L.popup%28%7BmaxWidth%3A%20%27300%27%7D%29%3B%0A%0A%20%20%20%20%20%20%20%20%20%20%20%20%0A%20%20%20%20%20%20%20%20%20%20%20%20%20%20%20%20var%20html_bdb396987d7d49afb3df282ee033ee8e%20%3D%20%24%28%27%3Cdiv%20id%3D%22html_bdb396987d7d49afb3df282ee033ee8e%22%20style%3D%22width%3A%20100.0%25%3B%20height%3A%20100.0%25%3B%22%3EWillowdale%2C%20Willowdale%20East%20Cluster%202%3C/div%3E%27%29%5B0%5D%3B%0A%20%20%20%20%20%20%20%20%20%20%20%20%20%20%20%20popup_b03e8aafc81d4b468893f00685b0c174.setContent%28html_bdb396987d7d49afb3df282ee033ee8e%29%3B%0A%20%20%20%20%20%20%20%20%20%20%20%20%0A%0A%20%20%20%20%20%20%20%20%20%20%20%20circle_marker_a8ebd7eade70483aa7a93e2bff9cda9e.bindPopup%28popup_b03e8aafc81d4b468893f00685b0c174%29%3B%0A%0A%20%20%20%20%20%20%20%20%20%20%20%20%0A%20%20%20%20%20%20%20%20%0A%3C/script%3E onload=\"this.contentDocument.open();this.contentDocument.write(    decodeURIComponent(this.getAttribute('data-html')));this.contentDocument.close();\" allowfullscreen webkitallowfullscreen mozallowfullscreen></iframe></div></div>"
     },
     "metadata": {},
     "execution_count": 35
    }
   ],
   "source": [
    "# create map\n",
    "map_clusters = folium.Map(location=[latitude, longitude], zoom_start=11)\n",
    "\n",
    "# set color scheme for the clusters\n",
    "x = np.arange(kclusters)\n",
    "ys = [i + x + (i*x)**2 for i in range(kclusters)]\n",
    "colors_array = cm.rainbow(np.linspace(0, 1, len(ys)))\n",
    "rainbow = [colors.rgb2hex(i) for i in colors_array]\n",
    "\n",
    "# add markers to the map\n",
    "markers_colors = []\n",
    "for lat, lon, poi, cluster in zip(toronto_merged['Latitude'], toronto_merged['Longitude'], toronto_merged['Neighborhood'], toronto_merged['Cluster Labels']):\n",
    "    label = folium.Popup(str(poi) + ' Cluster ' + str(cluster), parse_html=True)\n",
    "    folium.CircleMarker(\n",
    "        [lat, lon],\n",
    "        radius=5,\n",
    "        popup=label,\n",
    "        color=rainbow[cluster-1],\n",
    "        fill=True,\n",
    "        fill_color=rainbow[cluster-1],\n",
    "        fill_opacity=0.7).add_to(map_clusters)\n",
    "       \n",
    "map_clusters"
   ]
  },
  {
   "source": [
    "Note: because GitHub doesn't display Folium maps, a print screen of the map is available [here](https://github.com/CasteSan/Coursera_Capstone/blob/main/map_data_W3.png)"
   ],
   "cell_type": "markdown",
   "metadata": {}
  },
  {
   "source": [
    "## Clusters analysis"
   ],
   "cell_type": "markdown",
   "metadata": {}
  },
  {
   "source": [
    "We will examine each cluster and determine the discriminating venue categories that distinguish each cluster. Based on the defining categories, we can then assign a name to each cluster."
   ],
   "cell_type": "markdown",
   "metadata": {}
  },
  {
   "source": [
    "### Cluster 0: Multicultural zone"
   ],
   "cell_type": "markdown",
   "metadata": {}
  },
  {
   "cell_type": "code",
   "execution_count": 36,
   "metadata": {},
   "outputs": [
    {
     "output_type": "execute_result",
     "data": {
      "text/plain": [
       "                                         Neighborhood 1st Most Common Venue  \\\n",
       "0     Bathurst Manor, Wilson Heights, Downsview North           Coffee Shop   \n",
       "4   Business reply mail Processing Centre, South C...           Yoga Studio   \n",
       "10            Clarks Corners, Tam O'Shanter, Sullivan  Fast Food Restaurant   \n",
       "12                                         Davisville        Sandwich Place   \n",
       "13                                   Davisville North                   Gym   \n",
       "16                       Dufferin, Dovercourt Village                Bakery   \n",
       "22                     India Bazaar, The Beaches West                  Park   \n",
       "27  Mimico NW, The Queensway West, South of Bloor,...         Grocery Store   \n",
       "31                    Parkview Hill, Woodbine Gardens           Pizza Place   \n",
       "36  South Steeles, Silverstone, Humbergate, Jamest...         Grocery Store   \n",
       "39                      Steeles West, L'Amoreaux West  Fast Food Restaurant   \n",
       "45                                   Thorncliffe Park     Indian Restaurant   \n",
       "\n",
       "   2nd Most Common Venue 3rd Most Common Venue 4th Most Common Venue  \\\n",
       "0                   Bank   Fried Chicken Joint              Pharmacy   \n",
       "4     Light Rail Station               Butcher         Burrito Place   \n",
       "10           Pizza Place   Fried Chicken Joint    Italian Restaurant   \n",
       "12          Dessert Shop           Pizza Place           Coffee Shop   \n",
       "13                 Hotel           Pizza Place          Dance Studio   \n",
       "16              Pharmacy                  Bank               Brewery   \n",
       "22           Pizza Place        Sandwich Place  Fast Food Restaurant   \n",
       "27         Tanning Salon     Convenience Store        Discount Store   \n",
       "31  Gym / Fitness Center           Flea Market                  Bank   \n",
       "36           Pizza Place           Video Store        Sandwich Place   \n",
       "39                  Bank           Coffee Shop                   Gym   \n",
       "45           Yoga Studio           Coffee Shop        Sandwich Place   \n",
       "\n",
       "   5th Most Common Venue      6th Most Common Venue 7th Most Common Venue  \\\n",
       "0            Pizza Place  Middle Eastern Restaurant         Deli / Bodega   \n",
       "4             Skate Park       Fast Food Restaurant         Auto Workshop   \n",
       "10       Thai Restaurant          Convenience Store    Chinese Restaurant   \n",
       "12    Italian Restaurant                       Café                   Gym   \n",
       "13      Department Store             Sandwich Place        Breakfast Spot   \n",
       "16                  Park              Grocery Store                  Café   \n",
       "22        Ice Cream Shop                  Pet Store         Movie Theater   \n",
       "27         Burrito Place               Burger Joint        Sandwich Place   \n",
       "31    Athletics & Sports                  Gastropub          Intersection   \n",
       "36   Fried Chicken Joint                 Beer Store  Fast Food Restaurant   \n",
       "39              Pharmacy                Pizza Place        Breakfast Spot   \n",
       "45          Burger Joint                   Bus Line            Restaurant   \n",
       "\n",
       "   8th Most Common Venue 9th Most Common Venue     10th Most Common Venue  \\\n",
       "0             Restaurant                 Diner             Sandwich Place   \n",
       "4         Farmers Market         Garden Center                     Garden   \n",
       "10                  Bank           Gas Station                   Pharmacy   \n",
       "12      Sushi Restaurant         Deli / Bodega          Indian Restaurant   \n",
       "13     Food & Drink Shop                  Park       Gym / Fitness Center   \n",
       "16           Music Venue           Supermarket                        Bar   \n",
       "22                   Pub            Restaurant              Burrito Place   \n",
       "27            Kids Store       Supplement Shop                     Bakery   \n",
       "31                  Café              Pharmacy             Breakfast Spot   \n",
       "36              Pharmacy            Donut Shop        Dumpling Restaurant   \n",
       "39        Sandwich Place    Chinese Restaurant             Cosmetics Shop   \n",
       "45           Pizza Place              Pharmacy  Middle Eastern Restaurant   \n",
       "\n",
       "   Postal Code          Borough  \n",
       "0          M3H       North York  \n",
       "4          M7Y     East Toronto  \n",
       "10         M1T      Scarborough  \n",
       "12         M4S  Central Toronto  \n",
       "13         M4P  Central Toronto  \n",
       "16         M6H     West Toronto  \n",
       "22         M4L     East Toronto  \n",
       "27         M8Z        Etobicoke  \n",
       "31         M4B        East York  \n",
       "36         M9V        Etobicoke  \n",
       "39         M1W      Scarborough  \n",
       "45         M4H        East York  "
      ],
      "text/html": "<div>\n<style scoped>\n    .dataframe tbody tr th:only-of-type {\n        vertical-align: middle;\n    }\n\n    .dataframe tbody tr th {\n        vertical-align: top;\n    }\n\n    .dataframe thead th {\n        text-align: right;\n    }\n</style>\n<table border=\"1\" class=\"dataframe\">\n  <thead>\n    <tr style=\"text-align: right;\">\n      <th></th>\n      <th>Neighborhood</th>\n      <th>1st Most Common Venue</th>\n      <th>2nd Most Common Venue</th>\n      <th>3rd Most Common Venue</th>\n      <th>4th Most Common Venue</th>\n      <th>5th Most Common Venue</th>\n      <th>6th Most Common Venue</th>\n      <th>7th Most Common Venue</th>\n      <th>8th Most Common Venue</th>\n      <th>9th Most Common Venue</th>\n      <th>10th Most Common Venue</th>\n      <th>Postal Code</th>\n      <th>Borough</th>\n    </tr>\n  </thead>\n  <tbody>\n    <tr>\n      <td>0</td>\n      <td>Bathurst Manor, Wilson Heights, Downsview North</td>\n      <td>Coffee Shop</td>\n      <td>Bank</td>\n      <td>Fried Chicken Joint</td>\n      <td>Pharmacy</td>\n      <td>Pizza Place</td>\n      <td>Middle Eastern Restaurant</td>\n      <td>Deli / Bodega</td>\n      <td>Restaurant</td>\n      <td>Diner</td>\n      <td>Sandwich Place</td>\n      <td>M3H</td>\n      <td>North York</td>\n    </tr>\n    <tr>\n      <td>4</td>\n      <td>Business reply mail Processing Centre, South C...</td>\n      <td>Yoga Studio</td>\n      <td>Light Rail Station</td>\n      <td>Butcher</td>\n      <td>Burrito Place</td>\n      <td>Skate Park</td>\n      <td>Fast Food Restaurant</td>\n      <td>Auto Workshop</td>\n      <td>Farmers Market</td>\n      <td>Garden Center</td>\n      <td>Garden</td>\n      <td>M7Y</td>\n      <td>East Toronto</td>\n    </tr>\n    <tr>\n      <td>10</td>\n      <td>Clarks Corners, Tam O'Shanter, Sullivan</td>\n      <td>Fast Food Restaurant</td>\n      <td>Pizza Place</td>\n      <td>Fried Chicken Joint</td>\n      <td>Italian Restaurant</td>\n      <td>Thai Restaurant</td>\n      <td>Convenience Store</td>\n      <td>Chinese Restaurant</td>\n      <td>Bank</td>\n      <td>Gas Station</td>\n      <td>Pharmacy</td>\n      <td>M1T</td>\n      <td>Scarborough</td>\n    </tr>\n    <tr>\n      <td>12</td>\n      <td>Davisville</td>\n      <td>Sandwich Place</td>\n      <td>Dessert Shop</td>\n      <td>Pizza Place</td>\n      <td>Coffee Shop</td>\n      <td>Italian Restaurant</td>\n      <td>Café</td>\n      <td>Gym</td>\n      <td>Sushi Restaurant</td>\n      <td>Deli / Bodega</td>\n      <td>Indian Restaurant</td>\n      <td>M4S</td>\n      <td>Central Toronto</td>\n    </tr>\n    <tr>\n      <td>13</td>\n      <td>Davisville North</td>\n      <td>Gym</td>\n      <td>Hotel</td>\n      <td>Pizza Place</td>\n      <td>Dance Studio</td>\n      <td>Department Store</td>\n      <td>Sandwich Place</td>\n      <td>Breakfast Spot</td>\n      <td>Food &amp; Drink Shop</td>\n      <td>Park</td>\n      <td>Gym / Fitness Center</td>\n      <td>M4P</td>\n      <td>Central Toronto</td>\n    </tr>\n    <tr>\n      <td>16</td>\n      <td>Dufferin, Dovercourt Village</td>\n      <td>Bakery</td>\n      <td>Pharmacy</td>\n      <td>Bank</td>\n      <td>Brewery</td>\n      <td>Park</td>\n      <td>Grocery Store</td>\n      <td>Café</td>\n      <td>Music Venue</td>\n      <td>Supermarket</td>\n      <td>Bar</td>\n      <td>M6H</td>\n      <td>West Toronto</td>\n    </tr>\n    <tr>\n      <td>22</td>\n      <td>India Bazaar, The Beaches West</td>\n      <td>Park</td>\n      <td>Pizza Place</td>\n      <td>Sandwich Place</td>\n      <td>Fast Food Restaurant</td>\n      <td>Ice Cream Shop</td>\n      <td>Pet Store</td>\n      <td>Movie Theater</td>\n      <td>Pub</td>\n      <td>Restaurant</td>\n      <td>Burrito Place</td>\n      <td>M4L</td>\n      <td>East Toronto</td>\n    </tr>\n    <tr>\n      <td>27</td>\n      <td>Mimico NW, The Queensway West, South of Bloor,...</td>\n      <td>Grocery Store</td>\n      <td>Tanning Salon</td>\n      <td>Convenience Store</td>\n      <td>Discount Store</td>\n      <td>Burrito Place</td>\n      <td>Burger Joint</td>\n      <td>Sandwich Place</td>\n      <td>Kids Store</td>\n      <td>Supplement Shop</td>\n      <td>Bakery</td>\n      <td>M8Z</td>\n      <td>Etobicoke</td>\n    </tr>\n    <tr>\n      <td>31</td>\n      <td>Parkview Hill, Woodbine Gardens</td>\n      <td>Pizza Place</td>\n      <td>Gym / Fitness Center</td>\n      <td>Flea Market</td>\n      <td>Bank</td>\n      <td>Athletics &amp; Sports</td>\n      <td>Gastropub</td>\n      <td>Intersection</td>\n      <td>Café</td>\n      <td>Pharmacy</td>\n      <td>Breakfast Spot</td>\n      <td>M4B</td>\n      <td>East York</td>\n    </tr>\n    <tr>\n      <td>36</td>\n      <td>South Steeles, Silverstone, Humbergate, Jamest...</td>\n      <td>Grocery Store</td>\n      <td>Pizza Place</td>\n      <td>Video Store</td>\n      <td>Sandwich Place</td>\n      <td>Fried Chicken Joint</td>\n      <td>Beer Store</td>\n      <td>Fast Food Restaurant</td>\n      <td>Pharmacy</td>\n      <td>Donut Shop</td>\n      <td>Dumpling Restaurant</td>\n      <td>M9V</td>\n      <td>Etobicoke</td>\n    </tr>\n    <tr>\n      <td>39</td>\n      <td>Steeles West, L'Amoreaux West</td>\n      <td>Fast Food Restaurant</td>\n      <td>Bank</td>\n      <td>Coffee Shop</td>\n      <td>Gym</td>\n      <td>Pharmacy</td>\n      <td>Pizza Place</td>\n      <td>Breakfast Spot</td>\n      <td>Sandwich Place</td>\n      <td>Chinese Restaurant</td>\n      <td>Cosmetics Shop</td>\n      <td>M1W</td>\n      <td>Scarborough</td>\n    </tr>\n    <tr>\n      <td>45</td>\n      <td>Thorncliffe Park</td>\n      <td>Indian Restaurant</td>\n      <td>Yoga Studio</td>\n      <td>Coffee Shop</td>\n      <td>Sandwich Place</td>\n      <td>Burger Joint</td>\n      <td>Bus Line</td>\n      <td>Restaurant</td>\n      <td>Pizza Place</td>\n      <td>Pharmacy</td>\n      <td>Middle Eastern Restaurant</td>\n      <td>M4H</td>\n      <td>East York</td>\n    </tr>\n  </tbody>\n</table>\n</div>"
     },
     "metadata": {},
     "execution_count": 36
    }
   ],
   "source": [
    "toronto_cluster0 = toronto_merged.loc[toronto_merged['Cluster Labels'] == 0, toronto_merged.columns[[1] + list(range(2, toronto_merged.shape[1]-2))]]\n",
    "toronto_cluster0"
   ]
  },
  {
   "source": [
    "This could be a multicultural neighborhood with restaurants of cuisines of all around the globe"
   ],
   "cell_type": "markdown",
   "metadata": {}
  },
  {
   "source": [
    "### Cluster 1: Expensive neighbour"
   ],
   "cell_type": "markdown",
   "metadata": {}
  },
  {
   "cell_type": "code",
   "execution_count": 37,
   "metadata": {},
   "outputs": [
    {
     "output_type": "execute_result",
     "data": {
      "text/plain": [
       "                                   Neighborhood 1st Most Common Venue  \\\n",
       "6         Canada Post Gateway Processing Centre           Coffee Shop   \n",
       "7                            Central Bay Street           Coffee Shop   \n",
       "32  Queen's Park, Ontario Provincial Government           Coffee Shop   \n",
       "33                    Regent Park, Harbourfront           Coffee Shop   \n",
       "43          The Annex, North Midtown, Yorkville           Coffee Shop   \n",
       "\n",
       "   2nd Most Common Venue 3rd Most Common Venue 4th Most Common Venue  \\\n",
       "6                  Hotel                   Gym   American Restaurant   \n",
       "7                   Café        Sandwich Place    Italian Restaurant   \n",
       "32      Sushi Restaurant            Restaurant                   Bar   \n",
       "33                  Park                Bakery                   Pub   \n",
       "43        Sandwich Place                  Café                   Pub   \n",
       "\n",
       "   5th Most Common Venue      6th Most Common Venue 7th Most Common Venue  \\\n",
       "6           Intersection  Middle Eastern Restaurant         Burrito Place   \n",
       "7            Salad Place            Bubble Tea Shop          Burger Joint   \n",
       "32              Beer Bar       Fast Food Restaurant    Italian Restaurant   \n",
       "33                  Café             Breakfast Spot               Theater   \n",
       "43           Cheese Shop                 Donut Shop          Burger Joint   \n",
       "\n",
       "        8th Most Common Venue  9th Most Common Venue  \\\n",
       "6              Sandwich Place    Fried Chicken Joint   \n",
       "7   Middle Eastern Restaurant  Portuguese Restaurant   \n",
       "32        Japanese Restaurant          Smoothie Shop   \n",
       "33                 Shoe Store                Brewery   \n",
       "43  Middle Eastern Restaurant      Indian Restaurant   \n",
       "\n",
       "      10th Most Common Venue Postal Code           Borough  \n",
       "6   Mediterranean Restaurant         M7R       Mississauga  \n",
       "7                 Poke Place         M5G  Downtown Toronto  \n",
       "32            Sandwich Place         M7A  Downtown Toronto  \n",
       "33                Restaurant         M5A  Downtown Toronto  \n",
       "43                 BBQ Joint         M5R   Central Toronto  "
      ],
      "text/html": "<div>\n<style scoped>\n    .dataframe tbody tr th:only-of-type {\n        vertical-align: middle;\n    }\n\n    .dataframe tbody tr th {\n        vertical-align: top;\n    }\n\n    .dataframe thead th {\n        text-align: right;\n    }\n</style>\n<table border=\"1\" class=\"dataframe\">\n  <thead>\n    <tr style=\"text-align: right;\">\n      <th></th>\n      <th>Neighborhood</th>\n      <th>1st Most Common Venue</th>\n      <th>2nd Most Common Venue</th>\n      <th>3rd Most Common Venue</th>\n      <th>4th Most Common Venue</th>\n      <th>5th Most Common Venue</th>\n      <th>6th Most Common Venue</th>\n      <th>7th Most Common Venue</th>\n      <th>8th Most Common Venue</th>\n      <th>9th Most Common Venue</th>\n      <th>10th Most Common Venue</th>\n      <th>Postal Code</th>\n      <th>Borough</th>\n    </tr>\n  </thead>\n  <tbody>\n    <tr>\n      <td>6</td>\n      <td>Canada Post Gateway Processing Centre</td>\n      <td>Coffee Shop</td>\n      <td>Hotel</td>\n      <td>Gym</td>\n      <td>American Restaurant</td>\n      <td>Intersection</td>\n      <td>Middle Eastern Restaurant</td>\n      <td>Burrito Place</td>\n      <td>Sandwich Place</td>\n      <td>Fried Chicken Joint</td>\n      <td>Mediterranean Restaurant</td>\n      <td>M7R</td>\n      <td>Mississauga</td>\n    </tr>\n    <tr>\n      <td>7</td>\n      <td>Central Bay Street</td>\n      <td>Coffee Shop</td>\n      <td>Café</td>\n      <td>Sandwich Place</td>\n      <td>Italian Restaurant</td>\n      <td>Salad Place</td>\n      <td>Bubble Tea Shop</td>\n      <td>Burger Joint</td>\n      <td>Middle Eastern Restaurant</td>\n      <td>Portuguese Restaurant</td>\n      <td>Poke Place</td>\n      <td>M5G</td>\n      <td>Downtown Toronto</td>\n    </tr>\n    <tr>\n      <td>32</td>\n      <td>Queen's Park, Ontario Provincial Government</td>\n      <td>Coffee Shop</td>\n      <td>Sushi Restaurant</td>\n      <td>Restaurant</td>\n      <td>Bar</td>\n      <td>Beer Bar</td>\n      <td>Fast Food Restaurant</td>\n      <td>Italian Restaurant</td>\n      <td>Japanese Restaurant</td>\n      <td>Smoothie Shop</td>\n      <td>Sandwich Place</td>\n      <td>M7A</td>\n      <td>Downtown Toronto</td>\n    </tr>\n    <tr>\n      <td>33</td>\n      <td>Regent Park, Harbourfront</td>\n      <td>Coffee Shop</td>\n      <td>Park</td>\n      <td>Bakery</td>\n      <td>Pub</td>\n      <td>Café</td>\n      <td>Breakfast Spot</td>\n      <td>Theater</td>\n      <td>Shoe Store</td>\n      <td>Brewery</td>\n      <td>Restaurant</td>\n      <td>M5A</td>\n      <td>Downtown Toronto</td>\n    </tr>\n    <tr>\n      <td>43</td>\n      <td>The Annex, North Midtown, Yorkville</td>\n      <td>Coffee Shop</td>\n      <td>Sandwich Place</td>\n      <td>Café</td>\n      <td>Pub</td>\n      <td>Cheese Shop</td>\n      <td>Donut Shop</td>\n      <td>Burger Joint</td>\n      <td>Middle Eastern Restaurant</td>\n      <td>Indian Restaurant</td>\n      <td>BBQ Joint</td>\n      <td>M5R</td>\n      <td>Central Toronto</td>\n    </tr>\n  </tbody>\n</table>\n</div>"
     },
     "metadata": {},
     "execution_count": 37
    }
   ],
   "source": [
    "toronto_cluster1 = toronto_merged.loc[toronto_merged['Cluster Labels'] == 1, toronto_merged.columns[[1] + list(range(2, toronto_merged.shape[1]-2))]]\n",
    "toronto_cluster1"
   ]
  },
  {
   "source": [
    "It seems like the most expensive zone with several different restaurants, parks and gym"
   ],
   "cell_type": "markdown",
   "metadata": {}
  },
  {
   "source": [
    "### Cluster 2: Normal Neighborhood"
   ],
   "cell_type": "markdown",
   "metadata": {}
  },
  {
   "cell_type": "code",
   "execution_count": 38,
   "metadata": {},
   "outputs": [
    {
     "output_type": "execute_result",
     "data": {
      "text/plain": [
       "                                         Neighborhood 1st Most Common Venue  \\\n",
       "1                   Bedford Park, Lawrence Manor East        Sandwich Place   \n",
       "2                                         Berczy Park           Coffee Shop   \n",
       "3        Brockton, Parkdale Village, Exhibition Place                  Café   \n",
       "5   CN Tower, King and Spadina, Railway Lands, Har...        Airport Lounge   \n",
       "9                                Church and Wellesley           Coffee Shop   \n",
       "11                     Commerce Court, Victoria Hotel           Coffee Shop   \n",
       "14                                          Don Mills                   Gym   \n",
       "14                                          Don Mills                   Gym   \n",
       "17                       Fairview, Henry Farm, Oriole        Clothing Store   \n",
       "18             First Canadian Place, Underground city           Coffee Shop   \n",
       "19                           Garden District, Ryerson           Coffee Shop   \n",
       "20  Harbourfront East, Union Station, Toronto Islands           Coffee Shop   \n",
       "21                      High Park, The Junction South    Mexican Restaurant   \n",
       "23          Kensington Market, Chinatown, Grange Park                  Café   \n",
       "24                   Lawrence Manor, Lawrence Heights        Clothing Store   \n",
       "25                                            Leaside   Sporting Goods Shop   \n",
       "26                           Little Portugal, Trinity                   Bar   \n",
       "28       New Toronto, Mimico South, Humber Bay Shores                  Café   \n",
       "29                  North Toronto West, Lawrence Park           Coffee Shop   \n",
       "30                             Parkdale, Roncesvalles        Breakfast Spot   \n",
       "34                           Richmond, Adelaide, King           Coffee Shop   \n",
       "35                                 Runnymede, Swansea           Coffee Shop   \n",
       "37                                     St. James Town           Coffee Shop   \n",
       "38                        St. James Town, Cabbagetown                  Café   \n",
       "40                                     Stn A PO Boxes           Coffee Shop   \n",
       "41                                    Studio District           Coffee Shop   \n",
       "42  Summerhill West, Rathnelly, South Hill, Forest...           Coffee Shop   \n",
       "44                       The Danforth West, Riverdale      Greek Restaurant   \n",
       "46           Toronto Dominion Centre, Design Exchange           Coffee Shop   \n",
       "47                     University of Toronto, Harbord                  Café   \n",
       "48                        Willowdale, Willowdale East      Ramen Restaurant   \n",
       "\n",
       "   2nd Most Common Venue          3rd Most Common Venue  \\\n",
       "1            Coffee Shop             Italian Restaurant   \n",
       "2           Cocktail Bar             Seafood Restaurant   \n",
       "3            Coffee Shop                 Breakfast Spot   \n",
       "5       Airport Terminal                Harbor / Marina   \n",
       "9       Sushi Restaurant            Japanese Restaurant   \n",
       "11            Restaurant                           Café   \n",
       "14            Beer Store                    Coffee Shop   \n",
       "14            Beer Store                    Coffee Shop   \n",
       "17           Coffee Shop           Fast Food Restaurant   \n",
       "18                  Café                          Hotel   \n",
       "19        Clothing Store                           Café   \n",
       "20              Aquarium                           Café   \n",
       "21                  Café                Thai Restaurant   \n",
       "23           Coffee Shop  Vegetarian / Vegan Restaurant   \n",
       "24     Accessories Store            Sporting Goods Shop   \n",
       "25           Coffee Shop                           Bank   \n",
       "26           Coffee Shop                     Restaurant   \n",
       "28           Coffee Shop                    Pizza Place   \n",
       "29        Clothing Store                     Shoe Store   \n",
       "30             Gift Shop                     Restaurant   \n",
       "34                  Café                     Restaurant   \n",
       "35                  Café                    Pizza Place   \n",
       "37                  Café                   Cocktail Bar   \n",
       "38           Coffee Shop             Chinese Restaurant   \n",
       "40            Restaurant                          Hotel   \n",
       "41               Brewery                      Gastropub   \n",
       "42                   Pub                    Pizza Place   \n",
       "44           Coffee Shop             Italian Restaurant   \n",
       "46                 Hotel                           Café   \n",
       "47                Bakery                            Bar   \n",
       "48        Sandwich Place                    Coffee Shop   \n",
       "\n",
       "      4th Most Common Venue        5th Most Common Venue  \\\n",
       "1   Comfort Food Restaurant              Thai Restaurant   \n",
       "2                  Beer Bar               Farmers Market   \n",
       "3                    Bakery                    Pet Store   \n",
       "5                       Bar                  Coffee Shop   \n",
       "9                Restaurant                      Gay Bar   \n",
       "11                    Hotel          American Restaurant   \n",
       "14               Restaurant          Japanese Restaurant   \n",
       "14               Restaurant          Japanese Restaurant   \n",
       "17               Shoe Store                   Restaurant   \n",
       "18      Japanese Restaurant                   Restaurant   \n",
       "19           Cosmetics Shop    Middle Eastern Restaurant   \n",
       "20                    Hotel          Fried Chicken Joint   \n",
       "21            Grocery Store       Furniture / Home Store   \n",
       "23    Vietnamese Restaurant           Mexican Restaurant   \n",
       "24   Furniture / Home Store                  Event Space   \n",
       "25            Shopping Mall       Furniture / Home Store   \n",
       "26    Vietnamese Restaurant                         Café   \n",
       "28                   Bakery          Fried Chicken Joint   \n",
       "29       Salon / Barbershop                   Restaurant   \n",
       "30         Cuban Restaurant  Eastern European Restaurant   \n",
       "34          Thai Restaurant                          Gym   \n",
       "35                      Pub           Italian Restaurant   \n",
       "37                Gastropub          American Restaurant   \n",
       "38               Restaurant                          Pub   \n",
       "40       Seafood Restaurant                         Café   \n",
       "41                     Café                       Bakery   \n",
       "42              Supermarket                   Bagel Shop   \n",
       "44           Ice Cream Shop                    Bookstore   \n",
       "46      Japanese Restaurant          American Restaurant   \n",
       "47      Japanese Restaurant                    Bookstore   \n",
       "48              Pizza Place                Shopping Mall   \n",
       "\n",
       "            6th Most Common Venue 7th Most Common Venue  \\\n",
       "1                        Boutique             Juice Bar   \n",
       "2                          Bakery           Cheese Shop   \n",
       "3                         Stadium         Burrito Place   \n",
       "5                           Plane   Rental Car Location   \n",
       "9            Fast Food Restaurant                   Pub   \n",
       "11                            Gym   Japanese Restaurant   \n",
       "14           Caribbean Restaurant        Sandwich Place   \n",
       "14           Caribbean Restaurant        Sandwich Place   \n",
       "17            Japanese Restaurant            Food Court   \n",
       "18                            Gym      Asian Restaurant   \n",
       "19                Bubble Tea Shop                 Hotel   \n",
       "20                 Scenic Lookout            Restaurant   \n",
       "21                      Bookstore  Fast Food Restaurant   \n",
       "23                   Dessert Shop   Arts & Crafts Store   \n",
       "24                       Boutique           Coffee Shop   \n",
       "25                   Burger Joint        Sandwich Place   \n",
       "26  Vegetarian / Vegan Restaurant      Asian Restaurant   \n",
       "28            American Restaurant  Fast Food Restaurant   \n",
       "29                           Café    Chinese Restaurant   \n",
       "30                        Dog Run                   Bar   \n",
       "34                          Hotel        Clothing Store   \n",
       "35               Sushi Restaurant           Yoga Studio   \n",
       "37                            Gym            Restaurant   \n",
       "38             Italian Restaurant                Bakery   \n",
       "40                       Beer Bar          Cocktail Bar   \n",
       "41            American Restaurant           Yoga Studio   \n",
       "42             Light Rail Station   Fried Chicken Joint   \n",
       "44         Furniture / Home Store           Yoga Studio   \n",
       "46             Italian Restaurant            Restaurant   \n",
       "47                 Sandwich Place                  Bank   \n",
       "48                           Café            Restaurant   \n",
       "\n",
       "    8th Most Common Venue        9th Most Common Venue  \\\n",
       "1              Restaurant                      Butcher   \n",
       "2              Restaurant  Eastern European Restaurant   \n",
       "3              Restaurant                 Climbing Gym   \n",
       "5        Sculpture Garden                     Boutique   \n",
       "9              Smoke Shop                         Café   \n",
       "11          Deli / Bodega           Seafood Restaurant   \n",
       "14              Bike Shop          Sporting Goods Shop   \n",
       "14              Bike Shop          Sporting Goods Shop   \n",
       "17     Chinese Restaurant                    Juice Bar   \n",
       "18          Deli / Bodega                  Salad Place   \n",
       "19                  Diner         Fast Food Restaurant   \n",
       "20                Brewery           Italian Restaurant   \n",
       "21         Discount Store                   Restaurant   \n",
       "23                 Bakery                Grocery Store   \n",
       "24  Vietnamese Restaurant           College Rec Center   \n",
       "25       Sushi Restaurant                  Supermarket   \n",
       "26            Men's Store                  Yoga Studio   \n",
       "28               Pharmacy                          Gym   \n",
       "29              Pet Store                  Yoga Studio   \n",
       "30     Italian Restaurant                 Dessert Shop   \n",
       "34          Deli / Bodega                  Salad Place   \n",
       "35              Bookstore                          Bar   \n",
       "37     Italian Restaurant               Lingerie Store   \n",
       "38            Pizza Place                         Park   \n",
       "40    Japanese Restaurant           Italian Restaurant   \n",
       "41  Neighborhood Category           Seafood Restaurant   \n",
       "42             Restaurant                         Bank   \n",
       "44    Japanese Restaurant                       Lounge   \n",
       "46            Salad Place           Seafood Restaurant   \n",
       "47     Italian Restaurant                     Beer Bar   \n",
       "48       Sushi Restaurant               Ice Cream Shop   \n",
       "\n",
       "     10th Most Common Venue Postal Code           Borough  \n",
       "1                       Pub         M5M        North York  \n",
       "2                     Beach         M5E  Downtown Toronto  \n",
       "3     Performing Arts Venue         M6K      West Toronto  \n",
       "5             Boat or Ferry         M5V  Downtown Toronto  \n",
       "9               Yoga Studio         M4Y  Downtown Toronto  \n",
       "11       Italian Restaurant         M5L  Downtown Toronto  \n",
       "14       Italian Restaurant         M3B        North York  \n",
       "14       Italian Restaurant         M3C        North York  \n",
       "17                     Bank         M2J        North York  \n",
       "18       Seafood Restaurant         M5X  Downtown Toronto  \n",
       "19              Pizza Place         M5B  Downtown Toronto  \n",
       "20                    Plaza         M5J  Downtown Toronto  \n",
       "21                Speakeasy         M6P      West Toronto  \n",
       "23           Farmers Market         M5T  Downtown Toronto  \n",
       "24       Falafel Restaurant         M6A        North York  \n",
       "25        Fish & Chips Shop         M4G         East York  \n",
       "26  New American Restaurant         M6J      West Toronto  \n",
       "28             Liquor Store         M8V         Etobicoke  \n",
       "29      Sporting Goods Shop         M4R   Central Toronto  \n",
       "30            Movie Theater         M6R      West Toronto  \n",
       "34                   Bakery         M5H  Downtown Toronto  \n",
       "35      Indie Movie Theater         M6S      West Toronto  \n",
       "37       Seafood Restaurant         M5C  Downtown Toronto  \n",
       "38     Caribbean Restaurant         M4X  Downtown Toronto  \n",
       "40                     Park         M5W  Downtown Toronto  \n",
       "41              Cheese Shop         M4M      East Toronto  \n",
       "42         Sushi Restaurant         M4V   Central Toronto  \n",
       "44        Indian Restaurant         M4K      East Toronto  \n",
       "46           Breakfast Spot         M5K  Downtown Toronto  \n",
       "47               Beer Store         M5S  Downtown Toronto  \n",
       "48               Steakhouse         M2N        North York  "
      ],
      "text/html": "<div>\n<style scoped>\n    .dataframe tbody tr th:only-of-type {\n        vertical-align: middle;\n    }\n\n    .dataframe tbody tr th {\n        vertical-align: top;\n    }\n\n    .dataframe thead th {\n        text-align: right;\n    }\n</style>\n<table border=\"1\" class=\"dataframe\">\n  <thead>\n    <tr style=\"text-align: right;\">\n      <th></th>\n      <th>Neighborhood</th>\n      <th>1st Most Common Venue</th>\n      <th>2nd Most Common Venue</th>\n      <th>3rd Most Common Venue</th>\n      <th>4th Most Common Venue</th>\n      <th>5th Most Common Venue</th>\n      <th>6th Most Common Venue</th>\n      <th>7th Most Common Venue</th>\n      <th>8th Most Common Venue</th>\n      <th>9th Most Common Venue</th>\n      <th>10th Most Common Venue</th>\n      <th>Postal Code</th>\n      <th>Borough</th>\n    </tr>\n  </thead>\n  <tbody>\n    <tr>\n      <td>1</td>\n      <td>Bedford Park, Lawrence Manor East</td>\n      <td>Sandwich Place</td>\n      <td>Coffee Shop</td>\n      <td>Italian Restaurant</td>\n      <td>Comfort Food Restaurant</td>\n      <td>Thai Restaurant</td>\n      <td>Boutique</td>\n      <td>Juice Bar</td>\n      <td>Restaurant</td>\n      <td>Butcher</td>\n      <td>Pub</td>\n      <td>M5M</td>\n      <td>North York</td>\n    </tr>\n    <tr>\n      <td>2</td>\n      <td>Berczy Park</td>\n      <td>Coffee Shop</td>\n      <td>Cocktail Bar</td>\n      <td>Seafood Restaurant</td>\n      <td>Beer Bar</td>\n      <td>Farmers Market</td>\n      <td>Bakery</td>\n      <td>Cheese Shop</td>\n      <td>Restaurant</td>\n      <td>Eastern European Restaurant</td>\n      <td>Beach</td>\n      <td>M5E</td>\n      <td>Downtown Toronto</td>\n    </tr>\n    <tr>\n      <td>3</td>\n      <td>Brockton, Parkdale Village, Exhibition Place</td>\n      <td>Café</td>\n      <td>Coffee Shop</td>\n      <td>Breakfast Spot</td>\n      <td>Bakery</td>\n      <td>Pet Store</td>\n      <td>Stadium</td>\n      <td>Burrito Place</td>\n      <td>Restaurant</td>\n      <td>Climbing Gym</td>\n      <td>Performing Arts Venue</td>\n      <td>M6K</td>\n      <td>West Toronto</td>\n    </tr>\n    <tr>\n      <td>5</td>\n      <td>CN Tower, King and Spadina, Railway Lands, Har...</td>\n      <td>Airport Lounge</td>\n      <td>Airport Terminal</td>\n      <td>Harbor / Marina</td>\n      <td>Bar</td>\n      <td>Coffee Shop</td>\n      <td>Plane</td>\n      <td>Rental Car Location</td>\n      <td>Sculpture Garden</td>\n      <td>Boutique</td>\n      <td>Boat or Ferry</td>\n      <td>M5V</td>\n      <td>Downtown Toronto</td>\n    </tr>\n    <tr>\n      <td>9</td>\n      <td>Church and Wellesley</td>\n      <td>Coffee Shop</td>\n      <td>Sushi Restaurant</td>\n      <td>Japanese Restaurant</td>\n      <td>Restaurant</td>\n      <td>Gay Bar</td>\n      <td>Fast Food Restaurant</td>\n      <td>Pub</td>\n      <td>Smoke Shop</td>\n      <td>Café</td>\n      <td>Yoga Studio</td>\n      <td>M4Y</td>\n      <td>Downtown Toronto</td>\n    </tr>\n    <tr>\n      <td>11</td>\n      <td>Commerce Court, Victoria Hotel</td>\n      <td>Coffee Shop</td>\n      <td>Restaurant</td>\n      <td>Café</td>\n      <td>Hotel</td>\n      <td>American Restaurant</td>\n      <td>Gym</td>\n      <td>Japanese Restaurant</td>\n      <td>Deli / Bodega</td>\n      <td>Seafood Restaurant</td>\n      <td>Italian Restaurant</td>\n      <td>M5L</td>\n      <td>Downtown Toronto</td>\n    </tr>\n    <tr>\n      <td>14</td>\n      <td>Don Mills</td>\n      <td>Gym</td>\n      <td>Beer Store</td>\n      <td>Coffee Shop</td>\n      <td>Restaurant</td>\n      <td>Japanese Restaurant</td>\n      <td>Caribbean Restaurant</td>\n      <td>Sandwich Place</td>\n      <td>Bike Shop</td>\n      <td>Sporting Goods Shop</td>\n      <td>Italian Restaurant</td>\n      <td>M3B</td>\n      <td>North York</td>\n    </tr>\n    <tr>\n      <td>14</td>\n      <td>Don Mills</td>\n      <td>Gym</td>\n      <td>Beer Store</td>\n      <td>Coffee Shop</td>\n      <td>Restaurant</td>\n      <td>Japanese Restaurant</td>\n      <td>Caribbean Restaurant</td>\n      <td>Sandwich Place</td>\n      <td>Bike Shop</td>\n      <td>Sporting Goods Shop</td>\n      <td>Italian Restaurant</td>\n      <td>M3C</td>\n      <td>North York</td>\n    </tr>\n    <tr>\n      <td>17</td>\n      <td>Fairview, Henry Farm, Oriole</td>\n      <td>Clothing Store</td>\n      <td>Coffee Shop</td>\n      <td>Fast Food Restaurant</td>\n      <td>Shoe Store</td>\n      <td>Restaurant</td>\n      <td>Japanese Restaurant</td>\n      <td>Food Court</td>\n      <td>Chinese Restaurant</td>\n      <td>Juice Bar</td>\n      <td>Bank</td>\n      <td>M2J</td>\n      <td>North York</td>\n    </tr>\n    <tr>\n      <td>18</td>\n      <td>First Canadian Place, Underground city</td>\n      <td>Coffee Shop</td>\n      <td>Café</td>\n      <td>Hotel</td>\n      <td>Japanese Restaurant</td>\n      <td>Restaurant</td>\n      <td>Gym</td>\n      <td>Asian Restaurant</td>\n      <td>Deli / Bodega</td>\n      <td>Salad Place</td>\n      <td>Seafood Restaurant</td>\n      <td>M5X</td>\n      <td>Downtown Toronto</td>\n    </tr>\n    <tr>\n      <td>19</td>\n      <td>Garden District, Ryerson</td>\n      <td>Coffee Shop</td>\n      <td>Clothing Store</td>\n      <td>Café</td>\n      <td>Cosmetics Shop</td>\n      <td>Middle Eastern Restaurant</td>\n      <td>Bubble Tea Shop</td>\n      <td>Hotel</td>\n      <td>Diner</td>\n      <td>Fast Food Restaurant</td>\n      <td>Pizza Place</td>\n      <td>M5B</td>\n      <td>Downtown Toronto</td>\n    </tr>\n    <tr>\n      <td>20</td>\n      <td>Harbourfront East, Union Station, Toronto Islands</td>\n      <td>Coffee Shop</td>\n      <td>Aquarium</td>\n      <td>Café</td>\n      <td>Hotel</td>\n      <td>Fried Chicken Joint</td>\n      <td>Scenic Lookout</td>\n      <td>Restaurant</td>\n      <td>Brewery</td>\n      <td>Italian Restaurant</td>\n      <td>Plaza</td>\n      <td>M5J</td>\n      <td>Downtown Toronto</td>\n    </tr>\n    <tr>\n      <td>21</td>\n      <td>High Park, The Junction South</td>\n      <td>Mexican Restaurant</td>\n      <td>Café</td>\n      <td>Thai Restaurant</td>\n      <td>Grocery Store</td>\n      <td>Furniture / Home Store</td>\n      <td>Bookstore</td>\n      <td>Fast Food Restaurant</td>\n      <td>Discount Store</td>\n      <td>Restaurant</td>\n      <td>Speakeasy</td>\n      <td>M6P</td>\n      <td>West Toronto</td>\n    </tr>\n    <tr>\n      <td>23</td>\n      <td>Kensington Market, Chinatown, Grange Park</td>\n      <td>Café</td>\n      <td>Coffee Shop</td>\n      <td>Vegetarian / Vegan Restaurant</td>\n      <td>Vietnamese Restaurant</td>\n      <td>Mexican Restaurant</td>\n      <td>Dessert Shop</td>\n      <td>Arts &amp; Crafts Store</td>\n      <td>Bakery</td>\n      <td>Grocery Store</td>\n      <td>Farmers Market</td>\n      <td>M5T</td>\n      <td>Downtown Toronto</td>\n    </tr>\n    <tr>\n      <td>24</td>\n      <td>Lawrence Manor, Lawrence Heights</td>\n      <td>Clothing Store</td>\n      <td>Accessories Store</td>\n      <td>Sporting Goods Shop</td>\n      <td>Furniture / Home Store</td>\n      <td>Event Space</td>\n      <td>Boutique</td>\n      <td>Coffee Shop</td>\n      <td>Vietnamese Restaurant</td>\n      <td>College Rec Center</td>\n      <td>Falafel Restaurant</td>\n      <td>M6A</td>\n      <td>North York</td>\n    </tr>\n    <tr>\n      <td>25</td>\n      <td>Leaside</td>\n      <td>Sporting Goods Shop</td>\n      <td>Coffee Shop</td>\n      <td>Bank</td>\n      <td>Shopping Mall</td>\n      <td>Furniture / Home Store</td>\n      <td>Burger Joint</td>\n      <td>Sandwich Place</td>\n      <td>Sushi Restaurant</td>\n      <td>Supermarket</td>\n      <td>Fish &amp; Chips Shop</td>\n      <td>M4G</td>\n      <td>East York</td>\n    </tr>\n    <tr>\n      <td>26</td>\n      <td>Little Portugal, Trinity</td>\n      <td>Bar</td>\n      <td>Coffee Shop</td>\n      <td>Restaurant</td>\n      <td>Vietnamese Restaurant</td>\n      <td>Café</td>\n      <td>Vegetarian / Vegan Restaurant</td>\n      <td>Asian Restaurant</td>\n      <td>Men's Store</td>\n      <td>Yoga Studio</td>\n      <td>New American Restaurant</td>\n      <td>M6J</td>\n      <td>West Toronto</td>\n    </tr>\n    <tr>\n      <td>28</td>\n      <td>New Toronto, Mimico South, Humber Bay Shores</td>\n      <td>Café</td>\n      <td>Coffee Shop</td>\n      <td>Pizza Place</td>\n      <td>Bakery</td>\n      <td>Fried Chicken Joint</td>\n      <td>American Restaurant</td>\n      <td>Fast Food Restaurant</td>\n      <td>Pharmacy</td>\n      <td>Gym</td>\n      <td>Liquor Store</td>\n      <td>M8V</td>\n      <td>Etobicoke</td>\n    </tr>\n    <tr>\n      <td>29</td>\n      <td>North Toronto West, Lawrence Park</td>\n      <td>Coffee Shop</td>\n      <td>Clothing Store</td>\n      <td>Shoe Store</td>\n      <td>Salon / Barbershop</td>\n      <td>Restaurant</td>\n      <td>Café</td>\n      <td>Chinese Restaurant</td>\n      <td>Pet Store</td>\n      <td>Yoga Studio</td>\n      <td>Sporting Goods Shop</td>\n      <td>M4R</td>\n      <td>Central Toronto</td>\n    </tr>\n    <tr>\n      <td>30</td>\n      <td>Parkdale, Roncesvalles</td>\n      <td>Breakfast Spot</td>\n      <td>Gift Shop</td>\n      <td>Restaurant</td>\n      <td>Cuban Restaurant</td>\n      <td>Eastern European Restaurant</td>\n      <td>Dog Run</td>\n      <td>Bar</td>\n      <td>Italian Restaurant</td>\n      <td>Dessert Shop</td>\n      <td>Movie Theater</td>\n      <td>M6R</td>\n      <td>West Toronto</td>\n    </tr>\n    <tr>\n      <td>34</td>\n      <td>Richmond, Adelaide, King</td>\n      <td>Coffee Shop</td>\n      <td>Café</td>\n      <td>Restaurant</td>\n      <td>Thai Restaurant</td>\n      <td>Gym</td>\n      <td>Hotel</td>\n      <td>Clothing Store</td>\n      <td>Deli / Bodega</td>\n      <td>Salad Place</td>\n      <td>Bakery</td>\n      <td>M5H</td>\n      <td>Downtown Toronto</td>\n    </tr>\n    <tr>\n      <td>35</td>\n      <td>Runnymede, Swansea</td>\n      <td>Coffee Shop</td>\n      <td>Café</td>\n      <td>Pizza Place</td>\n      <td>Pub</td>\n      <td>Italian Restaurant</td>\n      <td>Sushi Restaurant</td>\n      <td>Yoga Studio</td>\n      <td>Bookstore</td>\n      <td>Bar</td>\n      <td>Indie Movie Theater</td>\n      <td>M6S</td>\n      <td>West Toronto</td>\n    </tr>\n    <tr>\n      <td>37</td>\n      <td>St. James Town</td>\n      <td>Coffee Shop</td>\n      <td>Café</td>\n      <td>Cocktail Bar</td>\n      <td>Gastropub</td>\n      <td>American Restaurant</td>\n      <td>Gym</td>\n      <td>Restaurant</td>\n      <td>Italian Restaurant</td>\n      <td>Lingerie Store</td>\n      <td>Seafood Restaurant</td>\n      <td>M5C</td>\n      <td>Downtown Toronto</td>\n    </tr>\n    <tr>\n      <td>38</td>\n      <td>St. James Town, Cabbagetown</td>\n      <td>Café</td>\n      <td>Coffee Shop</td>\n      <td>Chinese Restaurant</td>\n      <td>Restaurant</td>\n      <td>Pub</td>\n      <td>Italian Restaurant</td>\n      <td>Bakery</td>\n      <td>Pizza Place</td>\n      <td>Park</td>\n      <td>Caribbean Restaurant</td>\n      <td>M4X</td>\n      <td>Downtown Toronto</td>\n    </tr>\n    <tr>\n      <td>40</td>\n      <td>Stn A PO Boxes</td>\n      <td>Coffee Shop</td>\n      <td>Restaurant</td>\n      <td>Hotel</td>\n      <td>Seafood Restaurant</td>\n      <td>Café</td>\n      <td>Beer Bar</td>\n      <td>Cocktail Bar</td>\n      <td>Japanese Restaurant</td>\n      <td>Italian Restaurant</td>\n      <td>Park</td>\n      <td>M5W</td>\n      <td>Downtown Toronto</td>\n    </tr>\n    <tr>\n      <td>41</td>\n      <td>Studio District</td>\n      <td>Coffee Shop</td>\n      <td>Brewery</td>\n      <td>Gastropub</td>\n      <td>Café</td>\n      <td>Bakery</td>\n      <td>American Restaurant</td>\n      <td>Yoga Studio</td>\n      <td>Neighborhood Category</td>\n      <td>Seafood Restaurant</td>\n      <td>Cheese Shop</td>\n      <td>M4M</td>\n      <td>East Toronto</td>\n    </tr>\n    <tr>\n      <td>42</td>\n      <td>Summerhill West, Rathnelly, South Hill, Forest...</td>\n      <td>Coffee Shop</td>\n      <td>Pub</td>\n      <td>Pizza Place</td>\n      <td>Supermarket</td>\n      <td>Bagel Shop</td>\n      <td>Light Rail Station</td>\n      <td>Fried Chicken Joint</td>\n      <td>Restaurant</td>\n      <td>Bank</td>\n      <td>Sushi Restaurant</td>\n      <td>M4V</td>\n      <td>Central Toronto</td>\n    </tr>\n    <tr>\n      <td>44</td>\n      <td>The Danforth West, Riverdale</td>\n      <td>Greek Restaurant</td>\n      <td>Coffee Shop</td>\n      <td>Italian Restaurant</td>\n      <td>Ice Cream Shop</td>\n      <td>Bookstore</td>\n      <td>Furniture / Home Store</td>\n      <td>Yoga Studio</td>\n      <td>Japanese Restaurant</td>\n      <td>Lounge</td>\n      <td>Indian Restaurant</td>\n      <td>M4K</td>\n      <td>East Toronto</td>\n    </tr>\n    <tr>\n      <td>46</td>\n      <td>Toronto Dominion Centre, Design Exchange</td>\n      <td>Coffee Shop</td>\n      <td>Hotel</td>\n      <td>Café</td>\n      <td>Japanese Restaurant</td>\n      <td>American Restaurant</td>\n      <td>Italian Restaurant</td>\n      <td>Restaurant</td>\n      <td>Salad Place</td>\n      <td>Seafood Restaurant</td>\n      <td>Breakfast Spot</td>\n      <td>M5K</td>\n      <td>Downtown Toronto</td>\n    </tr>\n    <tr>\n      <td>47</td>\n      <td>University of Toronto, Harbord</td>\n      <td>Café</td>\n      <td>Bakery</td>\n      <td>Bar</td>\n      <td>Japanese Restaurant</td>\n      <td>Bookstore</td>\n      <td>Sandwich Place</td>\n      <td>Bank</td>\n      <td>Italian Restaurant</td>\n      <td>Beer Bar</td>\n      <td>Beer Store</td>\n      <td>M5S</td>\n      <td>Downtown Toronto</td>\n    </tr>\n    <tr>\n      <td>48</td>\n      <td>Willowdale, Willowdale East</td>\n      <td>Ramen Restaurant</td>\n      <td>Sandwich Place</td>\n      <td>Coffee Shop</td>\n      <td>Pizza Place</td>\n      <td>Shopping Mall</td>\n      <td>Café</td>\n      <td>Restaurant</td>\n      <td>Sushi Restaurant</td>\n      <td>Ice Cream Shop</td>\n      <td>Steakhouse</td>\n      <td>M2N</td>\n      <td>North York</td>\n    </tr>\n  </tbody>\n</table>\n</div>"
     },
     "metadata": {},
     "execution_count": 38
    }
   ],
   "source": [
    "toronto_cluster2 = toronto_merged.loc[toronto_merged['Cluster Labels'] == 2, toronto_merged.columns[[1] + list(range(2, toronto_merged.shape[1]-2))]]\n",
    "toronto_cluster2"
   ]
  },
  {
   "source": [
    "Classic neighborhood with a mix of bar, pubs, restaurants and shops"
   ],
   "cell_type": "markdown",
   "metadata": {}
  },
  {
   "source": [
    "### Cluster 3: Airport"
   ],
   "cell_type": "markdown",
   "metadata": {}
  },
  {
   "cell_type": "code",
   "execution_count": 39,
   "metadata": {},
   "outputs": [
    {
     "output_type": "execute_result",
     "data": {
      "text/plain": [
       "   Neighborhood 1st Most Common Venue 2nd Most Common Venue  \\\n",
       "8      Christie         Grocery Store                  Café   \n",
       "15    Downsview         Grocery Store                  Park   \n",
       "15    Downsview         Grocery Store                  Park   \n",
       "15    Downsview         Grocery Store                  Park   \n",
       "15    Downsview         Grocery Store                  Park   \n",
       "\n",
       "   3rd Most Common Venue 4th Most Common Venue 5th Most Common Venue  \\\n",
       "8                   Park           Candy Store            Baby Store   \n",
       "15               Airport         Shopping Mall        Baseball Field   \n",
       "15               Airport         Shopping Mall        Baseball Field   \n",
       "15               Airport         Shopping Mall        Baseball Field   \n",
       "15               Airport         Shopping Mall        Baseball Field   \n",
       "\n",
       "   6th Most Common Venue 7th Most Common Venue 8th Most Common Venue  \\\n",
       "8     Italian Restaurant    Athletics & Sports            Restaurant   \n",
       "15           Coffee Shop      Business Service        Discount Store   \n",
       "15           Coffee Shop      Business Service        Discount Store   \n",
       "15           Coffee Shop      Business Service        Discount Store   \n",
       "15           Coffee Shop      Business Service        Discount Store   \n",
       "\n",
       "   9th Most Common Venue 10th Most Common Venue Postal Code           Borough  \n",
       "8              Nightclub            Coffee Shop         M6G  Downtown Toronto  \n",
       "15          Home Service                   Bank         M3K        North York  \n",
       "15          Home Service                   Bank         M3L        North York  \n",
       "15          Home Service                   Bank         M3M        North York  \n",
       "15          Home Service                   Bank         M3N        North York  "
      ],
      "text/html": "<div>\n<style scoped>\n    .dataframe tbody tr th:only-of-type {\n        vertical-align: middle;\n    }\n\n    .dataframe tbody tr th {\n        vertical-align: top;\n    }\n\n    .dataframe thead th {\n        text-align: right;\n    }\n</style>\n<table border=\"1\" class=\"dataframe\">\n  <thead>\n    <tr style=\"text-align: right;\">\n      <th></th>\n      <th>Neighborhood</th>\n      <th>1st Most Common Venue</th>\n      <th>2nd Most Common Venue</th>\n      <th>3rd Most Common Venue</th>\n      <th>4th Most Common Venue</th>\n      <th>5th Most Common Venue</th>\n      <th>6th Most Common Venue</th>\n      <th>7th Most Common Venue</th>\n      <th>8th Most Common Venue</th>\n      <th>9th Most Common Venue</th>\n      <th>10th Most Common Venue</th>\n      <th>Postal Code</th>\n      <th>Borough</th>\n    </tr>\n  </thead>\n  <tbody>\n    <tr>\n      <td>8</td>\n      <td>Christie</td>\n      <td>Grocery Store</td>\n      <td>Café</td>\n      <td>Park</td>\n      <td>Candy Store</td>\n      <td>Baby Store</td>\n      <td>Italian Restaurant</td>\n      <td>Athletics &amp; Sports</td>\n      <td>Restaurant</td>\n      <td>Nightclub</td>\n      <td>Coffee Shop</td>\n      <td>M6G</td>\n      <td>Downtown Toronto</td>\n    </tr>\n    <tr>\n      <td>15</td>\n      <td>Downsview</td>\n      <td>Grocery Store</td>\n      <td>Park</td>\n      <td>Airport</td>\n      <td>Shopping Mall</td>\n      <td>Baseball Field</td>\n      <td>Coffee Shop</td>\n      <td>Business Service</td>\n      <td>Discount Store</td>\n      <td>Home Service</td>\n      <td>Bank</td>\n      <td>M3K</td>\n      <td>North York</td>\n    </tr>\n    <tr>\n      <td>15</td>\n      <td>Downsview</td>\n      <td>Grocery Store</td>\n      <td>Park</td>\n      <td>Airport</td>\n      <td>Shopping Mall</td>\n      <td>Baseball Field</td>\n      <td>Coffee Shop</td>\n      <td>Business Service</td>\n      <td>Discount Store</td>\n      <td>Home Service</td>\n      <td>Bank</td>\n      <td>M3L</td>\n      <td>North York</td>\n    </tr>\n    <tr>\n      <td>15</td>\n      <td>Downsview</td>\n      <td>Grocery Store</td>\n      <td>Park</td>\n      <td>Airport</td>\n      <td>Shopping Mall</td>\n      <td>Baseball Field</td>\n      <td>Coffee Shop</td>\n      <td>Business Service</td>\n      <td>Discount Store</td>\n      <td>Home Service</td>\n      <td>Bank</td>\n      <td>M3M</td>\n      <td>North York</td>\n    </tr>\n    <tr>\n      <td>15</td>\n      <td>Downsview</td>\n      <td>Grocery Store</td>\n      <td>Park</td>\n      <td>Airport</td>\n      <td>Shopping Mall</td>\n      <td>Baseball Field</td>\n      <td>Coffee Shop</td>\n      <td>Business Service</td>\n      <td>Discount Store</td>\n      <td>Home Service</td>\n      <td>Bank</td>\n      <td>M3N</td>\n      <td>North York</td>\n    </tr>\n  </tbody>\n</table>\n</div>"
     },
     "metadata": {},
     "execution_count": 39
    }
   ],
   "source": [
    "toronto_cluster3 = toronto_merged.loc[toronto_merged['Cluster Labels'] == 3, toronto_merged.columns[[1] + list(range(2, toronto_merged.shape[1]-2))]]\n",
    "toronto_cluster3"
   ]
  },
  {
   "source": [
    "This Cluster includes all the airport and surrondings"
   ],
   "cell_type": "markdown",
   "metadata": {}
  },
  {
   "cell_type": "code",
   "execution_count": null,
   "metadata": {},
   "outputs": [],
   "source": []
  }
 ]
}